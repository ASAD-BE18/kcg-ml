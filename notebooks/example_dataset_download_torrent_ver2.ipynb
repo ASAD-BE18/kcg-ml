{
  "nbformat": 4,
  "nbformat_minor": 0,
  "metadata": {
    "colab": {
      "provenance": []
    },
    "kernelspec": {
      "name": "python3",
      "display_name": "Python 3"
    },
    "language_info": {
      "name": "python"
    }
  },
  "cells": [
    {
      "cell_type": "markdown",
      "source": [
        "# LibTorrent Example Notebook\n",
        "▶ For downloading torrent files.\n"
      ],
      "metadata": {
        "id": "xxE-wuzcAnAP"
      }
    },
    {
      "cell_type": "markdown",
      "source": [
        "✅ Make sure you enter torrent file path and peer ip"
      ],
      "metadata": {
        "id": "VQt1LiZDCMF2"
      }
    },
    {
      "cell_type": "code",
      "source": [
        "# Path of the torrent file.\n",
        "TORRENT_FILE = 'path/to/torrent_file.torrent'\n",
        "# Peer Ip \n",
        "PEER_IP = '123.456.789.0'"
      ],
      "metadata": {
        "id": "fMQf7wedCELx"
      },
      "execution_count": null,
      "outputs": []
    },
    {
      "cell_type": "markdown",
      "source": [
        "## Intalling LibTorrent Library"
      ],
      "metadata": {
        "id": "AG8IDeeLAzNQ"
      }
    },
    {
      "cell_type": "code",
      "execution_count": 1,
      "metadata": {
        "colab": {
          "base_uri": "https://localhost:8080/"
        },
        "id": "uIKGMPmz_CdK",
        "outputId": "25096a28-7c95-446e-b779-612f61b7e75d"
      },
      "outputs": [
        {
          "output_type": "stream",
          "name": "stdout",
          "text": [
            "Looking in indexes: https://pypi.org/simple, https://us-python.pkg.dev/colab-wheels/public/simple/\n",
            "Collecting libtorrent\n",
            "  Downloading libtorrent-2.0.7-cp39-cp39-manylinux_2_12_x86_64.manylinux2010_x86_64.whl (8.6 MB)\n",
            "\u001b[2K     \u001b[90m━━━━━━━━━━━━━━━━━━━━━━━━━━━━━━━━━━━━━━━━\u001b[0m \u001b[32m8.6/8.6 MB\u001b[0m \u001b[31m62.9 MB/s\u001b[0m eta \u001b[36m0:00:00\u001b[0m\n",
            "\u001b[?25hInstalling collected packages: libtorrent\n",
            "Successfully installed libtorrent-2.0.7\n"
          ]
        }
      ],
      "source": [
        "%%capture\n",
        "!pip install libtorrent"
      ]
    },
    {
      "cell_type": "markdown",
      "source": [
        "## Importing and Initializing Session"
      ],
      "metadata": {
        "id": "j1kl3i0WA7Yz"
      }
    },
    {
      "cell_type": "code",
      "source": [
        "import libtorrent as lt\n",
        "import time\n",
        "\n",
        "# create a session object\n",
        "ses = lt.session()"
      ],
      "metadata": {
        "id": "gmVZqoZW_MNw"
      },
      "execution_count": 7,
      "outputs": []
    },
    {
      "cell_type": "markdown",
      "source": [
        "## Downloading Torrent File"
      ],
      "metadata": {
        "id": "Za4zjcZmBP58"
      }
    },
    {
      "cell_type": "code",
      "source": [
        "# add a torrent file to the session\n",
        "info = lt.torrent_info(TORRENT_FILE)\n",
        "\n",
        "h = ses.add_torrent({'ti': info, 'save_path': '.'})\n",
        "\n",
        "# start the torrent download\n",
        "print('downloading metadata...')\n",
        "while not h.has_metadata():\n",
        "    continue\n",
        "\n",
        "print('starting torrent download...')\n",
        "while h.status().state != lt.torrent_status.seeding:\n",
        "    s = h.status()\n",
        "    print('\\r%.2f%% complete (down: %.1f kb/s up: %.1f kB/s peers: %d) %s' % (\n",
        "        s.progress * 100, s.download_rate / 1000, s.upload_rate / 1000, s.num_peers, s.state), end='', flush=True)\n",
        "    time.sleep(1)\n",
        "\n",
        "print('\\ndownload complete!')\n"
      ],
      "metadata": {
        "colab": {
          "base_uri": "https://localhost:8080/"
        },
        "id": "WxVOy3UlAFU-",
        "outputId": "e5851a1c-444b-4724-edba-83717d49517e"
      },
      "execution_count": 8,
      "outputs": [
        {
          "output_type": "stream",
          "name": "stdout",
          "text": [
            "downloading metadata...\n",
            "starting torrent download...\n",
            "\r0.00% complete (down: 0.0 kb/s up: 0.0 kB/s peers: 0) checking_resume_data"
          ]
        },
        {
          "output_type": "stream",
          "name": "stderr",
          "text": [
            "<ipython-input-8-df8b147a3076>:5: DeprecationWarning: has_metadata() is deprecated\n",
            "  while not h.has_metadata():\n"
          ]
        },
        {
          "output_type": "stream",
          "name": "stdout",
          "text": [
            "98.81% complete (down: 5052.3 kb/s up: 210.3 kB/s peers: 44) downloading\n",
            "download complete!\n"
          ]
        }
      ]
    },
    {
      "cell_type": "markdown",
      "source": [
        "## Downloading From Specific Peer IP"
      ],
      "metadata": {
        "id": "PqnG92nhBuUr"
      }
    },
    {
      "cell_type": "code",
      "source": [
        "# get the IP address of the peer you want to download from\n",
        "peer_ip = PEER_IP\n",
        "\n",
        "# set a proxy for the peer\n",
        "proxy = {'type': lt.proxy_type.http, 'hostname': peer_ip, 'port': 8080}\n",
        "settings = ses.get_settings()\n",
        "settings.set_peer_proxy(proxy)\n",
        "ses.set_settings(settings)\n",
        "\n",
        "# start the torrent download\n",
        "print('downloading metadata...')\n",
        "while not h.has_metadata():\n",
        "    continue\n",
        "\n",
        "print('starting torrent download...')\n",
        "while h.status().state != lt.torrent_status.seeding:\n",
        "    s = h.status()\n",
        "    print('\\r%.2f%% complete (down: %.1f kb/s up: %.1f kB/s peers: %d) %s' % (\n",
        "        s.progress * 100, s.download_rate / 1000, s.upload_rate / 1000, s.num_peers, s.state), end='', flush=True)\n",
        "    time.sleep(1)\n",
        "\n",
        "print('\\ndownload complete!')\n"
      ],
      "metadata": {
        "id": "0zqWOHOQBrLf"
      },
      "execution_count": null,
      "outputs": []
    }
  ]
}