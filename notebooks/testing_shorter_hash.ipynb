{
 "cells": [
  {
   "attachments": {},
   "cell_type": "markdown",
   "metadata": {},
   "source": [
    "# Testing Shorter Hash"
   ]
  },
  {
   "attachments": {},
   "cell_type": "markdown",
   "metadata": {},
   "source": [
    "### Hash Shortener Object"
   ]
  },
  {
   "cell_type": "code",
   "execution_count": null,
   "metadata": {},
   "outputs": [],
   "source": [
    "import math\n",
    "\n",
    "class HashShortener():\n",
    "\n",
    "    ALPHABET = \"bcdfghjklmnpqrstvwxyz0123456789BCDFGHJKLMNPQRSTVWXYZ\"\n",
    "    BASE = len(ALPHABET)\n",
    "\n",
    "    def __init__(self, n_character = 16) -> None:\n",
    "        # Set number of character on constructor\n",
    "        self.n_character = n_character\n",
    "\n",
    "    def encode_id(self, n):\n",
    "\n",
    "        pad = self.n_character - 1\n",
    "        n = int(n + pow(self.BASE, pad))\n",
    "\n",
    "        s = []\n",
    "        t = int(math.log(n, self.BASE))\n",
    "        while True:\n",
    "            bcp = int(pow(self.BASE, t))\n",
    "            a = int(n / bcp) % self.BASE\n",
    "            s.append(self.ALPHABET[a:a+1])\n",
    "            n = n - (a * bcp)\n",
    "            t -= 1\n",
    "            if t < 0: break\n",
    "\n",
    "        return \"\".join(reversed(s))\n",
    "\n",
    "    def decode_id(self, n):\n",
    "\n",
    "        n = \"\".join(reversed(n))\n",
    "        s = 0\n",
    "        l = len(n) - 1\n",
    "        t = 0\n",
    "        while True:\n",
    "            bcpow = int(pow(self.BASE, l - t))\n",
    "            s = s + self.ALPHABET.index(n[t:t+1]) * bcpow\n",
    "            t += 1\n",
    "            if t > l: break\n",
    "\n",
    "        pad = self.n_character - 1\n",
    "        s = int(s - pow(self.BASE, pad))\n",
    "\n",
    "        return int(s)\n",
    "    \n",
    "hash_shortener = HashShortener()"
   ]
  },
  {
   "attachments": {},
   "cell_type": "markdown",
   "metadata": {},
   "source": [
    "### Create Random Data for Testing"
   ]
  },
  {
   "cell_type": "code",
   "execution_count": null,
   "metadata": {},
   "outputs": [],
   "source": [
    "import random\n",
    "\n",
    "# Create random number - Hex 128 bits\n",
    "random_test_hash = random.getrandbits(128).to_bytes(16, 'big').hex()\n",
    "print (f'Random Test Hash : {random_test_hash}')"
   ]
  },
  {
   "attachments": {},
   "cell_type": "markdown",
   "metadata": {},
   "source": [
    "### Shorten Hash"
   ]
  },
  {
   "cell_type": "code",
   "execution_count": null,
   "metadata": {},
   "outputs": [],
   "source": [
    "# Convert random_test_hash from hex to int first\n",
    "int_random_test_hash = int(random_test_hash, 16)\n",
    "\n",
    "# Shorten the hash\n",
    "hash_shortener.encode_id(int_random_test_hash)"
   ]
  }
 ],
 "metadata": {
  "kernelspec": {
   "display_name": "env",
   "language": "python",
   "name": "python3"
  },
  "language_info": {
   "codemirror_mode": {
    "name": "ipython",
    "version": 3
   },
   "file_extension": ".py",
   "mimetype": "text/x-python",
   "name": "python",
   "nbconvert_exporter": "python",
   "pygments_lexer": "ipython3",
   "version": "3.9.4"
  },
  "orig_nbformat": 4
 },
 "nbformat": 4,
 "nbformat_minor": 2
}
