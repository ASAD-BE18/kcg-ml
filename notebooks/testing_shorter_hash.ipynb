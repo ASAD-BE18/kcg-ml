{
 "cells": [
  {
   "attachments": {},
   "cell_type": "markdown",
   "metadata": {},
   "source": [
    "# Testing Shorter Hash"
   ]
  },
  {
   "attachments": {},
   "cell_type": "markdown",
   "metadata": {},
   "source": [
    "### Hash Shortener Object"
   ]
  },
  {
   "cell_type": "code",
   "execution_count": 26,
   "metadata": {},
   "outputs": [],
   "source": [
    "import math\n",
    "\n",
    "class HashShortener():\n",
    "\n",
    "    ALPHABET = \"bcdfghjklmnpqrstvwxyz0123456789BCDFGHJKLMNPQRSTVWXYZ\"\n",
    "    BASE = len(ALPHABET)\n",
    "\n",
    "    def __init__(self, n_character = 16) -> None:\n",
    "        # Set number of character on constructor\n",
    "        self.n_character = n_character\n",
    "\n",
    "    def encode_id(self, n):\n",
    "\n",
    "        pad = self.n_character - 1\n",
    "        n = int(n + pow(self.BASE, pad))\n",
    "\n",
    "        s = []\n",
    "        t = int(math.log(n, self.BASE))\n",
    "        while True:\n",
    "            bcp = int(pow(self.BASE, t))\n",
    "            a = int(n / bcp) % self.BASE\n",
    "            s.append(self.ALPHABET[a:a+1])\n",
    "            n = n - (a * bcp)\n",
    "            t -= 1\n",
    "            if t < 0: break\n",
    "\n",
    "        if len(s) > self.n_character:\n",
    "            print (f'[WARNING] Length of output hash is {len(s)}, truncated to 16')\n",
    "\n",
    "        return \"\".join(reversed(s[-self.n_character:]))\n",
    "\n",
    "    def decode_id(self, n):\n",
    "\n",
    "        n = \"\".join(reversed(n))\n",
    "        s = 0\n",
    "        l = len(n) - 1\n",
    "        t = 0\n",
    "        while True:\n",
    "            bcpow = int(pow(self.BASE, l - t))\n",
    "            s = s + self.ALPHABET.index(n[t:t+1]) * bcpow\n",
    "            t += 1\n",
    "            if t > l: break\n",
    "\n",
    "        pad = self.n_character - 1\n",
    "        s = int(s - pow(self.BASE, pad))\n",
    "    \n",
    "hash_shortener = HashShortener(16)"
   ]
  },
  {
   "attachments": {},
   "cell_type": "markdown",
   "metadata": {},
   "source": [
    "### Create Random Data for Testing"
   ]
  },
  {
   "cell_type": "code",
   "execution_count": 17,
   "metadata": {},
   "outputs": [
    {
     "name": "stdout",
     "output_type": "stream",
     "text": [
      "Random Test Hash : b44dd450d0f07501f34b2f5a6039f58f7e5d6fc435500f1c37f082d67fd1f516\n"
     ]
    }
   ],
   "source": [
    "import random\n",
    "\n",
    "# Create random number - Hex 256 bits\n",
    "random_test_hash = random.getrandbits(256).to_bytes(32, 'big').hex()\n",
    "print (f'Random Test Hash : {random_test_hash}')"
   ]
  },
  {
   "cell_type": "code",
   "execution_count": 27,
   "metadata": {},
   "outputs": [
    {
     "name": "stdout",
     "output_type": "stream",
     "text": [
      "[WARNING] Length of output hash is 45, truncated to 16\n",
      "short_hash_1: yY7wVWdN9QbWgXzt\n",
      "[WARNING] Length of output hash is 45, truncated to 16\n",
      "short_hash_2: zY7wVWdN9QbWgXzt\n",
      "short_hash_1 == short_hash_2 -> False\n",
      "[WARNING] Length of output hash is 45, truncated to 16\n",
      "short_hash_3: kcRcCrpXK1bz1w0B\n",
      "short_hash_1 == short_hash_2 -> False\n"
     ]
    }
   ],
   "source": [
    "# Test hash\n",
    "test_hash = 'b2988c42bdfe9051c928f93f433c67080bb46b33c2c7957414c2160109236a3b'\n",
    "\n",
    "# Convert random_test_hash from hex to int first\n",
    "int_random_test_hash = int(test_hash, 16)\n",
    "# Shorten the hash\n",
    "short_hash_1 = hash_shortener.encode_id(int_random_test_hash)\n",
    "print (f'short_hash_1: {short_hash_1}')\n",
    "\n",
    "# Changed the last 4 bits -> 'b' to 'c'\n",
    "test_hash_2 = 'b2988c42bdfe9051c928f93f433c67080bb46b33c2c7957414c2160109236a3c'\n",
    "# Convert random_test_hash from hex to int first\n",
    "int_test_hash_2 = int(test_hash_2, 16)\n",
    "# Shorten the hash\n",
    "short_hash_2= hash_shortener.encode_id(int_test_hash_2)\n",
    "print (f'short_hash_2: {short_hash_2}')\n",
    "print (f'short_hash_1 == short_hash_2 -> {short_hash_1 == short_hash_2}')\n",
    "\n",
    "# Changed the first 4 bits -> 'b' to 'c'\n",
    "test_hash_3 = 'c2988c42bdfe9051c928f93f433c67080bb46b33c2c7957414c2160109236a3b'\n",
    "# Convert random_test_hash from hex to int first\n",
    "int_test_hash_3 = int(test_hash_3, 16)\n",
    "# Shorten the hash\n",
    "short_hash_3 = hash_shortener.encode_id(int_test_hash_3)\n",
    "print (f'short_hash_3: {short_hash_3}')\n",
    "print (f'short_hash_1 == short_hash_2 -> {short_hash_1 == short_hash_3}')\n",
    "\n"
   ]
  },
  {
   "attachments": {},
   "cell_type": "markdown",
   "metadata": {},
   "source": [
    "### Shorten Hash"
   ]
  },
  {
   "cell_type": "code",
   "execution_count": 17,
   "metadata": {},
   "outputs": [
    {
     "name": "stdout",
     "output_type": "stream",
     "text": [
      "<class 'int'>\n",
      "len: 23: short_hash: 7v0QMP37PmplZr0bcP509Sf\n"
     ]
    }
   ],
   "source": [
    "# Convert random_test_hash from hex to int first\n",
    "int_random_test_hash = int(random_test_hash, 16)\n",
    "print (type(int_random_test_hash))\n",
    "\n",
    "# Shorten the hash\n",
    "short_hash = hash_shortener.encode_id(int_random_test_hash)\n",
    "print (f'len: {len(short_hash)}: short_hash: {short_hash}')"
   ]
  },
  {
   "cell_type": "code",
   "execution_count": 43,
   "metadata": {},
   "outputs": [
    {
     "name": "stdout",
     "output_type": "stream",
     "text": [
      "52\n",
      "3\n",
      "140610\n",
      "3\n"
     ]
    }
   ],
   "source": [
    "ALPHABET = \"bcdfghjklmnpqrstvwxyz0123456789BCDFGHJKLMNPQRSTVWXYZ\"\n",
    "BASE = len(ALPHABET)\n",
    "print (BASE)\n",
    "\n",
    "n = 2\n",
    "n_character = 4\n",
    "\n",
    "pad = n_character - 1\n",
    "print (pad)\n",
    "\n",
    "n = int(n + pow(BASE, pad))\n",
    "\n",
    "print (n)\n",
    "s = []\n",
    "t = int(math.log(n, BASE))\n",
    "print (t)\n",
    "        # while True:\n",
    "        #     bcp = int(pow(self.BASE, t))\n",
    "        #     a = int(n / bcp) % self.BASE\n",
    "        #     s.append(self.ALPHABET[a:a+1])\n",
    "        #     n = n - (a * bcp)\n",
    "        #     t -= 1\n",
    "        #     if t < 0: break\n",
    "\n",
    "        # return \"\".join(reversed(s))"
   ]
  },
  {
   "cell_type": "code",
   "execution_count": 46,
   "metadata": {},
   "outputs": [
    {
     "data": {
      "text/plain": [
       "8"
      ]
     },
     "execution_count": 46,
     "metadata": {},
     "output_type": "execute_result"
    }
   ],
   "source": [
    "import math\n",
    "\n",
    "math.log(100, 10)\n",
    "pow(2, 3)"
   ]
  }
 ],
 "metadata": {
  "kernelspec": {
   "display_name": "env",
   "language": "python",
   "name": "python3"
  },
  "language_info": {
   "codemirror_mode": {
    "name": "ipython",
    "version": 3
   },
   "file_extension": ".py",
   "mimetype": "text/x-python",
   "name": "python",
   "nbconvert_exporter": "python",
   "pygments_lexer": "ipython3",
   "version": "3.9.4"
  },
  "orig_nbformat": 4
 },
 "nbformat": 4,
 "nbformat_minor": 2
}
