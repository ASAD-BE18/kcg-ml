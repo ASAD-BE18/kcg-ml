{
  "nbformat": 4,
  "nbformat_minor": 0,
  "metadata": {
    "colab": {
      "provenance": []
    },
    "kernelspec": {
      "name": "python3",
      "display_name": "Python 3"
    },
    "language_info": {
      "name": "python"
    },
    "accelerator": "GPU",
    "gpuClass": "standard",
    "widgets": {
      "application/vnd.jupyter.widget-state+json": {
        "282b989b237e4c6aa1cb7f8b1f601876": {
          "model_module": "@jupyter-widgets/controls",
          "model_name": "HBoxModel",
          "model_module_version": "1.5.0",
          "state": {
            "_dom_classes": [],
            "_model_module": "@jupyter-widgets/controls",
            "_model_module_version": "1.5.0",
            "_model_name": "HBoxModel",
            "_view_count": null,
            "_view_module": "@jupyter-widgets/controls",
            "_view_module_version": "1.5.0",
            "_view_name": "HBoxView",
            "box_style": "",
            "children": [
              "IPY_MODEL_03700939c5574bcc955bc1deeba66e6d",
              "IPY_MODEL_023c8bce7baf47fc90a83caa90f4c371",
              "IPY_MODEL_1be9a18287b543919becf659d490c4ba"
            ],
            "layout": "IPY_MODEL_de23eec47aba48b495e6c3bc133b97a0"
          }
        },
        "03700939c5574bcc955bc1deeba66e6d": {
          "model_module": "@jupyter-widgets/controls",
          "model_name": "HTMLModel",
          "model_module_version": "1.5.0",
          "state": {
            "_dom_classes": [],
            "_model_module": "@jupyter-widgets/controls",
            "_model_module_version": "1.5.0",
            "_model_name": "HTMLModel",
            "_view_count": null,
            "_view_module": "@jupyter-widgets/controls",
            "_view_module_version": "1.5.0",
            "_view_name": "HTMLView",
            "description": "",
            "description_tooltip": null,
            "layout": "IPY_MODEL_0b6eaba6ba5b4d02b407c777eb9d50fc",
            "placeholder": "​",
            "style": "IPY_MODEL_868b5f753b5246dca592bdc7b26f70d7",
            "value": "Downloading (…)ip_pytorch_model.bin: 100%"
          }
        },
        "023c8bce7baf47fc90a83caa90f4c371": {
          "model_module": "@jupyter-widgets/controls",
          "model_name": "FloatProgressModel",
          "model_module_version": "1.5.0",
          "state": {
            "_dom_classes": [],
            "_model_module": "@jupyter-widgets/controls",
            "_model_module_version": "1.5.0",
            "_model_name": "FloatProgressModel",
            "_view_count": null,
            "_view_module": "@jupyter-widgets/controls",
            "_view_module_version": "1.5.0",
            "_view_name": "ProgressView",
            "bar_style": "success",
            "description": "",
            "description_tooltip": null,
            "layout": "IPY_MODEL_fa66ec38f81b440e92aa3941af7c18c4",
            "max": 1710631365,
            "min": 0,
            "orientation": "horizontal",
            "style": "IPY_MODEL_65363b2ab7cd4c4a80178500c50fcf31",
            "value": 1710631365
          }
        },
        "1be9a18287b543919becf659d490c4ba": {
          "model_module": "@jupyter-widgets/controls",
          "model_name": "HTMLModel",
          "model_module_version": "1.5.0",
          "state": {
            "_dom_classes": [],
            "_model_module": "@jupyter-widgets/controls",
            "_model_module_version": "1.5.0",
            "_model_name": "HTMLModel",
            "_view_count": null,
            "_view_module": "@jupyter-widgets/controls",
            "_view_module_version": "1.5.0",
            "_view_name": "HTMLView",
            "description": "",
            "description_tooltip": null,
            "layout": "IPY_MODEL_144521043f56487ba50e15fb18aa0a85",
            "placeholder": "​",
            "style": "IPY_MODEL_db3f26c58b1c4f4d9c1b00264900d0ed",
            "value": " 1.71G/1.71G [00:12&lt;00:00, 127MB/s]"
          }
        },
        "de23eec47aba48b495e6c3bc133b97a0": {
          "model_module": "@jupyter-widgets/base",
          "model_name": "LayoutModel",
          "model_module_version": "1.2.0",
          "state": {
            "_model_module": "@jupyter-widgets/base",
            "_model_module_version": "1.2.0",
            "_model_name": "LayoutModel",
            "_view_count": null,
            "_view_module": "@jupyter-widgets/base",
            "_view_module_version": "1.2.0",
            "_view_name": "LayoutView",
            "align_content": null,
            "align_items": null,
            "align_self": null,
            "border": null,
            "bottom": null,
            "display": null,
            "flex": null,
            "flex_flow": null,
            "grid_area": null,
            "grid_auto_columns": null,
            "grid_auto_flow": null,
            "grid_auto_rows": null,
            "grid_column": null,
            "grid_gap": null,
            "grid_row": null,
            "grid_template_areas": null,
            "grid_template_columns": null,
            "grid_template_rows": null,
            "height": null,
            "justify_content": null,
            "justify_items": null,
            "left": null,
            "margin": null,
            "max_height": null,
            "max_width": null,
            "min_height": null,
            "min_width": null,
            "object_fit": null,
            "object_position": null,
            "order": null,
            "overflow": null,
            "overflow_x": null,
            "overflow_y": null,
            "padding": null,
            "right": null,
            "top": null,
            "visibility": null,
            "width": null
          }
        },
        "0b6eaba6ba5b4d02b407c777eb9d50fc": {
          "model_module": "@jupyter-widgets/base",
          "model_name": "LayoutModel",
          "model_module_version": "1.2.0",
          "state": {
            "_model_module": "@jupyter-widgets/base",
            "_model_module_version": "1.2.0",
            "_model_name": "LayoutModel",
            "_view_count": null,
            "_view_module": "@jupyter-widgets/base",
            "_view_module_version": "1.2.0",
            "_view_name": "LayoutView",
            "align_content": null,
            "align_items": null,
            "align_self": null,
            "border": null,
            "bottom": null,
            "display": null,
            "flex": null,
            "flex_flow": null,
            "grid_area": null,
            "grid_auto_columns": null,
            "grid_auto_flow": null,
            "grid_auto_rows": null,
            "grid_column": null,
            "grid_gap": null,
            "grid_row": null,
            "grid_template_areas": null,
            "grid_template_columns": null,
            "grid_template_rows": null,
            "height": null,
            "justify_content": null,
            "justify_items": null,
            "left": null,
            "margin": null,
            "max_height": null,
            "max_width": null,
            "min_height": null,
            "min_width": null,
            "object_fit": null,
            "object_position": null,
            "order": null,
            "overflow": null,
            "overflow_x": null,
            "overflow_y": null,
            "padding": null,
            "right": null,
            "top": null,
            "visibility": null,
            "width": null
          }
        },
        "868b5f753b5246dca592bdc7b26f70d7": {
          "model_module": "@jupyter-widgets/controls",
          "model_name": "DescriptionStyleModel",
          "model_module_version": "1.5.0",
          "state": {
            "_model_module": "@jupyter-widgets/controls",
            "_model_module_version": "1.5.0",
            "_model_name": "DescriptionStyleModel",
            "_view_count": null,
            "_view_module": "@jupyter-widgets/base",
            "_view_module_version": "1.2.0",
            "_view_name": "StyleView",
            "description_width": ""
          }
        },
        "fa66ec38f81b440e92aa3941af7c18c4": {
          "model_module": "@jupyter-widgets/base",
          "model_name": "LayoutModel",
          "model_module_version": "1.2.0",
          "state": {
            "_model_module": "@jupyter-widgets/base",
            "_model_module_version": "1.2.0",
            "_model_name": "LayoutModel",
            "_view_count": null,
            "_view_module": "@jupyter-widgets/base",
            "_view_module_version": "1.2.0",
            "_view_name": "LayoutView",
            "align_content": null,
            "align_items": null,
            "align_self": null,
            "border": null,
            "bottom": null,
            "display": null,
            "flex": null,
            "flex_flow": null,
            "grid_area": null,
            "grid_auto_columns": null,
            "grid_auto_flow": null,
            "grid_auto_rows": null,
            "grid_column": null,
            "grid_gap": null,
            "grid_row": null,
            "grid_template_areas": null,
            "grid_template_columns": null,
            "grid_template_rows": null,
            "height": null,
            "justify_content": null,
            "justify_items": null,
            "left": null,
            "margin": null,
            "max_height": null,
            "max_width": null,
            "min_height": null,
            "min_width": null,
            "object_fit": null,
            "object_position": null,
            "order": null,
            "overflow": null,
            "overflow_x": null,
            "overflow_y": null,
            "padding": null,
            "right": null,
            "top": null,
            "visibility": null,
            "width": null
          }
        },
        "65363b2ab7cd4c4a80178500c50fcf31": {
          "model_module": "@jupyter-widgets/controls",
          "model_name": "ProgressStyleModel",
          "model_module_version": "1.5.0",
          "state": {
            "_model_module": "@jupyter-widgets/controls",
            "_model_module_version": "1.5.0",
            "_model_name": "ProgressStyleModel",
            "_view_count": null,
            "_view_module": "@jupyter-widgets/base",
            "_view_module_version": "1.2.0",
            "_view_name": "StyleView",
            "bar_color": null,
            "description_width": ""
          }
        },
        "144521043f56487ba50e15fb18aa0a85": {
          "model_module": "@jupyter-widgets/base",
          "model_name": "LayoutModel",
          "model_module_version": "1.2.0",
          "state": {
            "_model_module": "@jupyter-widgets/base",
            "_model_module_version": "1.2.0",
            "_model_name": "LayoutModel",
            "_view_count": null,
            "_view_module": "@jupyter-widgets/base",
            "_view_module_version": "1.2.0",
            "_view_name": "LayoutView",
            "align_content": null,
            "align_items": null,
            "align_self": null,
            "border": null,
            "bottom": null,
            "display": null,
            "flex": null,
            "flex_flow": null,
            "grid_area": null,
            "grid_auto_columns": null,
            "grid_auto_flow": null,
            "grid_auto_rows": null,
            "grid_column": null,
            "grid_gap": null,
            "grid_row": null,
            "grid_template_areas": null,
            "grid_template_columns": null,
            "grid_template_rows": null,
            "height": null,
            "justify_content": null,
            "justify_items": null,
            "left": null,
            "margin": null,
            "max_height": null,
            "max_width": null,
            "min_height": null,
            "min_width": null,
            "object_fit": null,
            "object_position": null,
            "order": null,
            "overflow": null,
            "overflow_x": null,
            "overflow_y": null,
            "padding": null,
            "right": null,
            "top": null,
            "visibility": null,
            "width": null
          }
        },
        "db3f26c58b1c4f4d9c1b00264900d0ed": {
          "model_module": "@jupyter-widgets/controls",
          "model_name": "DescriptionStyleModel",
          "model_module_version": "1.5.0",
          "state": {
            "_model_module": "@jupyter-widgets/controls",
            "_model_module_version": "1.5.0",
            "_model_name": "DescriptionStyleModel",
            "_view_count": null,
            "_view_module": "@jupyter-widgets/base",
            "_view_module_version": "1.2.0",
            "_view_name": "StyleView",
            "description_width": ""
          }
        }
      }
    }
  },
  "cells": [
    {
      "cell_type": "markdown",
      "source": [
        "**Import the required modules**"
      ],
      "metadata": {
        "id": "ThYBpsZwvw53"
      }
    },
    {
      "cell_type": "code",
      "execution_count": 1,
      "metadata": {
        "id": "Rwb4-GCQvkWJ"
      },
      "outputs": [],
      "source": [
        "import torch\n",
        "if torch.cuda.is_available():\n",
        "    device = \"cuda\"\n",
        "else:\n",
        "    print ('[WARNING] CUDA/GPU is not available! Compute-intensive scripts on this notebook will be run on CPU.')\n",
        "    device =  \"cpu\""
      ]
    },
    {
      "cell_type": "markdown",
      "source": [
        "Clone the kcg-ml repo as it has all the required utils and codes from preprocessing the image datasets to training the models and using them to classify the images."
      ],
      "metadata": {
        "id": "Wuz4H21sFYsP"
      }
    },
    {
      "cell_type": "code",
      "source": [
        "!git clone https://github.com/kk-digital/kcg-ml\n",
        "%cd kcg-ml"
      ],
      "metadata": {
        "colab": {
          "base_uri": "https://localhost:8080/"
        },
        "id": "7eQfH-HmEiqw",
        "outputId": "d21db6f9-26e4-47b2-a280-f8fdb9eb7295"
      },
      "execution_count": 2,
      "outputs": [
        {
          "output_type": "stream",
          "name": "stdout",
          "text": [
            "Cloning into 'kcg-ml'...\n",
            "remote: Enumerating objects: 3051, done.\u001b[K\n",
            "remote: Counting objects: 100% (1043/1043), done.\u001b[K\n",
            "remote: Compressing objects: 100% (412/412), done.\u001b[K\n",
            "remote: Total 3051 (delta 666), reused 954 (delta 626), pack-reused 2008\u001b[K\n",
            "Receiving objects: 100% (3051/3051), 26.61 MiB | 30.45 MiB/s, done.\n",
            "Resolving deltas: 100% (1813/1813), done.\n",
            "/content/kcg-ml\n"
          ]
        }
      ]
    },
    {
      "cell_type": "code",
      "source": [
        "#@title Download Dataset\n",
        "%%capture\n",
        "# Mega CMD Requirements\n",
        "!apt install libmms0 libc-ares2 libc6 libcrypto++6 libgcc1 libmediainfo0v5 libpcre3 libpcrecpp0v5 libssl1.1 libstdc++6 libzen0v5 zlib1g apt-transport-https\n",
        "!apt --fix-broken install\n",
        "\n",
        "# Mega CMD Download and Installation\n",
        "!wget https://mega.nz/linux/MEGAsync/xUbuntu_18.04/amd64/megacmd-xUbuntu_18.04_amd64.deb\n",
        "!sudo dpkg -i megacmd-xUbuntu_18.04_amd64.deb\n",
        "\n",
        "import os\n",
        "import contextlib\n",
        "from subprocess import Popen, PIPE, STDOUT\n",
        "\n",
        "# Download URL on Mega\n",
        "tagged_dataset_url = 'https://mega.nz/file/8RhFRISJ#vlQhjBp5hrNtQzFnRVQtD_ilHfIyLOSrlwVXEb3t1UM'\n",
        "other_dataset_url  = 'https://mega.nz/file/5FhGkRjD#yFihfhr1RMHfPTffhPB4tQtJsnn_HBYFOSfqdPOrp78'\n",
        "# Destination path for download\n",
        "destination_path = './downloads'\n",
        "os.makedirs(destination_path, exist_ok=True)\n",
        "\n",
        "# Function for printing the download progress\n",
        "def print_progress(proc, stream='stdout'):\n",
        "  newlines = ['\\n', '\\r\\n', '\\r']\n",
        "  stream = getattr(proc, stream)\n",
        "  with contextlib.closing(stream):\n",
        "      while True:\n",
        "          out = []\n",
        "          last = stream.read(1)\n",
        "          # Don't loop forever\n",
        "          if last == '' and proc.poll() is not None:\n",
        "              break\n",
        "          while last not in newlines:\n",
        "              # Don't loop forever\n",
        "              if last == '' and proc.poll() is not None:\n",
        "                  break\n",
        "              out.append(last)\n",
        "              last = stream.read(1)\n",
        "          out = ''.join(out)\n",
        "          yield out\n",
        "\n",
        "# Download dataset\n",
        "for data_url in [tagged_dataset_url, other_dataset_url]:\n",
        "  cmd = [\"mega-get\", data_url, destination_path]\n",
        "  proc = Popen(cmd,stdout=PIPE, stderr=STDOUT, universal_newlines=True)\n",
        "  for line in print_progress(proc):\n",
        "    print(line)\n"
      ],
      "metadata": {
        "id": "YgtDjEEGwZS7",
        "cellView": "form"
      },
      "execution_count": null,
      "outputs": []
    },
    {
      "cell_type": "markdown",
      "source": [
        "**Extract Downloaded ZIP-Archived Data**"
      ],
      "metadata": {
        "id": "IW7JgU01Fxtf"
      }
    },
    {
      "cell_type": "code",
      "source": [
        "from zipfile import ZipFile\n",
        "\n",
        "# Specify location of downloaded data (zip file)\n",
        "downloaded_data_zip = \"./downloads/pixel-art-tagged-v3.zip\"\n",
        "# Location to extract the zip file to\n",
        "dataset_path = f'./datasets/{os.path.splitext(os.path.split(downloaded_data_zip)[-1])[0]}'\n",
        "\n",
        "with ZipFile(downloaded_data_zip) as zip_object:\n",
        "    zip_object.extractall(dataset_path)"
      ],
      "metadata": {
        "id": "TyeljPbxCmXP"
      },
      "execution_count": null,
      "outputs": []
    },
    {
      "cell_type": "markdown",
      "source": [
        "**Loading the Dataset from Drive**"
      ],
      "metadata": {
        "id": "D62R2CQWeRjg"
      }
    },
    {
      "cell_type": "code",
      "source": [
        "from google.colab import drive\n",
        "drive.mount('/content/drive')\n",
        "!cp /content/drive/MyDrive/pixel-art-tagged-v3.zip /content/kcg-ml/datasets/\n",
        "#!unzip /content/pixel-art-tagged-v3.zip"
      ],
      "metadata": {
        "colab": {
          "base_uri": "https://localhost:8080/"
        },
        "id": "pAACv7WcdrZL",
        "outputId": "88738af3-6984-4329-fffc-0314a0df13ab"
      },
      "execution_count": 3,
      "outputs": [
        {
          "output_type": "stream",
          "name": "stdout",
          "text": [
            "Mounted at /content/drive\n"
          ]
        }
      ]
    },
    {
      "cell_type": "code",
      "source": [
        "%%capture\n",
        "%pip install ascii_graph open_clip_torch patool fire"
      ],
      "metadata": {
        "id": "WFGczIWZv4TF"
      },
      "execution_count": 4,
      "outputs": []
    },
    {
      "cell_type": "markdown",
      "source": [
        "**Import ClipModel to generate the CLIP vectors of the images**"
      ],
      "metadata": {
        "id": "1BPcwMQ2ep_e"
      }
    },
    {
      "cell_type": "code",
      "source": [
        "from examples.ClipTools import ClipModel"
      ],
      "metadata": {
        "id": "k7U_uCMwx7u9"
      },
      "execution_count": 5,
      "outputs": []
    },
    {
      "cell_type": "code",
      "source": [
        "dataset_path = '/content/kcg-ml/datasets/pixel-art-tagged-v3.zip'\n",
        "output_folder = './output'\n",
        "tagged_dataset = True\n",
        "clip_model = 'ViT-L-14'\n",
        "pretrained = 'laion2b_s32b_b82k'\n",
        "batch_size = 32\n",
        "num_threads = 4\n",
        "device = None"
      ],
      "metadata": {
        "id": "BZErZwtIhEej"
      },
      "execution_count": 6,
      "outputs": []
    },
    {
      "cell_type": "code",
      "source": [
        "clip_model_instance = ClipModel(clip_model=clip_model, pretrained=pretrained)\n",
        "clip_model_instance.download_model(clip_model, pretrained)"
      ],
      "metadata": {
        "id": "L6J-GKdUjKSA",
        "colab": {
          "base_uri": "https://localhost:8080/",
          "height": 66,
          "referenced_widgets": [
            "282b989b237e4c6aa1cb7f8b1f601876",
            "03700939c5574bcc955bc1deeba66e6d",
            "023c8bce7baf47fc90a83caa90f4c371",
            "1be9a18287b543919becf659d490c4ba",
            "de23eec47aba48b495e6c3bc133b97a0",
            "0b6eaba6ba5b4d02b407c777eb9d50fc",
            "868b5f753b5246dca592bdc7b26f70d7",
            "fa66ec38f81b440e92aa3941af7c18c4",
            "65363b2ab7cd4c4a80178500c50fcf31",
            "144521043f56487ba50e15fb18aa0a85",
            "db3f26c58b1c4f4d9c1b00264900d0ed"
          ]
        },
        "outputId": "b372b833-2758-4f47-9864-c585856ae3cf"
      },
      "execution_count": 7,
      "outputs": [
        {
          "output_type": "display_data",
          "data": {
            "text/plain": [
              "Downloading (…)ip_pytorch_model.bin:   0%|          | 0.00/1.71G [00:00<?, ?B/s]"
            ],
            "application/vnd.jupyter.widget-view+json": {
              "version_major": 2,
              "version_minor": 0,
              "model_id": "282b989b237e4c6aa1cb7f8b1f601876"
            }
          },
          "metadata": {}
        },
        {
          "output_type": "stream",
          "name": "stdout",
          "text": [
            "[INFO] Model downloaded succesfully\n"
          ]
        }
      ]
    },
    {
      "cell_type": "markdown",
      "source": [
        "Generate CLIP vectors"
      ],
      "metadata": {
        "id": "16RuHPR8fA-y"
      }
    },
    {
      "cell_type": "code",
      "source": [
        "clip_model_instance.encode_data_directory(dataset_path,output_dir='./datasets')"
      ],
      "metadata": {
        "colab": {
          "base_uri": "https://localhost:8080/"
        },
        "id": "NIGsH2QrL_J9",
        "outputId": "07ecbe4e-1975-40c3-ea97-8b2fa5dbd3f6"
      },
      "execution_count": 8,
      "outputs": [
        {
          "output_type": "stream",
          "name": "stdout",
          "text": [
            "[INFO] ZIP 1 OF 1, TIME : 29.02 SECS, 297 IMAGES\n"
          ]
        }
      ]
    },
    {
      "cell_type": "markdown",
      "source": [
        "**Load the CLIP vectors**"
      ],
      "metadata": {
        "id": "WEHPyeU3fK9B"
      }
    },
    {
      "cell_type": "code",
      "source": [
        "import json\n",
        "# load the dataset and split the dataset into train and test\n",
        "with open(\"./datasets/clip-scores.json\", \"r\") as f:\n",
        "  data = json.load(f)"
      ],
      "metadata": {
        "id": "7JErYMuBMhuo"
      },
      "execution_count": 9,
      "outputs": []
    },
    {
      "cell_type": "code",
      "source": [
        "# get the total number of records\n",
        "total = len(data)\n",
        "total"
      ],
      "metadata": {
        "colab": {
          "base_uri": "https://localhost:8080/"
        },
        "id": "S7PMCV0R96v9",
        "outputId": "3a9bca78-63c4-4bd1-aad5-cd01216e69b1"
      },
      "execution_count": 11,
      "outputs": [
        {
          "output_type": "execute_result",
          "data": {
            "text/plain": [
              "297"
            ]
          },
          "metadata": {},
          "execution_count": 11
        }
      ]
    },
    {
      "cell_type": "code",
      "source": [
        "# generate the random indices\n",
        "import numpy as np\n",
        "indices = np.random.permutation(total)\n",
        "indices.shape"
      ],
      "metadata": {
        "colab": {
          "base_uri": "https://localhost:8080/"
        },
        "id": "OxO6t6e--sm5",
        "outputId": "c36b6e4f-a874-4445-d703-b603f5d9f597"
      },
      "execution_count": 14,
      "outputs": [
        {
          "output_type": "execute_result",
          "data": {
            "text/plain": [
              "(297,)"
            ]
          },
          "metadata": {},
          "execution_count": 14
        }
      ]
    },
    {
      "cell_type": "markdown",
      "source": [
        "**SPLIT the CLIP vectors into train and test sets (50% each)**"
      ],
      "metadata": {
        "id": "Sb99VjiTfkC1"
      }
    },
    {
      "cell_type": "code",
      "source": [
        "training_idx, test_idx = indices[:int(total*0.5)], indices[int(total*0.5):]"
      ],
      "metadata": {
        "id": "OCDKb9d5-4aR"
      },
      "execution_count": 15,
      "outputs": []
    },
    {
      "cell_type": "code",
      "source": [
        "len(training_idx)+len(test_idx)"
      ],
      "metadata": {
        "colab": {
          "base_uri": "https://localhost:8080/"
        },
        "id": "D_M8k0Kq_Ozm",
        "outputId": "6639b2a3-2520-4ebd-f1ca-fd3f25e09cf9"
      },
      "execution_count": 16,
      "outputs": [
        {
          "output_type": "execute_result",
          "data": {
            "text/plain": [
              "297"
            ]
          },
          "metadata": {},
          "execution_count": 16
        }
      ]
    },
    {
      "cell_type": "code",
      "source": [
        "train_data = [data[i] for i in training_idx]\n",
        "test_data = [data[i] for i in test_idx]"
      ],
      "metadata": {
        "id": "qS8XhD7U_qOY"
      },
      "execution_count": 17,
      "outputs": []
    },
    {
      "cell_type": "code",
      "source": [],
      "metadata": {
        "id": "dmEjSrntAVup"
      },
      "execution_count": null,
      "outputs": []
    }
  ]
}