{
 "cells": [
  {
   "cell_type": "markdown",
   "metadata": {},
   "source": [
    "# Notebook to Test Three Different Methods of Downloading Files from Mega\n",
    "\n",
    "* Method 1: Mega Download using Python Mega Library\n",
    "* Method 2: Mega Download using Mega CMD Tool\n",
    "* Method 3: Mega Download using Mega CMD Tool (Long Version)"
   ]
  },
  {
   "cell_type": "markdown",
   "metadata": {},
   "source": [
    "## Computing Platform Check GPU (CUDA) or CPU"
   ]
  },
  {
   "cell_type": "code",
   "execution_count": null,
   "metadata": {},
   "outputs": [],
   "source": [
    "import torch\n",
    "if torch.cuda.is_available():\n",
    "    device = \"cuda\"\n",
    "else:\n",
    "    print ('[WARNING] CUDA/GPU is not available! Compute-intensive scripts on this notebook will be run on CPU.')\n",
    "    device =  \"cpu\""
   ]
  },
  {
   "cell_type": "markdown",
   "metadata": {},
   "source": [
    "## Check Environment"
   ]
  },
  {
   "cell_type": "code",
   "execution_count": 1,
   "metadata": {},
   "outputs": [
    {
     "name": "stdout",
     "output_type": "stream",
     "text": [
      "Environment is local\n"
     ]
    }
   ],
   "source": [
    "import os\n",
    "\n",
    "if 'COLAB_GPU' in os.environ:\n",
    "    print(\"Environment is colab\")\n",
    "elif 'KAGGLE_URL_BASE' in os.environ:\n",
    "    print(\"Environment is kaggle\")\n",
    "else:\n",
    "    print(\"Environment is local\")"
   ]
  },
  {
   "cell_type": "markdown",
   "metadata": {},
   "source": [
    "## Method 1: Mega Download by Using Python Mega Library"
   ]
  },
  {
   "cell_type": "markdown",
   "metadata": {},
   "source": [
    "### Install Requirement"
   ]
  },
  {
   "cell_type": "code",
   "execution_count": null,
   "metadata": {},
   "outputs": [],
   "source": [
    "%pip install mega.py"
   ]
  },
  {
   "cell_type": "markdown",
   "metadata": {},
   "source": [
    "### Mount Google Drive"
   ]
  },
  {
   "cell_type": "code",
   "execution_count": null,
   "metadata": {},
   "outputs": [],
   "source": [
    "from google.colab import drive\n",
    "drive.mount._DEBUG = False\n",
    "drive.mount('/content/drive', force_remount=True)"
   ]
  },
  {
   "cell_type": "markdown",
   "metadata": {},
   "source": [
    "### Set Download URL and Mega ID"
   ]
  },
  {
   "cell_type": "code",
   "execution_count": 1,
   "metadata": {},
   "outputs": [],
   "source": [
    "# Download URL on Mega\n",
    "data_url = 'https://mega.nz/file/sBwG1DqZ#NcN7Q97CJPh5DB-tXGb3a4SV6Bubw9xPFRfqPQ4bmw8'\n",
    "# Destination path for data transfer (can be in Google Drive or session storage)\n",
    "destination_path = 'drive/MyDrive/MegaImport'\n",
    "# Example for transfering to session storage\n",
    "# transfer_to_path = './downloads/'\n",
    "\n",
    "# Mega user name and password. Leave as empty string for anonymous login\n",
    "mega_user_email = ''\n",
    "mega_user_password = ''"
   ]
  },
  {
   "cell_type": "markdown",
   "metadata": {},
   "source": [
    "### Download File from Mega\n",
    "Download file based on download URL `data_url` to location specified in `transfer_to_path`"
   ]
  },
  {
   "cell_type": "code",
   "execution_count": null,
   "metadata": {},
   "outputs": [],
   "source": [
    "from mega import Mega\n",
    "\n",
    "# Create Mega User Object and Login\n",
    "mega = Mega()\n",
    "mega_user = mega.login(mega_user_email, mega_user_password)\n",
    "\n",
    "# Download file specified in data_url to location specified in transfer_to_path\n",
    "mega.download_url(data_url, destination_path)"
   ]
  },
  {
   "cell_type": "markdown",
   "metadata": {},
   "source": [
    "## Method 2: Mega Download by Using Mega CMD Tool"
   ]
  },
  {
   "cell_type": "markdown",
   "metadata": {},
   "source": [
    "### Mount Google Drive"
   ]
  },
  {
   "cell_type": "code",
   "execution_count": null,
   "metadata": {},
   "outputs": [],
   "source": [
    "from google.colab import drive\n",
    "drive.mount._DEBUG = False\n",
    "drive.mount('/content/drive', force_remount=True)"
   ]
  },
  {
   "cell_type": "markdown",
   "metadata": {},
   "source": [
    "### Install Requirements"
   ]
  },
  {
   "cell_type": "code",
   "execution_count": null,
   "metadata": {},
   "outputs": [],
   "source": [
    "!apt install libmms0 libc-ares2 libc6 libcrypto++6 libgcc1 libmediainfo0v5 libpcre3 libpcrecpp0v5 libssl1.1 libstdc++6 libzen0v5 zlib1g apt-transport-https\n",
    "!apt --fix-broken install"
   ]
  },
  {
   "cell_type": "markdown",
   "metadata": {},
   "source": [
    "### Download and Install Mega CMD"
   ]
  },
  {
   "cell_type": "code",
   "execution_count": null,
   "metadata": {},
   "outputs": [],
   "source": [
    "!wget https://mega.nz/linux/MEGAsync/xUbuntu_18.04/amd64/megacmd-xUbuntu_18.04_amd64.deb\n",
    "!sudo dpkg -i megacmd-xUbuntu_18.04_amd64.deb"
   ]
  },
  {
   "cell_type": "markdown",
   "metadata": {},
   "source": [
    "### Download File from Mega (with Progress Info)\n",
    "Set download URL in Mega and destination path (in Google Drive or session storage) and download the file."
   ]
  },
  {
   "cell_type": "code",
   "execution_count": null,
   "metadata": {},
   "outputs": [],
   "source": [
    "import os\n",
    "import contextlib\n",
    "from subprocess import Popen, PIPE, STDOUT\n",
    "\n",
    "# Download URL on Mega\n",
    "data_url = 'https://mega.nz/file/sBwG1DqZ#NcN7Q97CJPh5DB-tXGb3a4SV6Bubw9xPFRfqPQ4bmw8'\n",
    "# Destination path for data transfer in Google Drive\n",
    "destination_path = 'drive/MyDrive/MegaImport'\n",
    "\n",
    "# Function for printing the download progress\n",
    "def print_progress(proc, stream='stdout'):\n",
    "  newlines = ['\\n', '\\r\\n', '\\r']\n",
    "  stream = getattr(proc, stream)\n",
    "  with contextlib.closing(stream):\n",
    "      while True:\n",
    "          out = []\n",
    "          last = stream.read(1)\n",
    "          # Don't loop forever\n",
    "          if last == '' and proc.poll() is not None:\n",
    "              break\n",
    "          while last not in newlines:\n",
    "              # Don't loop forever\n",
    "              if last == '' and proc.poll() is not None:\n",
    "                  break\n",
    "              out.append(last)\n",
    "              last = stream.read(1)\n",
    "          out = ''.join(out)\n",
    "          yield out\n",
    "\n",
    "# Download dataset\n",
    "cmd = [\"mega-get\", data_url, destination_path]\n",
    "proc = Popen(cmd,stdout=PIPE, stderr=STDOUT, universal_newlines=True)\n",
    "for line in print_progress(proc):\n",
    "    print(line)\n"
   ]
  },
  {
   "cell_type": "markdown",
   "metadata": {},
   "source": [
    "## Method 3: Mega Download by Using Mega CMD Tool (Long Version)"
   ]
  },
  {
   "cell_type": "markdown",
   "metadata": {},
   "source": [
    "### Mount Google Drive"
   ]
  },
  {
   "cell_type": "code",
   "execution_count": null,
   "metadata": {},
   "outputs": [],
   "source": [
    "from google.colab import drive\n",
    "drive.mount._DEBUG = False\n",
    "drive.mount('/content/drive', force_remount=True)"
   ]
  },
  {
   "cell_type": "markdown",
   "metadata": {},
   "source": [
    "### Download and Install Mega CMD"
   ]
  },
  {
   "cell_type": "code",
   "execution_count": null,
   "metadata": {},
   "outputs": [],
   "source": [
    "import os, urllib.request\n",
    "import subprocess\n",
    "import contextlib\n",
    "from IPython.display import clear_output\n",
    "from functools import wraps\n",
    "import errno\n",
    "import signal\n",
    "import subprocess\n",
    "import glob\n",
    "\n",
    "HOME = os.path.expanduser(\"~\")\n",
    "if not os.path.exists(f\"{HOME}/.ipython/ocr.py\"):\n",
    "    hCode = \"https://raw.githubusercontent.com/biplobsd/\" \\\n",
    "                \"OneClickRun/master/res/ocr.py\"\n",
    "    urllib.request.urlretrieve(hCode, f\"{HOME}/.ipython/ocr.py\")\n",
    "\n",
    "from ocr import (\n",
    "    runSh,\n",
    "    loadingAn,\n",
    ")\n",
    "\n",
    "if not os.path.exists(\"/usr/bin/mega-cmd\"):\n",
    "    loadingAn()\n",
    "    print(\"Installing MEGA ...\")\n",
    "    runSh('sudo apt-get -y update')\n",
    "    runSh('sudo apt-get -y install libmms0 libc-ares2 libc6 libcrypto++6 libgcc1 libmediainfo0v5 libpcre3 libpcrecpp0v5 libssl1.1 libstdc++6 libzen0v5 zlib1g apt-transport-https')\n",
    "    runSh('sudo curl -sL -o /var/cache/apt/archives/MEGAcmd.deb https://mega.nz/linux/MEGAsync/Debian_9.0/amd64/megacmd-Debian_9.0_amd64.deb', output=True)\n",
    "    runSh('sudo dpkg -i /var/cache/apt/archives/MEGAcmd.deb', output=True)\n",
    "    print(\"MEGA is installed.\")\n",
    "    clear_output()\n"
   ]
  },
  {
   "cell_type": "markdown",
   "metadata": {},
   "source": [
    "### Download File from Mega\n",
    "Specify download URL in Mega and destination path (in Google Drive or session storage) and download the file."
   ]
  },
  {
   "cell_type": "code",
   "execution_count": null,
   "metadata": {},
   "outputs": [],
   "source": [
    "# Set download URL on Mega\n",
    "data_url = 'https://mega.nz/file/sBwG1DqZ#NcN7Q97CJPh5DB-tXGb3a4SV6Bubw9xPFRfqPQ4bmw8'\n",
    "# Destination path for data transfer (in local or google drive)\n",
    "destination_path = 'drive/MyDrive/MegaImport'\n",
    "\n",
    "#It's optional to provide the MEGA username and password, it's used for giving more download quota if you have a MEGA pro account. \n",
    "MEGA_USERNAME = \"\"  #optional \n",
    "MEGA_PASSWORD = \"\"  #optional \n",
    "\n",
    "# Unix, Windows and old Macintosh end-of-line\n",
    "newlines = ['\\n', '\\r\\n', '\\r']\n",
    "\n",
    "def latest_file(folder):\n",
    "  list_of_files = glob.glob(f'{folder}/*') # * means all \n",
    "  latest_file = max(list_of_files, key=os.path.getctime)\n",
    "  return latest_file\n",
    "\n",
    "def unbuffered(proc, stream='stdout'):\n",
    "    stream = getattr(proc, stream)\n",
    "    with contextlib.closing(stream):\n",
    "        while True:\n",
    "            out = []\n",
    "            last = stream.read(1)\n",
    "            # Don't loop forever\n",
    "            if last == '' and proc.poll() is not None:\n",
    "                break\n",
    "            while last not in newlines:\n",
    "                # Don't loop forever\n",
    "                if last == '' and proc.poll() is not None:\n",
    "                    break\n",
    "                out.append(last)\n",
    "                last = stream.read(1)\n",
    "            out = ''.join(out)\n",
    "            yield out\n",
    "\n",
    "\n",
    "def transfer(url):\n",
    "    import codecs\n",
    "    decoder = codecs.getincrementaldecoder(\"UTF-8\")()\n",
    "    cmd = [\"mega-get\", url, destination_path]\n",
    "    proc = subprocess.Popen(\n",
    "        cmd,\n",
    "        stdout=subprocess.PIPE,\n",
    "        stderr=subprocess.STDOUT,\n",
    "        # Make all end-of-lines '\\n'\n",
    "        universal_newlines=True,\n",
    "    )\n",
    "    for line in unbuffered(proc):\n",
    "        print(line)\n",
    "        \n",
    "if not destination_path:\n",
    "  os.makedirs(\"downloads\", exist_ok=True)\n",
    "  destination_path = \"downloads\"\n",
    "\n",
    "\n",
    "class TimeoutError(Exception):\n",
    "    pass\n",
    "\n",
    "def timeout(seconds=10, error_message=os.strerror(errno.ETIME)):\n",
    "    def decorator(func):\n",
    "        def _handle_timeout(signum, frame):\n",
    "            raise TimeoutError(error_message)\n",
    "\n",
    "        def wrapper(*args, **kwargs):\n",
    "            signal.signal(signal.SIGALRM, _handle_timeout)\n",
    "            signal.alarm(seconds)\n",
    "            try:\n",
    "                result = func(*args, **kwargs)\n",
    "            finally:\n",
    "                signal.alarm(0)\n",
    "            return result\n",
    "\n",
    "        return wraps(func)(wrapper)\n",
    "\n",
    "    return decorator\n",
    "\n",
    "\n",
    "@timeout(10)\n",
    "def runShT(args):\n",
    "    return runSh(args, output=True)\n",
    "\n",
    "def login(): \n",
    "    runShT(f\"mega-login {MEGA_USERNAME} {MEGA_PASSWORD}\")\n",
    "\n",
    "#if the username and password provided then login to MEGA. \n",
    "if MEGA_USERNAME != \"\" and MEGA_PASSWORD != \"\":\n",
    "    try:\n",
    "        login()\n",
    "    except TimeoutError:\n",
    "        runSh('mega-whoami', output=True)\n",
    "else:\n",
    "    print(\"Please Input your Mega IDs.\")\n",
    "\n",
    "transfer(data_url)"
   ]
  }
 ],
 "metadata": {
  "kernelspec": {
   "display_name": "Python 3",
   "language": "python",
   "name": "python3"
  },
  "language_info": {
   "codemirror_mode": {
    "name": "ipython",
    "version": 3
   },
   "file_extension": ".py",
   "mimetype": "text/x-python",
   "name": "python",
   "nbconvert_exporter": "python",
   "pygments_lexer": "ipython3",
   "version": "3.8.3"
  }
 },
 "nbformat": 4,
 "nbformat_minor": 2
}
