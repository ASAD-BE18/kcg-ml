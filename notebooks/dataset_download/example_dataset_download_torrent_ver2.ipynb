{
 "cells": [
  {
   "cell_type": "markdown",
   "metadata": {
    "id": "xxE-wuzcAnAP"
   },
   "source": [
    "# LibTorrent Example Notebook\n",
    "▶ For downloading torrent files.\n"
   ]
  },
  {
   "cell_type": "markdown",
   "metadata": {
    "id": "VQt1LiZDCMF2"
   },
   "source": [
    "✅ Make sure you enter torrent file path and peer ip"
   ]
  },
  {
   "cell_type": "code",
   "execution_count": null,
   "metadata": {
    "id": "fMQf7wedCELx"
   },
   "outputs": [],
   "source": [
    "# Path of the torrent file.\n",
    "TORRENT_FILE = 'path/to/torrent_file.torrent'\n",
    "# Peer Ip \n",
    "PEER_IP = '123.456.789.0'"
   ]
  },
  {
   "cell_type": "markdown",
   "metadata": {
    "id": "AG8IDeeLAzNQ"
   },
   "source": [
    "## Intalling LibTorrent Library"
   ]
  },
  {
   "cell_type": "code",
   "execution_count": null,
   "metadata": {
    "colab": {
     "base_uri": "https://localhost:8080/"
    },
    "id": "uIKGMPmz_CdK",
    "outputId": "25096a28-7c95-446e-b779-612f61b7e75d"
   },
   "outputs": [],
   "source": [
    "%%capture\n",
    "!pip install libtorrent"
   ]
  },
  {
   "cell_type": "markdown",
   "metadata": {
    "id": "j1kl3i0WA7Yz"
   },
   "source": [
    "## Importing and Initializing Session"
   ]
  },
  {
   "cell_type": "code",
   "execution_count": null,
   "metadata": {
    "id": "gmVZqoZW_MNw"
   },
   "outputs": [],
   "source": [
    "import libtorrent as lt\n",
    "import time\n",
    "\n",
    "# create a session object\n",
    "ses = lt.session()"
   ]
  },
  {
   "cell_type": "markdown",
   "metadata": {
    "id": "Za4zjcZmBP58"
   },
   "source": [
    "## Downloading Torrent File"
   ]
  },
  {
   "cell_type": "code",
   "execution_count": null,
   "metadata": {
    "colab": {
     "base_uri": "https://localhost:8080/"
    },
    "id": "WxVOy3UlAFU-",
    "outputId": "e5851a1c-444b-4724-edba-83717d49517e"
   },
   "outputs": [],
   "source": [
    "# add a torrent file to the session\n",
    "info = lt.torrent_info(TORRENT_FILE)\n",
    "\n",
    "h = ses.add_torrent({'ti': info, 'save_path': '.'})\n",
    "\n",
    "# start the torrent download\n",
    "print('downloading metadata...')\n",
    "while not h.has_metadata():\n",
    "    continue\n",
    "\n",
    "print('starting torrent download...')\n",
    "while h.status().state != lt.torrent_status.seeding:\n",
    "    s = h.status()\n",
    "    print('\\r%.2f%% complete (down: %.1f kb/s up: %.1f kB/s peers: %d) %s' % (\n",
    "        s.progress * 100, s.download_rate / 1000, s.upload_rate / 1000, s.num_peers, s.state), end='', flush=True)\n",
    "    time.sleep(1)\n",
    "\n",
    "print('\\ndownload complete!')\n"
   ]
  },
  {
   "cell_type": "markdown",
   "metadata": {
    "id": "PqnG92nhBuUr"
   },
   "source": [
    "## Downloading From Specific Peer IP"
   ]
  },
  {
   "cell_type": "code",
   "execution_count": null,
   "metadata": {
    "id": "0zqWOHOQBrLf"
   },
   "outputs": [],
   "source": [
    "# get the IP address of the peer you want to download from\n",
    "peer_ip = PEER_IP\n",
    "\n",
    "# set a proxy for the peer\n",
    "proxy = {'type': lt.proxy_type.http, 'hostname': peer_ip, 'port': 8080}\n",
    "settings = ses.get_settings()\n",
    "settings.set_peer_proxy(proxy)\n",
    "ses.set_settings(settings)\n",
    "\n",
    "# start the torrent download\n",
    "print('downloading metadata...')\n",
    "while not h.has_metadata():\n",
    "    continue\n",
    "\n",
    "print('starting torrent download...')\n",
    "while h.status().state != lt.torrent_status.seeding:\n",
    "    s = h.status()\n",
    "    print('\\r%.2f%% complete (down: %.1f kb/s up: %.1f kB/s peers: %d) %s' % (\n",
    "        s.progress * 100, s.download_rate / 1000, s.upload_rate / 1000, s.num_peers, s.state), end='', flush=True)\n",
    "    time.sleep(1)\n",
    "\n",
    "print('\\ndownload complete!')\n"
   ]
  },
  {
   "attachments": {},
   "cell_type": "markdown",
   "metadata": {},
   "source": [
    "## Downloading From Magnet Link"
   ]
  },
  {
   "attachments": {},
   "cell_type": "markdown",
   "metadata": {},
   "source": [
    "import libtorrent as lt\n",
    "MAGNET_LINK = \"YOUR_MAGNET_LINK_HERE\""
   ]
  },
  {
   "cell_type": "code",
   "execution_count": null,
   "metadata": {},
   "outputs": [],
   "source": [
    "\n",
    "# create a libtorrent session\n",
    "ses = lt.session()\n",
    "\n",
    "# create torrent parameters from magnet URI\n",
    "params = {\n",
    "    \"save_path\": \".\",\n",
    "    \"url\": MAGNET_LINK\n",
    "}\n",
    "\n",
    "# add torrent to the session\n",
    "handle = ses.add_torrent(params)\n",
    "\n",
    "# wait for the torrent to download\n",
    "while not handle.is_seed():\n",
    "    s = handle.status()\n",
    "    print(\"Downloading: {}% ({} of {} bytes)\".format(s.progress * 100, s.total_wanted_done, s.total_wanted))\n",
    "\n",
    "    # update the session and sleep for a bit\n",
    "    ses.post_session_stats()\n",
    "    lt.sleep(1000)\n",
    "\n",
    "print(\"Download complete!\")\n"
   ]
  }
 ],
 "metadata": {
  "colab": {
   "provenance": []
  },
  "kernelspec": {
   "display_name": "Python 3",
   "name": "python3"
  },
  "language_info": {
   "name": "python"
  }
 },
 "nbformat": 4,
 "nbformat_minor": 0
}
