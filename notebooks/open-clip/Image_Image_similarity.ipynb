{
  "cells": [
    {
      "attachments": {},
      "cell_type": "markdown",
      "metadata": {},
      "source": [
        "### Computing Platform Check GPU (CUDA) or CPU"
      ]
    },
    {
      "cell_type": "code",
      "execution_count": null,
      "metadata": {},
      "outputs": [],
      "source": [
        "import torch\n",
        "if torch.cuda.is_available():\n",
        "    device = \"cuda\"\n",
        "else:\n",
        "    print ('[WARNING] CUDA/GPU is not available! Compute-intensive scripts on this notebook will be run on CPU.')\n",
        "    device =  \"cpu\""
      ]
    },
    {
      "cell_type": "code",
      "execution_count": null,
      "metadata": {
        "colab": {
          "base_uri": "https://localhost:8080/"
        },
        "id": "b567J8tJ8lon",
        "outputId": "1ba79b8b-3771-4a6a-f896-e98422a33303"
      },
      "outputs": [],
      "source": [
        "#@title Importing open_clip\n",
        "try : \n",
        "  import open_clip\n",
        "except ImportError:\n",
        "  !pip install open_clip_torch\n",
        "  import open_clip"
      ]
    },
    {
      "cell_type": "code",
      "execution_count": null,
      "metadata": {
        "id": "qRS2wF8-5vtE"
      },
      "outputs": [],
      "source": [
        "#@title Other Imports\n",
        "\n",
        "# Handling all importing error \n",
        "try:\n",
        "  import torch\n",
        "except ImportError:\n",
        "  !pip install torch>=1.9.0\n",
        "  import torch\n",
        "\n",
        "try:\n",
        "  import PIL\n",
        "  from PIL import Image\n",
        "except:\n",
        "  !pip install pillow\n",
        "  import PIL\n",
        "  from PIL import Image"
      ]
    },
    {
      "cell_type": "code",
      "execution_count": null,
      "metadata": {
        "colab": {
          "base_uri": "https://localhost:8080/"
        },
        "id": "rQpOHqvG5x5Q",
        "outputId": "6a712369-d6e4-4c5b-a50e-b0723aea5e55"
      },
      "outputs": [],
      "source": [
        "#@title Available CLIP Models\n",
        "# prints all the avaialble clip models\n",
        "# Choose one of these models :: model name and pretrained \n",
        "open_clip.list_pretrained()"
      ]
    },
    {
      "cell_type": "code",
      "execution_count": null,
      "metadata": {
        "colab": {
          "base_uri": "https://localhost:8080/"
        },
        "id": "I9kk6Kdn6OHu",
        "outputId": "c7274416-c7df-4144-a882-172e76522b3c"
      },
      "outputs": [],
      "source": [
        "#@title Loading CLIP model\n",
        "model, _, preprocess = open_clip.create_model_and_transforms('ViT-B-32',pretrained='openai')"
      ]
    },
    {
      "cell_type": "code",
      "execution_count": null,
      "metadata": {
        "id": "o5FdOiiK6VxS"
      },
      "outputs": [],
      "source": [
        "#@title similarity between two images function \n",
        "\n",
        "import pathlib\n",
        "def image_to_image_similarity(model  ,  preprocess ,\n",
        "                              image1_file = None , image2_file = None ):\n",
        "  \n",
        "  cwd_path = pathlib.Path.cwd().parent\n",
        "\n",
        "  if image1_file is None:\n",
        "    image1_file = cwd_path / 'images' / 'download_blue.png'  \n",
        "  if image2_file is None:\n",
        "    image2_file = cwd_path / 'images' / 'download.png'  \n",
        "\n",
        "  image1 = preprocess(Image.open(image1_file)).unsqueeze(0)\n",
        "  image2 = preprocess(Image.open(image2_file)).unsqueeze(0)\n",
        "  \n",
        "  image_features = model.encode_image(image1)\n",
        "  image_2_features = model.encode_image(image2)\n",
        "\n",
        "  image_features /= image_features.norm(dim=-1, keepdim=True)\n",
        "  image_2_features /= image_2_features.norm(dim=-1, keepdim=True)\n",
        "  similarity = image_2_features.detach() @ image_features.detach().T\n",
        "  print(f'Similarity = {similarity}')\n",
        "  return similarity"
      ]
    },
    {
      "cell_type": "code",
      "execution_count": null,
      "metadata": {
        "colab": {
          "base_uri": "https://localhost:8080/"
        },
        "id": "GPb-78Yx9YFm",
        "outputId": "9c704548-bd97-4cf4-a738-e46489f6f3a9"
      },
      "outputs": [],
      "source": [
        "#@title Run\n",
        "\n",
        "image_to_image_similarity(model  , preprocess)"
      ]
    },
    {
      "cell_type": "code",
      "execution_count": null,
      "metadata": {
        "id": "nWwBRthX9z9a"
      },
      "outputs": [],
      "source": []
    }
  ],
  "metadata": {
    "colab": {
      "collapsed_sections": [],
      "provenance": []
    },
    "kernelspec": {
      "display_name": "Python 3",
      "name": "python3"
    },
    "language_info": {
      "name": "python"
    }
  },
  "nbformat": 4,
  "nbformat_minor": 0
}
