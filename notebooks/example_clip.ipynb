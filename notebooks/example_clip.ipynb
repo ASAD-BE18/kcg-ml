{
 "cells": [
  {
   "cell_type": "markdown",
   "metadata": {
    "id": "j3kJ9LYUDdBI"
   },
   "source": [
    "# Installing open-clip library"
   ]
  },
  {
   "cell_type": "code",
   "execution_count": null,
   "metadata": {
    "id": "svnTt4UDDhpd"
   },
   "outputs": [],
   "source": [
    "%%capture\n",
    "!pip install open_clip_torch"
   ]
  },
  {
   "cell_type": "markdown",
   "metadata": {
    "id": "7BHChZPND1e6"
   },
   "source": [
    "# Cloning GitHub Repository"
   ]
  },
  {
   "cell_type": "code",
   "execution_count": null,
   "metadata": {
    "id": "CiJnUAniDtQc"
   },
   "outputs": [],
   "source": [
    "%%capture\n",
    "!git clone https://github.com/kk-digital/kcg-ml.git"
   ]
  },
  {
   "cell_type": "markdown",
   "metadata": {
    "id": "BSCEnTPkDT3N"
   },
   "source": [
    "# OpenClip Examples"
   ]
  },
  {
   "cell_type": "markdown",
   "metadata": {
    "id": "cIu2_l57FIHF"
   },
   "source": [
    "## Imports"
   ]
  },
  {
   "cell_type": "code",
   "execution_count": null,
   "metadata": {
    "id": "lSb1Y61fEyXi"
   },
   "outputs": [],
   "source": [
    "import torch\n",
    "from PIL import Image\n",
    "import open_clip"
   ]
  },
  {
   "cell_type": "markdown",
   "metadata": {
    "id": "9fdns71CFEG4"
   },
   "source": [
    "## Listing All Pre-Trained Models."
   ]
  },
  {
   "cell_type": "code",
   "execution_count": null,
   "metadata": {
    "colab": {
     "base_uri": "https://localhost:8080/"
    },
    "id": "IaV34hG4E0tK",
    "outputId": "ac7a804f-ea0b-4179-fcb9-c1a1c98cfb23"
   },
   "outputs": [],
   "source": [
    "open_clip.list_pretrained()"
   ]
  },
