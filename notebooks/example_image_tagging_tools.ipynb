{
  "cells": [
    {
      "cell_type": "markdown",
      "metadata": {
        "id": "Y-w_nMDt0JkM"
      },
      "source": [
        "# Fetch & Clone Repo\n",
        "Clone the image-tagging-tools repo as it has all the required utils and codes from preprocessing the image datasets to training the models and using them to classify the images.\n"
      ]
    },
    {
      "cell_type": "code",
      "execution_count": 1,
      "metadata": {
        "colab": {
          "base_uri": "https://localhost:8080/"
        },
        "id": "KArKalp90JkW",
        "outputId": "12ff9b3b-c7cf-410a-eaeb-325d57f2851f"
      },
      "outputs": [
        {
          "name": "stdout",
          "output_type": "stream",
          "text": [
            "Cloning into 'kcg-ml'...\n",
            "remote: Enumerating objects: 2565, done.\u001b[K\n",
            "remote: Counting objects: 100% (557/557), done.\u001b[K\n",
            "remote: Compressing objects: 100% (242/242), done.\u001b[K\n",
            "remote: Total 2565 (delta 341), reused 485 (delta 313), pack-reused 2008\u001b[K\n",
            "Receiving objects: 100% (2565/2565), 25.34 MiB | 20.72 MiB/s, done.\n",
            "Resolving deltas: 100% (1488/1488), done.\n",
            "/content/kcg-ml\n"
          ]
        }
      ],
      "source": [
        "!git clone https://github.com/kk-digital/kcg-ml\n",
        "%cd kcg-ml"
      ]
    },
    {
      "cell_type": "markdown",
      "metadata": {
        "id": "OlYVz9bV0JkZ"
      },
      "source": [
        "# Computing Platform Check GPU (CUDA) or CPU / Environment"
      ]
    },
    {
      "cell_type": "code",
      "execution_count": 2,
      "metadata": {
        "colab": {
          "base_uri": "https://localhost:8080/",
          "height": 87
        },
        "id": "_n2tYdB30Jka",
        "outputId": "a2a692da-266f-4ef6-d0a7-bed697f09833"
      },
      "outputs": [
        {
          "name": "stdout",
          "output_type": "stream",
          "text": [
            "CUDA version: 11.6\n",
            "Environment is colab\n",
            "CUDA version: 11.6\n"
          ]
        },
        {
          "data": {
            "application/vnd.google.colaboratory.intrinsic+json": {
              "type": "string"
            },
            "text/plain": [
              "'colab'"
            ]
          },
          "execution_count": 2,
          "metadata": {},
          "output_type": "execute_result"
        }
      ],
      "source": [
        "#Check Environment And Cuda Version \n",
        "from utility.CheckCuda import GetCuda\n",
        "from utility.envchecker import GetEnvironment\n",
        "\n",
        "GetCuda()\n",
        "GetEnvironment()"
      ]
    },
    {
      "cell_type": "markdown",
      "metadata": {
        "id": "bhEVe0JFcuu_"
      },
      "source": [
        "# Getting Dataset from Mega"
      ]
    },
    {
      "cell_type": "markdown",
      "metadata": {
        "id": "LWt6o64e0Jkb"
      },
      "source": [
        "### Mount Google Drive\n",
        "Mount your google drive to be used for storing the dataset into it. Note: This step is optional, the dataset can also be saved to Colab session storage."
      ]
    },
    {
      "cell_type": "code",
      "execution_count": 3,
      "metadata": {
        "colab": {
          "base_uri": "https://localhost:8080/"
        },
        "id": "ONxui2_ccuvK",
        "outputId": "54b43798-2c92-4fd9-89ae-12ec19fbcc4d"
      },
      "outputs": [
        {
          "name": "stdout",
          "output_type": "stream",
          "text": [
            "Mounted at /content/drive\n"
          ]
        }
      ],
      "source": [
        "from google.colab import drive\n",
        "drive.mount._DEBUG = False\n",
        "drive.mount('/content/drive', force_remount=True)"
      ]
    },
    {
      "cell_type": "markdown",
      "metadata": {
        "id": "30RLC9Fl0Jkd"
      },
      "source": [
        "### Mega CMD Installation"
      ]
    },
    {
      "cell_type": "code",
      "execution_count": 4,
      "metadata": {
        "colab": {
          "base_uri": "https://localhost:8080/"
        },
        "id": "OIw76Apy0Jke",
        "outputId": "7b6e1605-020a-4f99-89b3-9b6e9f960e12"
      },
      "outputs": [
        {
          "name": "stdout",
          "output_type": "stream",
          "text": [
            "Reading package lists... Done\n",
            "Building dependency tree       \n",
            "Reading state information... Done\n",
            "libc6 is already the newest version (2.31-0ubuntu9.9).\n",
            "libpcre3 is already the newest version (2:8.39-12ubuntu0.1).\n",
            "libpcrecpp0v5 is already the newest version (2:8.39-12ubuntu0.1).\n",
            "libpcrecpp0v5 set to manually installed.\n",
            "libssl1.1 is already the newest version (1.1.1f-1ubuntu2.17).\n",
            "libssl1.1 set to manually installed.\n",
            "libstdc++6 is already the newest version (10.3.0-1ubuntu1~20.04).\n",
            "zlib1g is already the newest version (1:1.2.11.dfsg-2ubuntu1.5).\n",
            "The following additional packages will be installed:\n",
            "  libtinyxml2-6a\n",
            "The following NEW packages will be installed:\n",
            "  apt-transport-https libc-ares2 libcrypto++6 libgcc1 libmediainfo0v5 libmms0\n",
            "  libtinyxml2-6a libzen0v5\n",
            "0 upgraded, 8 newly installed, 0 to remove and 23 not upgraded.\n",
            "Need to get 3,271 kB of archives.\n",
            "After this operation, 12.5 MB of additional disk space will be used.\n",
            "Get:1 http://archive.ubuntu.com/ubuntu focal-updates/universe amd64 libgcc1 amd64 1:10.3.0-1ubuntu1~20.04 [41.7 kB]\n",
            "Get:2 http://archive.ubuntu.com/ubuntu focal-updates/universe amd64 apt-transport-https all 2.0.9 [1,704 B]\n",
            "Get:3 http://archive.ubuntu.com/ubuntu focal/universe amd64 libcrypto++6 amd64 5.6.4-9build1 [889 kB]\n",
            "Get:4 http://archive.ubuntu.com/ubuntu focal/universe amd64 libmms0 amd64 0.6.4-3 [27.3 kB]\n",
            "Get:5 http://archive.ubuntu.com/ubuntu focal/universe amd64 libtinyxml2-6a amd64 7.0.0+dfsg-1build1 [28.4 kB]\n",
            "Get:6 http://archive.ubuntu.com/ubuntu focal/universe amd64 libzen0v5 amd64 0.4.37-1build1 [97.8 kB]\n",
            "Get:7 http://archive.ubuntu.com/ubuntu focal/universe amd64 libmediainfo0v5 amd64 19.09+dfsg-2build1 [2,149 kB]\n",
            "Get:8 http://archive.ubuntu.com/ubuntu focal-updates/main amd64 libc-ares2 amd64 1.15.0-1ubuntu0.2 [36.7 kB]\n",
            "Fetched 3,271 kB in 1s (3,450 kB/s)\n",
            "Selecting previously unselected package libgcc1.\n",
            "(Reading database ... 128276 files and directories currently installed.)\n",
            "Preparing to unpack .../0-libgcc1_1%3a10.3.0-1ubuntu1~20.04_amd64.deb ...\n",
            "Unpacking libgcc1 (1:10.3.0-1ubuntu1~20.04) ...\n",
            "Selecting previously unselected package apt-transport-https.\n",
            "Preparing to unpack .../1-apt-transport-https_2.0.9_all.deb ...\n",
            "Unpacking apt-transport-https (2.0.9) ...\n",
            "Selecting previously unselected package libcrypto++6.\n",
            "Preparing to unpack .../2-libcrypto++6_5.6.4-9build1_amd64.deb ...\n",
            "Unpacking libcrypto++6 (5.6.4-9build1) ...\n",
            "Selecting previously unselected package libmms0:amd64.\n",
            "Preparing to unpack .../3-libmms0_0.6.4-3_amd64.deb ...\n",
            "Unpacking libmms0:amd64 (0.6.4-3) ...\n",
            "Selecting previously unselected package libtinyxml2-6a:amd64.\n",
            "Preparing to unpack .../4-libtinyxml2-6a_7.0.0+dfsg-1build1_amd64.deb ...\n",
            "Unpacking libtinyxml2-6a:amd64 (7.0.0+dfsg-1build1) ...\n",
            "Selecting previously unselected package libzen0v5:amd64.\n",
            "Preparing to unpack .../5-libzen0v5_0.4.37-1build1_amd64.deb ...\n",
            "Unpacking libzen0v5:amd64 (0.4.37-1build1) ...\n",
            "Selecting previously unselected package libmediainfo0v5:amd64.\n",
            "Preparing to unpack .../6-libmediainfo0v5_19.09+dfsg-2build1_amd64.deb ...\n",
            "Unpacking libmediainfo0v5:amd64 (19.09+dfsg-2build1) ...\n",
            "Selecting previously unselected package libc-ares2:amd64.\n",
            "Preparing to unpack .../7-libc-ares2_1.15.0-1ubuntu0.2_amd64.deb ...\n",
            "Unpacking libc-ares2:amd64 (1.15.0-1ubuntu0.2) ...\n",
            "Setting up apt-transport-https (2.0.9) ...\n",
            "Setting up libgcc1 (1:10.3.0-1ubuntu1~20.04) ...\n",
            "Setting up libtinyxml2-6a:amd64 (7.0.0+dfsg-1build1) ...\n",
            "Setting up libc-ares2:amd64 (1.15.0-1ubuntu0.2) ...\n",
            "Setting up libmms0:amd64 (0.6.4-3) ...\n",
            "Setting up libzen0v5:amd64 (0.4.37-1build1) ...\n",
            "Setting up libmediainfo0v5:amd64 (19.09+dfsg-2build1) ...\n",
            "Setting up libcrypto++6 (5.6.4-9build1) ...\n",
            "Processing triggers for libc-bin (2.31-0ubuntu9.9) ...\n",
            "Reading package lists... Done\n",
            "Building dependency tree       \n",
            "Reading state information... Done\n",
            "0 upgraded, 0 newly installed, 0 to remove and 23 not upgraded.\n",
            "--2023-03-19 00:18:12--  https://mega.nz/linux/MEGAsync/xUbuntu_18.04/amd64/megacmd-xUbuntu_18.04_amd64.deb\n",
            "Resolving mega.nz (mega.nz)... 31.216.145.5, 31.216.144.5, 2a0b:e46:1:145::5, ...\n",
            "Connecting to mega.nz (mega.nz)|31.216.145.5|:443... connected.\n",
            "HTTP request sent, awaiting response... 200 OK\n",
            "Length: 7434374 (7.1M) [application/x-deb]\n",
            "Saving to: ‘megacmd-xUbuntu_18.04_amd64.deb’\n",
            "\n",
            "megacmd-xUbuntu_18. 100%[===================>]   7.09M  --.-KB/s    in 0.1s    \n",
            "\n",
            "2023-03-19 00:18:12 (48.3 MB/s) - ‘megacmd-xUbuntu_18.04_amd64.deb’ saved [7434374/7434374]\n",
            "\n",
            "Selecting previously unselected package megacmd.\n",
            "(Reading database ... 128316 files and directories currently installed.)\n",
            "Preparing to unpack megacmd-xUbuntu_18.04_amd64.deb ...\n",
            "Unpacking megacmd (1.5.1-1.1) ...\n",
            "Setting up megacmd (1.5.1-1.1) ...\n",
            "sysctl: setting key \"fs.inotify.max_user_watches\", ignoring: Read-only file system\n"
          ]
        }
      ],
      "source": [
        "# Mega CMD Requirements\n",
        "!apt install libmms0 libc-ares2 libc6 libcrypto++6 libgcc1 libmediainfo0v5 libpcre3 libpcrecpp0v5 libssl1.1 libstdc++6 libzen0v5 zlib1g apt-transport-https\n",
        "!apt --fix-broken install\n",
        "\n",
        "# Mega CMD Download and Installation\n",
        "!wget https://mega.nz/linux/MEGAsync/xUbuntu_18.04/amd64/megacmd-xUbuntu_18.04_amd64.deb\n",
        "!sudo dpkg -i megacmd-xUbuntu_18.04_amd64.deb"
      ]
    },
    {
      "cell_type": "markdown",
      "metadata": {
        "id": "xHpodU7H0Jkf"
      },
      "source": [
        "### Download Dataset\n",
        "Set download URL in Mega and destination path (in Google Drive or session storage) and download the file."
      ]
    },
    {
      "cell_type": "code",
      "execution_count": 5,
      "metadata": {
        "colab": {
          "base_uri": "https://localhost:8080/"
        },
        "id": "rmJOKV880Jkf",
        "outputId": "cdd753d0-563f-4665-e359-014538fbe3bd"
      },
      "outputs": [
        {
          "name": "stdout",
          "output_type": "stream",
          "text": [
            "[Initiating MEGAcmd server in background. Log: /root/.megaCmd/megacmdserver.log]\n",
            "TRANSFERRING ||#.........................................||(1/929 MB:   0.16 %) \u0000\n",
            "TRANSFERRING ||#.........................................||(3/929 MB:   0.34 %) \u0000\n",
            "TRANSFERRING ||#.........................................||(6/929 MB:   0.72 %) \u0000\n",
            "TRANSFERRING ||#........................................||(14/929 MB:   1.54 %) \u0000\n",
            "TRANSFERRING ||##.......................................||(27/929 MB:   2.92 %) \u0000\n",
            "TRANSFERRING ||##.......................................||(39/929 MB:   4.30 %) \u0000\n",
            "TRANSFERRING ||###......................................||(50/929 MB:   5.47 %) \u0000\n",
            "TRANSFERRING ||###......................................||(62/929 MB:   6.70 %) \u0000\n",
            "TRANSFERRING ||#........................................||(16/929 MB:   1.72 %) \u0000\n",
            "TRANSFERRING ||##.......................................||(32/929 MB:   3.44 %) \u0000\n",
            "TRANSFERRING ||###......................................||(63/929 MB:   6.83 %) \u0000\n",
            "TRANSFERRING ||###......................................||(63/929 MB:   6.83 %) \u0000\n",
            "TRANSFERRING ||###......................................||(65/929 MB:   7.10 %) \u0000\n",
            "TRANSFERRING ||####.....................................||(69/929 MB:   7.44 %) \u0000\n",
            "TRANSFERRING ||####.....................................||(74/929 MB:   8.00 %) \u0000\n",
            "TRANSFERRING ||####.....................................||(85/929 MB:   9.15 %) \u0000\n",
            "TRANSFERRING ||#####....................................||(97/929 MB:  10.49 %) \u0000\n",
            "TRANSFERRING ||#####...................................||(108/929 MB:  11.62 %) \u0000\n",
            "TRANSFERRING ||######..................................||(116/929 MB:  12.57 %) \u0000\n",
            "TRANSFERRING ||######..................................||(124/929 MB:  13.36 %) \u0000\n",
            "TRANSFERRING ||#####...................................||(111/929 MB:  11.99 %) \u0000\n",
            "TRANSFERRING ||#####...................................||(111/929 MB:  11.99 %) \u0000\n",
            "TRANSFERRING ||######..................................||(129/929 MB:  13.95 %) \u0000\n",
            "TRANSFERRING ||######..................................||(132/929 MB:  14.29 %) \u0000\n",
            "TRANSFERRING ||######..................................||(138/929 MB:  14.89 %) \u0000\n",
            "TRANSFERRING ||#######.................................||(147/929 MB:  15.85 %) \u0000\n",
            "TRANSFERRING ||#######.................................||(160/929 MB:  17.23 %) \u0000\n",
            "TRANSFERRING ||#######.................................||(154/929 MB:  16.65 %) \u0000\n",
            "TRANSFERRING ||########................................||(180/929 MB:  19.41 %) \u0000\n",
            "TRANSFERRING ||########................................||(171/929 MB:  18.46 %) \u0000\n",
            "TRANSFERRING ||########................................||(175/929 MB:  18.86 %) \u0000\n",
            "TRANSFERRING ||#########...............................||(191/929 MB:  20.60 %) \u0000\n",
            "TRANSFERRING ||#########...............................||(191/929 MB:  20.60 %) \u0000\n",
            "TRANSFERRING ||#########...............................||(193/929 MB:  20.76 %) \u0000\n",
            "TRANSFERRING ||#########...............................||(197/929 MB:  21.20 %) \u0000\n",
            "TRANSFERRING ||#########...............................||(203/929 MB:  21.89 %) \u0000\n",
            "TRANSFERRING ||##########..............................||(213/929 MB:  22.93 %) \u0000\n",
            "TRANSFERRING ||##########..............................||(225/929 MB:  24.20 %) \u0000\n",
            "TRANSFERRING ||##########..............................||(220/929 MB:  23.67 %) \u0000\n",
            "TRANSFERRING ||##########..............................||(228/929 MB:  24.58 %) \u0000\n",
            "TRANSFERRING ||###########.............................||(250/929 MB:  26.98 %) \u0000\n",
            "TRANSFERRING ||###########.............................||(239/929 MB:  25.76 %) \u0000\n",
            "TRANSFERRING ||###########.............................||(241/929 MB:  25.99 %) \u0000\n",
            "TRANSFERRING ||############............................||(262/929 MB:  28.24 %) \u0000\n",
            "TRANSFERRING ||############............................||(269/929 MB:  28.94 %) \u0000\n",
            "TRANSFERRING ||############............................||(277/929 MB:  29.89 %) \u0000\n",
            "TRANSFERRING ||#############...........................||(290/929 MB:  31.19 %) \u0000\n",
            "TRANSFERRING ||#############...........................||(284/929 MB:  30.63 %) \u0000\n",
            "TRANSFERRING ||##############..........................||(308/929 MB:  33.18 %) \u0000\n",
            "TRANSFERRING ||##############..........................||(314/929 MB:  33.86 %) \u0000\n",
            "TRANSFERRING ||##############..........................||(302/929 MB:  32.57 %) \u0000\n",
            "TRANSFERRING ||##############..........................||(305/929 MB:  32.86 %) \u0000\n",
            "TRANSFERRING ||##############..........................||(324/929 MB:  34.89 %) \u0000\n",
            "TRANSFERRING ||###############.........................||(329/929 MB:  35.43 %) \u0000\n",
            "TRANSFERRING ||###############.........................||(335/929 MB:  36.12 %) \u0000\n",
            "TRANSFERRING ||###############.........................||(343/929 MB:  36.90 %) \u0000\n",
            "TRANSFERRING ||################........................||(350/929 MB:  37.74 %) \u0000\n",
            "TRANSFERRING ||################........................||(360/929 MB:  38.80 %) \u0000\n",
            "TRANSFERRING ||################........................||(368/929 MB:  39.63 %) \u0000\n",
            "TRANSFERRING ||#################.......................||(375/929 MB:  40.34 %) \u0000\n",
            "TRANSFERRING ||#################.......................||(381/929 MB:  41.04 %) \u0000\n",
            "TRANSFERRING ||################........................||(367/929 MB:  39.52 %) \u0000\n",
            "TRANSFERRING ||#################.......................||(383/929 MB:  41.25 %) \u0000\n",
            "TRANSFERRING ||#################.......................||(385/929 MB:  41.48 %) \u0000\n",
            "TRANSFERRING ||#################.......................||(388/929 MB:  41.83 %) \u0000\n",
            "TRANSFERRING ||##################......................||(396/929 MB:  42.59 %) \u0000\n",
            "TRANSFERRING ||##################......................||(408/929 MB:  43.98 %) \u0000\n",
            "TRANSFERRING ||###################.....................||(421/929 MB:  45.37 %) \u0000\n",
            "TRANSFERRING ||##################......................||(416/929 MB:  44.80 %) \u0000\n",
            "TRANSFERRING ||####################....................||(442/929 MB:  47.58 %) \u0000\n",
            "TRANSFERRING ||###################.....................||(431/929 MB:  46.41 %) \u0000\n",
            "TRANSFERRING ||###################.....................||(431/929 MB:  46.41 %) \u0000\n",
            "TRANSFERRING ||####################....................||(449/929 MB:  48.40 %) \u0000\n",
            "TRANSFERRING ||####################....................||(452/929 MB:  48.69 %) \u0000\n",
            "TRANSFERRING ||####################....................||(456/929 MB:  49.05 %) \u0000\n",
            "TRANSFERRING ||####################....................||(462/929 MB:  49.79 %) \u0000\n",
            "TRANSFERRING ||#####################...................||(475/929 MB:  51.12 %) \u0000\n",
            "TRANSFERRING ||#####################...................||(469/929 MB:  50.50 %) \u0000\n",
            "TRANSFERRING ||######################..................||(495/929 MB:  53.27 %) \u0000\n",
            "TRANSFERRING ||######################..................||(504/929 MB:  54.28 %) \u0000\n",
            "TRANSFERRING ||######################..................||(495/929 MB:  53.27 %) \u0000\n",
            "TRANSFERRING ||######################..................||(495/929 MB:  53.29 %) \u0000\n",
            "TRANSFERRING ||#######################.................||(512/929 MB:  55.11 %) \u0000\n",
            "TRANSFERRING ||#######################.................||(515/929 MB:  55.46 %) \u0000\n",
            "TRANSFERRING ||#######################.................||(518/929 MB:  55.81 %) \u0000\n",
            "TRANSFERRING ||#######################.................||(525/929 MB:  56.54 %) \u0000\n",
            "TRANSFERRING ||########################................||(537/929 MB:  57.78 %) \u0000\n",
            "TRANSFERRING ||########################................||(549/929 MB:  59.05 %) \u0000\n",
            "TRANSFERRING ||#########################...............||(558/929 MB:  60.10 %) \u0000\n",
            "TRANSFERRING ||#########################...............||(568/929 MB:  61.14 %) \u0000\n",
            "TRANSFERRING ||#########################...............||(558/929 MB:  60.03 %) \u0000\n",
            "TRANSFERRING ||#########################...............||(575/929 MB:  61.89 %) \u0000\n",
            "TRANSFERRING ||#########################...............||(575/929 MB:  61.90 %) \u0000\n",
            "TRANSFERRING ||#########################...............||(577/929 MB:  62.06 %) \u0000\n",
            "TRANSFERRING ||#########################...............||(580/929 MB:  62.40 %) \u0000\n",
            "TRANSFERRING ||##########################..............||(584/929 MB:  62.91 %) \u0000\n",
            "TRANSFERRING ||##########################..............||(595/929 MB:  64.04 %) \u0000\n",
            "TRANSFERRING ||###########################.............||(608/929 MB:  65.43 %) \u0000\n",
            "TRANSFERRING ||##########################..............||(603/929 MB:  64.91 %) \u0000\n",
            "TRANSFERRING ||############################............||(629/929 MB:  67.69 %) \u0000\n",
            "TRANSFERRING ||###########################.............||(620/929 MB:  66.77 %) \u0000\n",
            "TRANSFERRING ||############################............||(639/929 MB:  68.78 %) \u0000\n",
            "TRANSFERRING ||############################............||(639/929 MB:  68.78 %) \u0000\n",
            "TRANSFERRING ||############################............||(641/929 MB:  68.98 %) \u0000\n",
            "TRANSFERRING ||############################............||(644/929 MB:  69.32 %) \u0000\n",
            "TRANSFERRING ||############################............||(647/929 MB:  69.67 %) \u0000\n",
            "TRANSFERRING ||#############################...........||(653/929 MB:  70.29 %) \u0000\n",
            "TRANSFERRING ||#############################...........||(662/929 MB:  71.28 %) \u0000\n",
            "TRANSFERRING ||#############################...........||(657/929 MB:  70.68 %) \u0000\n",
            "TRANSFERRING ||##############################..........||(682/929 MB:  73.44 %) \u0000\n",
            "TRANSFERRING ||##############################..........||(692/929 MB:  74.48 %) \u0000\n",
            "TRANSFERRING ||###############################.........||(699/929 MB:  75.22 %) \u0000\n",
            "TRANSFERRING ||###############################.........||(702/929 MB:  75.60 %) \u0000\n",
            "TRANSFERRING ||##############################..........||(689/929 MB:  74.14 %) \u0000\n",
            "TRANSFERRING ||###############################.........||(708/929 MB:  76.21 %) \u0000\n",
            "TRANSFERRING ||###############################.........||(711/929 MB:  76.55 %) \u0000\n",
            "TRANSFERRING ||###############################.........||(717/929 MB:  77.12 %) \u0000\n",
            "TRANSFERRING ||################################........||(723/929 MB:  77.77 %) \u0000\n",
            "TRANSFERRING ||################################........||(727/929 MB:  78.26 %) \u0000\n",
            "TRANSFERRING ||################################........||(732/929 MB:  78.74 %) \u0000\n",
            "TRANSFERRING ||################################........||(738/929 MB:  79.44 %) \u0000\n",
            "TRANSFERRING ||#################################.......||(748/929 MB:  80.48 %) \u0000\n",
            "TRANSFERRING ||################################........||(740/929 MB:  79.59 %) \u0000\n",
            "TRANSFERRING ||#################################.......||(765/929 MB:  82.35 %) \u0000\n",
            "TRANSFERRING ||#################################.......||(757/929 MB:  81.45 %) \u0000\n",
            "TRANSFERRING ||##################################......||(777/929 MB:  83.59 %) \u0000\n",
            "TRANSFERRING ||##################################......||(782/929 MB:  84.16 %) \u0000\n",
            "TRANSFERRING ||##################################......||(788/929 MB:  84.82 %) \u0000\n",
            "TRANSFERRING ||###################################.....||(792/929 MB:  85.19 %) \u0000\n",
            "TRANSFERRING ||###################################.....||(798/929 MB:  85.85 %) \u0000\n",
            "TRANSFERRING ||###################################.....||(807/929 MB:  86.87 %) \u0000\n",
            "TRANSFERRING ||####################################....||(814/929 MB:  87.62 %) \u0000\n",
            "TRANSFERRING ||####################################....||(821/929 MB:  88.35 %) \u0000\n",
            "TRANSFERRING ||####################################....||(830/929 MB:  89.29 %) \u0000\n",
            "TRANSFERRING ||####################################....||(822/929 MB:  88.49 %) \u0000\n",
            "TRANSFERRING ||####################################....||(825/929 MB:  88.82 %) \u0000\n",
            "TRANSFERRING ||#####################################...||(844/929 MB:  90.84 %) \u0000\n",
            "TRANSFERRING ||#####################################...||(847/929 MB:  91.19 %) \u0000\n",
            "TRANSFERRING ||#####################################...||(851/929 MB:  91.54 %) \u0000\n",
            "TRANSFERRING ||#####################################...||(854/929 MB:  91.95 %) \u0000\n",
            "TRANSFERRING ||######################################..||(863/929 MB:  92.91 %) \u0000\n",
            "TRANSFERRING ||#####################################...||(837/929 MB:  90.11 %) \u0000\n",
            "TRANSFERRING ||#####################################...||(859/929 MB:  92.43 %) \u0000\n",
            "TRANSFERRING ||######################################..||(878/929 MB:  94.50 %) \u0000\n",
            "TRANSFERRING ||######################################..||(879/929 MB:  94.59 %) \u0000\n",
            "TRANSFERRING ||######################################..||(879/929 MB:  94.59 %) \u0000\n",
            "TRANSFERRING ||######################################..||(881/929 MB:  94.75 %) \u0000\n",
            "TRANSFERRING ||#######################################.||(884/929 MB:  95.14 %) \u0000\n",
            "TRANSFERRING ||#######################################.||(892/929 MB:  95.94 %) \u0000\n",
            "TRANSFERRING ||#######################################.||(899/929 MB:  96.78 %) \u0000\n",
            "TRANSFERRING ||#######################################.||(903/929 MB:  97.17 %) \u0000\n",
            "TRANSFERRING ||#######################################.||(903/929 MB:  97.17 %) \u0000\n",
            "TRANSFERRING ||#######################################.||(904/929 MB:  97.23 %) \u0000\n",
            "TRANSFERRING ||#######################################.||(904/929 MB:  97.31 %) \u0000\n",
            "TRANSFERRING ||#######################################.||(905/929 MB:  97.37 %) \u0000\n",
            "TRANSFERRING ||#######################################.||(906/929 MB:  97.45 %) \u0000\n",
            "TRANSFERRING ||########################################||(907/929 MB:  97.58 %) \u0000\n",
            "TRANSFERRING ||########################################||(911/929 MB:  98.05 %) \u0000\n",
            "TRANSFERRING ||########################################||(915/929 MB:  98.46 %) \u0000\n",
            "TRANSFERRING ||########################################||(915/929 MB:  98.46 %) \u0000\n",
            "TRANSFERRING ||########################################||(916/929 MB:  98.53 %) \u0000\n",
            "TRANSFERRING ||########################################||(920/929 MB:  98.97 %) \u0000\n",
            "TRANSFERRING ||########################################||(922/929 MB:  99.21 %) \u0000\n",
            "TRANSFERRING ||########################################||(922/929 MB:  99.22 %) \u0000\n",
            "TRANSFERRING ||########################################||(924/929 MB:  99.43 %) \u0000\n",
            "TRANSFERRING ||########################################||(925/929 MB:  99.54 %) \u0000\n",
            "TRANSFERRING ||########################################||(926/929 MB:  99.63 %) \u0000\n",
            "TRANSFERRING ||########################################||(926/929 MB:  99.65 %) \u0000\n",
            "TRANSFERRING ||########################################||(927/929 MB:  99.79 %) \u0000\n",
            "TRANSFERRING ||########################################||(929/929 MB:  99.97 %) \u0000\n",
            "TRANSFERRING ||########################################||(929/929 MB: 100.00 %) \u0000\n",
            "TRANSFERRING ||########################################||(929/929 MB: 100.00 %) \u0000\n",
            "Download finished: /content/kcg-ml/./downloads/pixel-art-tagged-v3.zip\n",
            "TRANSFERRING ||########################################||(929/929 MB: 100.00 %) \u0000\n",
            "TRANSFERRING ||#........................................||(13/987 MB:   1.37 %) \u0000\n",
            "TRANSFERRING ||##.......................................||(33/987 MB:   3.39 %) \u0000\n",
            "TRANSFERRING ||##.......................................||(34/987 MB:   3.53 %) \u0000\n",
            "TRANSFERRING ||##.......................................||(36/987 MB:   3.70 %) \u0000\n",
            "TRANSFERRING ||##.......................................||(38/987 MB:   3.91 %) \u0000\n",
            "TRANSFERRING ||##.......................................||(40/987 MB:   4.13 %) \u0000\n",
            "TRANSFERRING ||##.......................................||(43/987 MB:   4.36 %) \u0000\n",
            "TRANSFERRING ||##.......................................||(45/987 MB:   4.59 %) \u0000\n",
            "TRANSFERRING ||##.......................................||(47/987 MB:   4.85 %) \u0000\n",
            "TRANSFERRING ||###......................................||(54/987 MB:   5.54 %) \u0000\n",
            "TRANSFERRING ||###......................................||(67/987 MB:   6.83 %) \u0000\n",
            "TRANSFERRING ||####.....................................||(74/987 MB:   7.51 %) \u0000\n",
            "TRANSFERRING ||#####...................................||(100/987 MB:  10.13 %) \u0000\n",
            "TRANSFERRING ||#####...................................||(105/987 MB:  10.64 %) \u0000\n",
            "TRANSFERRING ||#####...................................||(105/987 MB:  10.72 %) \u0000\n",
            "TRANSFERRING ||#####...................................||(107/987 MB:  10.84 %) \u0000\n",
            "TRANSFERRING ||#####...................................||(108/987 MB:  10.95 %) \u0000\n",
            "TRANSFERRING ||#####...................................||(109/987 MB:  11.09 %) \u0000\n",
            "TRANSFERRING ||#####...................................||(110/987 MB:  11.17 %) \u0000\n",
            "TRANSFERRING ||#####...................................||(106/987 MB:  10.83 %) \u0000\n",
            "TRANSFERRING ||######..................................||(126/987 MB:  12.77 %) \u0000\n",
            "TRANSFERRING ||#######.................................||(153/987 MB:  15.57 %) \u0000\n",
            "TRANSFERRING ||#######.................................||(160/987 MB:  16.25 %) \u0000\n",
            "TRANSFERRING ||#######.................................||(165/987 MB:  16.74 %) \u0000\n",
            "TRANSFERRING ||#######.................................||(168/987 MB:  17.04 %) \u0000\n",
            "TRANSFERRING ||#######.................................||(170/987 MB:  17.28 %) \u0000\n",
            "TRANSFERRING ||########................................||(174/987 MB:  17.64 %) \u0000\n",
            "TRANSFERRING ||########................................||(175/987 MB:  17.77 %) \u0000\n",
            "TRANSFERRING ||########................................||(183/987 MB:  18.57 %) \u0000\n",
            "TRANSFERRING ||#########...............................||(204/987 MB:  20.75 %) \u0000\n",
            "TRANSFERRING ||#########...............................||(218/987 MB:  22.14 %) \u0000\n",
            "TRANSFERRING ||##########..............................||(226/987 MB:  22.96 %) \u0000\n",
            "TRANSFERRING ||#########...............................||(216/987 MB:  21.90 %) \u0000\n",
            "TRANSFERRING ||##########..............................||(233/987 MB:  23.65 %) \u0000\n",
            "TRANSFERRING ||##########..............................||(235/987 MB:  23.88 %) \u0000\n",
            "TRANSFERRING ||##########..............................||(238/987 MB:  24.12 %) \u0000\n",
            "TRANSFERRING ||##########..............................||(239/987 MB:  24.25 %) \u0000\n",
            "TRANSFERRING ||##########..............................||(239/987 MB:  24.25 %) \u0000\n",
            "TRANSFERRING ||###########.............................||(249/987 MB:  25.30 %) \u0000\n",
            "TRANSFERRING ||###########.............................||(270/987 MB:  27.34 %) \u0000\n",
            "TRANSFERRING ||############............................||(279/987 MB:  28.33 %) \u0000\n",
            "TRANSFERRING ||############............................||(274/987 MB:  27.84 %) \u0000\n",
            "TRANSFERRING ||############............................||(293/987 MB:  29.69 %) \u0000\n",
            "TRANSFERRING ||############............................||(293/987 MB:  29.73 %) \u0000\n",
            "TRANSFERRING ||############............................||(293/987 MB:  29.76 %) \u0000\n",
            "TRANSFERRING ||############............................||(294/987 MB:  29.77 %) \u0000\n",
            "TRANSFERRING ||############............................||(294/987 MB:  29.79 %) \u0000\n",
            "TRANSFERRING ||############............................||(294/987 MB:  29.80 %) \u0000\n",
            "TRANSFERRING ||#############...........................||(299/987 MB:  30.32 %) \u0000\n",
            "TRANSFERRING ||#############...........................||(313/987 MB:  31.79 %) \u0000\n",
            "TRANSFERRING ||##############..........................||(326/987 MB:  33.04 %) \u0000\n",
            "TRANSFERRING ||############............................||(294/987 MB:  29.87 %) \u0000\n",
            "TRANSFERRING ||#############...........................||(311/987 MB:  31.51 %) \u0000\n",
            "TRANSFERRING ||##############..........................||(343/987 MB:  34.77 %) \u0000\n",
            "TRANSFERRING ||##############..........................||(343/987 MB:  34.81 %) \u0000\n",
            "TRANSFERRING ||##############..........................||(344/987 MB:  34.85 %) \u0000\n",
            "TRANSFERRING ||##############..........................||(344/987 MB:  34.91 %) \u0000\n",
            "TRANSFERRING ||##############..........................||(345/987 MB:  34.97 %) \u0000\n",
            "TRANSFERRING ||###############.........................||(349/987 MB:  35.41 %) \u0000\n",
            "TRANSFERRING ||###############.........................||(365/987 MB:  37.00 %) \u0000\n",
            "TRANSFERRING ||###############.........................||(368/987 MB:  37.28 %) \u0000\n",
            "TRANSFERRING ||################........................||(377/987 MB:  38.25 %) \u0000\n",
            "TRANSFERRING ||################........................||(381/987 MB:  38.61 %) \u0000\n",
            "TRANSFERRING ||#################.......................||(398/987 MB:  40.32 %) \u0000\n",
            "TRANSFERRING ||#################.......................||(399/987 MB:  40.42 %) \u0000\n",
            "TRANSFERRING ||#################.......................||(399/987 MB:  40.45 %) \u0000\n",
            "TRANSFERRING ||#################.......................||(403/987 MB:  40.87 %) \u0000\n",
            "TRANSFERRING ||#################.......................||(417/987 MB:  42.27 %) \u0000\n",
            "TRANSFERRING ||##################......................||(431/987 MB:  43.74 %) \u0000\n",
            "TRANSFERRING ||##################......................||(440/987 MB:  44.61 %) \u0000\n",
            "TRANSFERRING ||##################......................||(443/987 MB:  44.90 %) \u0000\n",
            "TRANSFERRING ||###################.....................||(445/987 MB:  45.09 %) \u0000\n",
            "TRANSFERRING ||###################.....................||(448/987 MB:  45.40 %) \u0000\n",
            "TRANSFERRING ||###################.....................||(450/987 MB:  45.61 %) \u0000\n",
            "TRANSFERRING ||##################......................||(436/987 MB:  44.20 %) \u0000\n",
            "TRANSFERRING ||###################.....................||(452/987 MB:  45.84 %) \u0000\n",
            "TRANSFERRING ||###################.....................||(455/987 MB:  46.11 %) \u0000\n",
            "TRANSFERRING ||###################.....................||(465/987 MB:  47.13 %) \u0000\n",
            "TRANSFERRING ||####################....................||(474/987 MB:  48.10 %) \u0000\n",
            "TRANSFERRING ||####################....................||(483/987 MB:  49.00 %) \u0000\n",
            "TRANSFERRING ||####################....................||(474/987 MB:  48.10 %) \u0000\n",
            "TRANSFERRING ||####################....................||(477/987 MB:  48.35 %) \u0000\n",
            "TRANSFERRING ||#####################...................||(494/987 MB:  50.08 %) \u0000\n",
            "TRANSFERRING ||#####################...................||(495/987 MB:  50.18 %) \u0000\n",
            "TRANSFERRING ||#####################...................||(496/987 MB:  50.23 %) \u0000\n",
            "TRANSFERRING ||#####################...................||(496/987 MB:  50.31 %) \u0000\n",
            "TRANSFERRING ||#####################...................||(500/987 MB:  50.68 %) \u0000\n",
            "TRANSFERRING ||#####################...................||(504/987 MB:  51.13 %) \u0000\n",
            "TRANSFERRING ||#####################...................||(508/987 MB:  51.46 %) \u0000\n",
            "TRANSFERRING ||#####################...................||(512/987 MB:  51.86 %) \u0000\n",
            "TRANSFERRING ||#####################...................||(516/987 MB:  52.34 %) \u0000\n",
            "TRANSFERRING ||######################..................||(519/987 MB:  52.66 %) \u0000\n",
            "TRANSFERRING ||######################..................||(522/987 MB:  52.96 %) \u0000\n",
            "TRANSFERRING ||######################..................||(525/987 MB:  53.20 %) \u0000\n",
            "TRANSFERRING ||######################..................||(528/987 MB:  53.47 %) \u0000\n",
            "TRANSFERRING ||#####################...................||(513/987 MB:  52.00 %) \u0000\n",
            "TRANSFERRING ||######################..................||(531/987 MB:  53.87 %) \u0000\n",
            "TRANSFERRING ||######################..................||(535/987 MB:  54.22 %) \u0000\n",
            "TRANSFERRING ||######################..................||(541/987 MB:  54.79 %) \u0000\n",
            "TRANSFERRING ||#######################.................||(548/987 MB:  55.52 %) \u0000\n",
            "TRANSFERRING ||#######################.................||(556/987 MB:  56.40 %) \u0000\n",
            "TRANSFERRING ||#######################.................||(550/987 MB:  55.70 %) \u0000\n",
            "TRANSFERRING ||########################................||(573/987 MB:  58.05 %) \u0000\n",
            "TRANSFERRING ||########################................||(575/987 MB:  58.28 %) \u0000\n",
            "TRANSFERRING ||########################................||(575/987 MB:  58.28 %) \u0000\n",
            "TRANSFERRING ||########################................||(577/987 MB:  58.44 %) \u0000\n",
            "TRANSFERRING ||########################................||(583/987 MB:  59.09 %) \u0000\n",
            "TRANSFERRING ||########################................||(590/987 MB:  59.81 %) \u0000\n",
            "TRANSFERRING ||#########################...............||(600/987 MB:  60.78 %) \u0000\n",
            "TRANSFERRING ||#########################...............||(609/987 MB:  61.73 %) \u0000\n",
            "TRANSFERRING ||#########################...............||(603/987 MB:  61.12 %) \u0000\n",
            "TRANSFERRING ||##########################..............||(626/987 MB:  63.46 %) \u0000\n",
            "TRANSFERRING ||##########################..............||(631/987 MB:  63.94 %) \u0000\n",
            "TRANSFERRING ||##########################..............||(620/987 MB:  62.80 %) \u0000\n",
            "TRANSFERRING ||##########################..............||(638/987 MB:  64.65 %) \u0000\n",
            "TRANSFERRING ||##########################..............||(624/987 MB:  63.27 %) \u0000\n",
            "TRANSFERRING ||###########################.............||(644/987 MB:  65.26 %) \u0000\n",
            "TRANSFERRING ||###########################.............||(651/987 MB:  65.94 %) \u0000\n",
            "TRANSFERRING ||###########################.............||(657/987 MB:  66.63 %) \u0000\n",
            "TRANSFERRING ||###########################.............||(664/987 MB:  67.30 %) \u0000\n",
            "TRANSFERRING ||############################............||(673/987 MB:  68.23 %) \u0000\n",
            "TRANSFERRING ||############################............||(683/987 MB:  69.16 %) \u0000\n",
            "TRANSFERRING ||###########################.............||(660/987 MB:  66.91 %) \u0000\n",
            "TRANSFERRING ||############################............||(682/987 MB:  69.10 %) \u0000\n",
            "TRANSFERRING ||############################............||(684/987 MB:  69.35 %) \u0000\n",
            "TRANSFERRING ||#############################...........||(704/987 MB:  71.30 %) \u0000\n",
            "TRANSFERRING ||#############################...........||(709/987 MB:  71.85 %) \u0000\n",
            "TRANSFERRING ||#############################...........||(703/987 MB:  71.25 %) \u0000\n",
            "TRANSFERRING ||##############################..........||(727/987 MB:  73.63 %) \u0000\n",
            "TRANSFERRING ||##############################..........||(734/987 MB:  74.37 %) \u0000\n",
            "TRANSFERRING ||###############################.........||(744/987 MB:  75.40 %) \u0000\n",
            "TRANSFERRING ||##############################..........||(735/987 MB:  74.43 %) \u0000\n",
            "TRANSFERRING ||###############################.........||(751/987 MB:  76.10 %) \u0000\n",
            "TRANSFERRING ||###############################.........||(752/987 MB:  76.17 %) \u0000\n",
            "TRANSFERRING ||###############################.........||(753/987 MB:  76.32 %) \u0000\n",
            "TRANSFERRING ||###############################.........||(761/987 MB:  77.13 %) \u0000\n",
            "TRANSFERRING ||################################........||(774/987 MB:  78.39 %) \u0000\n",
            "TRANSFERRING ||################################........||(788/987 MB:  79.86 %) \u0000\n",
            "TRANSFERRING ||#################################.......||(797/987 MB:  80.80 %) \u0000\n",
            "TRANSFERRING ||#################################.......||(804/987 MB:  81.44 %) \u0000\n",
            "TRANSFERRING ||#################################.......||(807/987 MB:  81.76 %) \u0000\n",
            "TRANSFERRING ||#################################.......||(810/987 MB:  82.03 %) \u0000\n",
            "TRANSFERRING ||#################################.......||(811/987 MB:  82.19 %) \u0000\n",
            "TRANSFERRING ||##################################......||(818/987 MB:  82.91 %) \u0000\n",
            "TRANSFERRING ||##################################......||(827/987 MB:  83.81 %) \u0000\n",
            "TRANSFERRING ||#################################.......||(803/987 MB:  81.36 %) \u0000\n",
            "TRANSFERRING ||##################################......||(837/987 MB:  84.85 %) \u0000\n",
            "TRANSFERRING ||###################################.....||(839/987 MB:  85.03 %) \u0000\n",
            "TRANSFERRING ||###################################.....||(841/987 MB:  85.21 %) \u0000\n",
            "TRANSFERRING ||###################################.....||(842/987 MB:  85.36 %) \u0000\n",
            "TRANSFERRING ||###################################.....||(844/987 MB:  85.53 %) \u0000\n",
            "TRANSFERRING ||###################################.....||(845/987 MB:  85.63 %) \u0000\n",
            "TRANSFERRING ||###################################.....||(846/987 MB:  85.73 %) \u0000\n",
            "TRANSFERRING ||###################################.....||(848/987 MB:  85.95 %) \u0000\n",
            "TRANSFERRING ||###################################.....||(855/987 MB:  86.63 %) \u0000\n",
            "TRANSFERRING ||###################################.....||(861/987 MB:  87.25 %) \u0000\n",
            "TRANSFERRING ||####################################....||(868/987 MB:  87.90 %) \u0000\n",
            "TRANSFERRING ||####################################....||(874/987 MB:  88.53 %) \u0000\n",
            "TRANSFERRING ||####################################....||(881/987 MB:  89.22 %) \u0000\n",
            "TRANSFERRING ||####################################....||(868/987 MB:  87.92 %) \u0000\n",
            "TRANSFERRING ||####################################....||(884/987 MB:  89.62 %) \u0000\n",
            "TRANSFERRING ||####################################....||(885/987 MB:  89.69 %) \u0000\n",
            "TRANSFERRING ||####################################....||(886/987 MB:  89.76 %) \u0000\n",
            "TRANSFERRING ||####################################....||(887/987 MB:  89.82 %) \u0000\n",
            "TRANSFERRING ||####################################....||(887/987 MB:  89.91 %) \u0000\n",
            "TRANSFERRING ||####################################....||(888/987 MB:  89.98 %) \u0000\n",
            "TRANSFERRING ||####################################....||(888/987 MB:  89.99 %) \u0000\n",
            "TRANSFERRING ||#####################################...||(889/987 MB:  90.05 %) \u0000\n",
            "TRANSFERRING ||#####################################...||(893/987 MB:  90.43 %) \u0000\n",
            "TRANSFERRING ||#####################################...||(898/987 MB:  90.97 %) \u0000\n",
            "TRANSFERRING ||#####################################...||(896/987 MB:  90.79 %) \u0000\n",
            "TRANSFERRING ||#####################################...||(907/987 MB:  91.91 %) \u0000\n",
            "TRANSFERRING ||#####################################...||(911/987 MB:  92.33 %) \u0000\n",
            "TRANSFERRING ||######################################..||(916/987 MB:  92.82 %) \u0000\n",
            "TRANSFERRING ||######################################..||(921/987 MB:  93.30 %) \u0000\n",
            "TRANSFERRING ||######################################..||(925/987 MB:  93.72 %) \u0000\n",
            "TRANSFERRING ||#####################################...||(912/987 MB:  92.36 %) \u0000\n",
            "TRANSFERRING ||######################################..||(929/987 MB:  94.09 %) \u0000\n",
            "TRANSFERRING ||######################################..||(930/987 MB:  94.18 %) \u0000\n",
            "TRANSFERRING ||######################################..||(930/987 MB:  94.27 %) \u0000\n",
            "TRANSFERRING ||######################################..||(923/987 MB:  93.53 %) \u0000\n",
            "TRANSFERRING ||######################################..||(932/987 MB:  94.41 %) \u0000\n",
            "TRANSFERRING ||######################################..||(933/987 MB:  94.50 %) \u0000\n",
            "TRANSFERRING ||######################################..||(935/987 MB:  94.77 %) \u0000\n",
            "TRANSFERRING ||#######################################.||(941/987 MB:  95.36 %) \u0000\n",
            "TRANSFERRING ||#######################################.||(945/987 MB:  95.79 %) \u0000\n",
            "TRANSFERRING ||#######################################.||(952/987 MB:  96.42 %) \u0000\n",
            "TRANSFERRING ||#######################################.||(957/987 MB:  96.99 %) \u0000\n",
            "TRANSFERRING ||#######################################.||(955/987 MB:  96.71 %) \u0000\n",
            "TRANSFERRING ||########################################||(963/987 MB:  97.56 %) \u0000\n",
            "TRANSFERRING ||########################################||(963/987 MB:  97.57 %) \u0000\n",
            "TRANSFERRING ||########################################||(966/987 MB:  97.87 %) \u0000\n",
            "TRANSFERRING ||########################################||(972/987 MB:  98.51 %) \u0000\n",
            "TRANSFERRING ||########################################||(978/987 MB:  99.05 %) \u0000\n",
            "TRANSFERRING ||########################################||(981/987 MB:  99.39 %) \u0000\n",
            "TRANSFERRING ||########################################||(985/987 MB:  99.80 %) \u0000\n",
            "TRANSFERRING ||########################################||(986/987 MB:  99.92 %) \u0000\n",
            "TRANSFERRING ||########################################||(987/987 MB: 100.00 %) \u0000\n",
            "Download finished: /content/kcg-ml/./downloads/pixel-art-pinterest-030.zip\n",
            "TRANSFERRING ||########################################||(987/987 MB: 100.00 %) \u0000\n"
          ]
        }
      ],
      "source": [
        "import os\n",
        "import contextlib\n",
        "from subprocess import Popen, PIPE, STDOUT\n",
        "\n",
        "# Download URL on Mega\n",
        "tagged_dataset_url = 'https://mega.nz/file/8RhFRISJ#vlQhjBp5hrNtQzFnRVQtD_ilHfIyLOSrlwVXEb3t1UM'\n",
        "other_dataset_url  = 'https://mega.nz/file/5FhGkRjD#yFihfhr1RMHfPTffhPB4tQtJsnn_HBYFOSfqdPOrp78'\n",
        "# Destination path for download\n",
        "destination_path = './downloads'\n",
        "os.makedirs(destination_path, exist_ok=True)\n",
        "\n",
        "# Function for printing the download progress\n",
        "def print_progress(proc, stream='stdout'):\n",
        "  newlines = ['\\n', '\\r\\n', '\\r']\n",
        "  stream = getattr(proc, stream)\n",
        "  with contextlib.closing(stream):\n",
        "      while True:\n",
        "          out = []\n",
        "          last = stream.read(1)\n",
        "          # Don't loop forever\n",
        "          if last == '' and proc.poll() is not None:\n",
        "              break\n",
        "          while last not in newlines:\n",
        "              # Don't loop forever\n",
        "              if last == '' and proc.poll() is not None:\n",
        "                  break\n",
        "              out.append(last)\n",
        "              last = stream.read(1)\n",
        "          out = ''.join(out)\n",
        "          yield out\n",
        "\n",
        "# Download dataset\n",
        "for data_url in [tagged_dataset_url, other_dataset_url]:\n",
        "  cmd = [\"mega-get\", data_url, destination_path]\n",
        "  proc = Popen(cmd,stdout=PIPE, stderr=STDOUT, universal_newlines=True)\n",
        "  for line in print_progress(proc):\n",
        "    print(line)"
      ]
    },
    {
      "cell_type": "markdown",
      "metadata": {
        "id": "xFI20pLVcuvU"
      },
      "source": [
        "# Fetch & Clone Repo\n",
        "\n",
        "Clone the `image-tagging-tools` repo as it has all the required utils and codes from preprocessing the image datasets to training the models and using them to classify the images. "
      ]
    },
    {
      "cell_type": "code",
      "execution_count": 6,
      "metadata": {
        "colab": {
          "base_uri": "https://localhost:8080/"
        },
        "id": "6n6QEB49cuvV",
        "outputId": "5f88f61e-21dd-4361-cbea-3a5ad450ea96"
      },
      "outputs": [
        {
          "name": "stdout",
          "output_type": "stream",
          "text": [
            "Cloning into 'image-tagging-tools'...\n",
            "remote: Enumerating objects: 2565, done.\u001b[K\n",
            "remote: Counting objects: 100% (557/557), done.\u001b[K\n",
            "remote: Compressing objects: 100% (242/242), done.\u001b[K\n",
            "remote: Total 2565 (delta 341), reused 485 (delta 313), pack-reused 2008\u001b[K\n",
            "Receiving objects: 100% (2565/2565), 25.34 MiB | 22.35 MiB/s, done.\n",
            "Resolving deltas: 100% (1488/1488), done.\n",
            "/content/kcg-ml/image-tagging-tools\n"
          ]
        }
      ],
      "source": [
        "!git clone https://github.com/kk-digital/image-tagging-tools.git\n",
        "%cd image-tagging-tools"
      ]
    },
    {
      "cell_type": "markdown",
      "metadata": {
        "id": "6hYcmeZicuvW"
      },
      "source": [
        "# Preprocess the Dataset images (Stage 1)\n",
        "\n",
        "Process a tagged dataset and computes the images metadata along with its CLIP embeddings and writes the result into a JSON file in specified output folder. In addition, the SQLite database named `dataset_cache.sqlite` with table named `dataset_cache` containing file name, hash and file path for dataset images will be created in the `./output` folder. "
      ]
    },
    {
      "cell_type": "markdown",
      "metadata": {
        "id": "guwuN0UncuvW"
      },
      "source": [
        "### Install Requirements "
      ]
    },
    {
      "cell_type": "code",
      "execution_count": 7,
      "metadata": {
        "id": "86S-QyvSnwG8"
      },
      "outputs": [],
      "source": [
        "%%capture\n",
        "%pip install ascii_graph open_clip_torch patool fire"
      ]
    },
    {
      "cell_type": "markdown",
      "metadata": {
        "id": "QjFCz0FO0Jkj"
      },
      "source": [
        "### Extract Downloaded ZIP-Archived Data (Optional)\n",
        "This step is optional. If this step is not performed, Stage 1 will perform the extraction"
      ]
    },
    {
      "cell_type": "code",
      "execution_count": 8,
      "metadata": {
        "id": "iir8occq0Jkj"
      },
      "outputs": [],
      "source": [
        "from zipfile import ZipFile\n",
        "\n",
        "# Specify location of downloaded data (zip file)\n",
        "#downloaded_data_zip = '/content/downloads/pixel-art-tagged-v3.zip'\n",
        "#^^ Causing an error, as the current path is not \"content\" but \"kcg-ml\"\n",
        "downloaded_data_zip = \"/content/kcg-ml/downloads/pixel-art-tagged-v3.zip\"\n",
        "# Location to extract the zip file to\n",
        "dataset_path = f'./datasets/{os.path.splitext(os.path.split(downloaded_data_zip)[-1])[0]}'\n",
        "\n",
        "with ZipFile(downloaded_data_zip) as zip_object:\n",
        "    zip_object.extractall(dataset_path)"
      ]
    },
    {
      "cell_type": "markdown",
      "metadata": {
        "id": "hiqXMqOEcuvX"
      },
      "source": [
        "### Import the Module/Utility "
      ]
    },
    {
      "cell_type": "code",
      "execution_count": 9,
      "metadata": {
        "id": "usaH8e-fcuvY"
      },
      "outputs": [],
      "source": [
        "import sys\n",
        "sys.path.insert(0, './clip_linear_probe_pipeline/data_loader/')\n",
        "sys.path.insert(0, './clip_linear_probe_pipeline/train/')\n",
        "sys.path.insert(0, './clip_linear_probe_pipeline/classify/')\n",
        "from ImageDatasetProcessor import ImageDatasetProcessor\n",
        "from classify import main as classify_main\n",
        "from train import main as train_main\n",
        "from classify_helper_functions import *\n",
        "import patoolib\n",
        "import shutil"
      ]
    },
    {
      "cell_type": "markdown",
      "metadata": {
        "id": "LeIimd1gcuvY"
      },
      "source": [
        "### Set Required Variables by the Utility\n",
        "\n",
        "Initialize the required parameters needed by the dataset preprocessor utility and they are described as follows: \n",
        "\n",
        "* `input_folder` _[str]_ -  path to the directory containing sub-folders of each tag.\n",
        "* `output_folder` _[str]_ - path to the directory where to save the files into it.\n",
        "* `clip_model` _[str]_ - CLIP model to be used\n",
        "* `pretrained` _[str]_ - the pre-trained model to be used for CLIP\n",
        "* `batch_size` _[int]_ -  number of images to process at a time\n",
        "* `num_threads` _[int]_ - the number to be used in this process\n",
        "* `device` _[str]_ -  the device to be used in computing the CLIP embeddings, if `None` is provided then `cuda` will be used if available\n"
      ]
    },
    {
      "cell_type": "code",
      "execution_count": 10,
      "metadata": {
        "id": "sFReXmwmcuvY"
      },
      "outputs": [],
      "source": [
        "# Specify the path to the dataset in dataset_path variable\n",
        "# dataset_path = '/content/downloads/pixel-art-tagged-v3.zip'\n",
        "dataset_path = './datasets/testdata.zip'\n",
        "output_folder = './output'\n",
        "tagged_dataset = True\n",
        "clip_model = 'ViT-L-14'\n",
        "pretrained = 'openai'\n",
        "batch_size = 32\n",
        "num_threads = 4\n",
        "device = None"
      ]
    },
    {
      "cell_type": "markdown",
      "metadata": {
        "id": "D691ZEnrcuvZ"
      },
      "source": [
        "### Run the Preprocessor"
      ]
    },
    {
      "cell_type": "code",
      "execution_count": 11,
      "metadata": {
        "colab": {
          "base_uri": "https://localhost:8080/"
        },
        "id": "YZPLvQ1EcuvZ",
        "outputId": "fa43696b-b291-4ac3-bfcf-5a6ae4a72f49"
      },
      "outputs": [
        {
          "name": "stderr",
          "output_type": "stream",
          "text": [
            "100%|████████████████████████████████████████| 933M/933M [00:08<00:00, 108MiB/s]\n"
          ]
        },
        {
          "name": "stdout",
          "output_type": "stream",
          "text": [
            "patool: Extracting ./datasets/testdata.zip ...\n",
            "patool: running /usr/bin/7z x -o./datasets/testdata-decompressed-tmp -- ./datasets/testdata.zip\n",
            "patool: ... ./datasets/testdata.zip extracted to `./datasets/testdata-decompressed-tmp'.\n",
            "is archive dataset\n",
            "dataset folder path  = ./datasets/testdata-decompressed-tmp/testdata\n",
            "Processing...\n"
          ]
        },
        {
          "name": "stderr",
          "output_type": "stream",
          "text": [
            "100%|██████████| 1/1 [00:06<00:00,  6.95s/it]\n"
          ]
        },
        {
          "name": "stdout",
          "output_type": "stream",
          "text": [
            "[INFO] Writing to database table in ./output/dataset_cache.sqlite\n",
            "[INFO] Finished.\n"
          ]
        }
      ],
      "source": [
        "ImageDatasetProcessor.process_dataset(\n",
        "    dataset_path, \n",
        "    output_folder,\n",
        "    tagged_dataset, \n",
        "    clip_model, \n",
        "    pretrained,\n",
        "    batch_size, \n",
        "    num_threads, \n",
        "    device\n",
        ")"
      ]
    },
    {
      "cell_type": "markdown",
      "metadata": {
        "id": "7NP6ix1K0Jko"
      },
      "source": [
        "# Train the Classifiers (Stage 2)\n",
        "Given a `metadata` json file containing embeddings for images and `tag-to-image-hash` json file containing images' hash with tags, the script start to make for every tag two binary classification models and save it in output folder."
      ]
    },
    {
      "cell_type": "markdown",
      "metadata": {
        "id": "Ld8q1avSOdOP"
      },
      "source": [
        "### Train Script Variables\n",
        "\n",
        "* `metadata_json` _[string]_ - _[required]_ - The path to the metadata json file. \n",
        "* `tag_to_hash_json` _[string]_ - _[required]_ - The path to tag-to-hash json file. \n",
        "* `output` _[string]_ - _[optional]_ - The path to the output directory.\n",
        "* `test_per` _[float]_ - _[optional]_ - The percentage of the test images from the dataset, default = 0.1 \n"
      ]
    },
    {
      "cell_type": "code",
      "execution_count": 12,
      "metadata": {
        "id": "fYigdGm_PHLm"
      },
      "outputs": [],
      "source": [
        "# Run from ./image-tagging-tools directory\n",
        "metadata_json = './output/input-metadata.json' \n",
        "tag_to_hash_json = './output/input-tag-to-image-hash-list.json'\n",
        "output_dir = './output'\n",
        "test_per = 0.1"
      ]
    },
    {
      "cell_type": "markdown",
      "metadata": {
        "id": "8GLoJWDJS1vm"
      },
      "source": [
        "### Run the Training Script"
      ]
    },
    {
      "cell_type": "code",
      "execution_count": 13,
      "metadata": {
        "colab": {
          "base_uri": "https://localhost:8080/"
        },
        "id": "fjWOmPV1-3Zz",
        "outputId": "fc1b88a5-42f9-4169-b17a-595539b454a1"
      },
      "outputs": [
        {
          "name": "stdout",
          "output_type": "stream",
          "text": [
            "Initialize new classifier model for type: ovr-logistic-regression and tag: not-pixel-art\n",
            "Initialize new classifier model for type: ovr-svm and tag: not-pixel-art\n",
            "Initialize new classifier model for type: torch-logistic-regression and tag: not-pixel-art\n",
            "Initialize new classifier model for type: ovr-logistic-regression and tag: not-pixel-art-real-photo\n",
            "Initialize new classifier model for type: ovr-svm and tag: not-pixel-art-real-photo\n",
            "Initialize new classifier model for type: torch-logistic-regression and tag: not-pixel-art-real-photo\n",
            "[INFO] Finished.\n"
          ]
        }
      ],
      "source": [
        "train_main(\n",
        "    metadata_json = metadata_json,\n",
        "    tag_to_hash_json = tag_to_hash_json,\n",
        "    output_dir = output_dir,\n",
        "    test_per = test_per\n",
        ")"
      ]
    },
    {
      "cell_type": "markdown",
      "metadata": {
        "id": "b0XRJjRk0Jkq"
      },
      "source": [
        "### Get List of Type and Tag Pairs from All Models'''"
      ]
    },
    {
      "cell_type": "code",
      "execution_count": 14,
      "metadata": {
        "colab": {
          "base_uri": "https://localhost:8080/"
        },
        "id": "R6CFMXSe0Jkq",
        "outputId": "1e972dd9-b55e-48cf-c5d6-811555dcdded"
      },
      "outputs": [
        {
          "name": "stdout",
          "output_type": "stream",
          "text": [
            "[('ovr-svm', 'not-pixel-art-real-photo'), ('ovr-logistic-regression', 'not-pixel-art'), ('ovr-logistic-regression', 'not-pixel-art-real-photo'), ('torch-logistic-regression', 'not-pixel-art'), ('ovr-svm', 'not-pixel-art'), ('torch-logistic-regression', 'not-pixel-art-real-photo')]\n"
          ]
        }
      ],
      "source": [
        "from model_api.model_api import ModelApi\n",
        "# Creating model object\n",
        "model_api = ModelApi()\n",
        "type_tag_pair = model_api.get_type_tag_pair() \n",
        "print (type_tag_pair)"
      ]
    },
    {
      "cell_type": "markdown",
      "metadata": {
        "id": "sWk1yAtT0Jkq"
      },
      "source": [
        "# Classify Data (Stage 3)\n",
        "Running the classifier. The script will loop over every image and make the classification for it using every binary classification model. Running the classifier can be performed from command line interface (CLI) or within Python runtime as shown in the following examples."
      ]
    },
    {
      "cell_type": "markdown",
      "metadata": {
        "id": "i5BGwBD40Jkr"
      },
      "source": [
        "## Running the classifier from Command Line Interface (CLI Version)"
      ]
    },
    {
      "cell_type": "code",
      "execution_count": null,
      "metadata": {
        "id": "Jv20Alp10Jkr"
      },
      "outputs": [],
      "source": [
        "!python ./clip_linear_probe_pipeline/classify/classify.py --directory=$dataset_path --metadata_json=./output/input-metadata.json --output=./output --output_bins=10 --model_type=ovr-logistic-regression --tag=not-pixel-art"
      ]
    },
    {
      "cell_type": "markdown",
      "metadata": {
        "id": "VtcQghX_S5YD"
      },
      "source": [
        "### CLI Arguments\n",
        "\n",
        "* `directory` _[string]_ - _[required]_ - The path to the images' folder or images' .zip file. \n",
        "* `metadata_json` _[string]_ - _[required]_ - The path to the metadata json file for CLIP embeddings. \n",
        "* `output` _[string]_ - _[optional]_ - The path to the output directory for the inference results. \n",
        "* `model_type` _[string]_ - _[required]_ - The type of the model (example: `ovr-logistic-regression`, `ovr-svm`, `torch-logistic-regression`).\n",
        "* `tag` _[string]_ - _[required]_ - Tag string (example: `pos-character`, `pos-environmental-space`, etc).\n",
        "* `output_bins` _[int]_ - _[optional]_ -  The number of bins of the results for each model.\n",
        "\n",
        "If the `--output` argument is not specified, the classification / inference result will be placed at `./output/tagging_output` folder. Time stamp will be appended to folder name (for example: `./output/tagging_output_2023_1_21_0_56`).\n",
        "In addition, the SQLite database named `score_cache.sqlite` with table named `score_cache` containing file name, file path, file hash, model name, model type, model train date, tag string and tag score for given images will be created in the `./output` folder. For archived (ZIP) files the SQLite database named `zip_score_cache.sqlite` with table named `zip_score_cache` containing file name, file path, archive path, type of file, hash, model type, tag name and tag score for given images will be created in the `output` folder. "
      ]
    },
    {
      "cell_type": "markdown",
      "metadata": {
        "id": "yqWClYXL0Jkt"
      },
      "source": [
        "## Running the Classifier (from Python Runtime)\n",
        "\n",
        "### Variables for Classifier\n",
        "* `data_path` _[string]_ - _[required]_ - The path to the images data folder or single image file'. \n",
        "* `json_file_path` _[string]_ - _[required]_ - The path to the metadata json file for CLIP embeddings. \n",
        "* `output_dir` _[string]_ - _[optional]_ - The path to the output directory for the inference results. \n",
        "* `model_type` _[string]_ - _[required]_ - The type of the model (example: `ovr-logistic-regression`, `ovr-svm`, `torch-logistic-regression`)\n",
        "* `tag` _[string]_ - _[required]_ - Tag string (example: `pos-character`, `pos-environmental-space`, etc).\n",
        "* `bins_number` _[int]_ - _[optional]_ -  The number of bins of the results for each model."
      ]
    },
    {
      "cell_type": "markdown",
      "metadata": {
        "id": "tYNYecZD0Jkt"
      },
      "source": [
        "### Classify Images Data in Folder with Single Model"
      ]
    },
    {
      "cell_type": "code",
      "execution_count": null,
      "metadata": {
        "id": "r-TOTcaO0Jku"
      },
      "outputs": [],
      "source": [
        "# Specify path to folder containing images data in data_path variable\n",
        "# data_path = '../path/to/image/data/folder/'\n",
        "# Or test with images in dataset\n",
        "data_path    = dataset_path\n",
        "output_dir     = './output/classification_single_image_single_model'\n",
        "json_file_path = './output/input-metadata.json'\n",
        "bins_number    = 10\n",
        "# Specify the type of model\n",
        "model_type = 'ovr-logistic-regression'\n",
        "# Specify the tag string\n",
        "tag = 'not-pixel-art'"
      ]
    },
    {
      "cell_type": "code",
      "execution_count": null,
      "metadata": {
        "id": "4rP7aXbl0Jku"
      },
      "outputs": [],
      "source": [
        "classify_main(\n",
        "        folder_path    = data_path, \n",
        "        output_dir     = output_dir, \n",
        "        json_file_path = json_file_path, \n",
        "        bins_number = bins_number,\n",
        "        model_type = model_type, \n",
        "        tag = tag\n",
        "        )"
      ]
    },
    {
      "cell_type": "markdown",
      "metadata": {
        "id": "W9EspSha0Jkv"
      },
      "source": [
        "### Classify Single Image with Single Model"
      ]
    },
    {
      "cell_type": "code",
      "execution_count": null,
      "metadata": {
        "id": "7IEpcEBZ0Jkv"
      },
      "outputs": [],
      "source": [
        "# Specify path to single image to be classified in data_path\n",
        "#data_path    = '../path/to/image/file'\n",
        "# Or test with sample image from dataset\n",
        "data_path    = './datasets/testdata/not-pixel-art/https___i.pinimg.com_originals_f3_bb_e6_f3bbe6fa7aa5b9c925bb36954dc8786c.jpg'\n",
        "output_dir     = './output/classification_single_image_single_model'\n",
        "json_file_path = './output/input-metadata.json'\n",
        "bins_number    = 10\n",
        "# Specify the type of model\n",
        "model_type = 'torch-logistic-regression'\n",
        "# Specify the tag string\n",
        "tag = 'not-pixel-art'"
      ]
    },
    {
      "cell_type": "code",
      "execution_count": null,
      "metadata": {
        "id": "0D-XS7MG0Jkv"
      },
      "outputs": [],
      "source": [
        "classify_main(\n",
        "        folder_path    = data_path, \n",
        "        output_dir     = output_dir, \n",
        "        json_file_path = json_file_path, \n",
        "        bins_number = bins_number,\n",
        "        model_type = model_type, \n",
        "        tag = tag \n",
        "        )"
      ]
    },
    {
      "cell_type": "markdown",
      "metadata": {
        "id": "0vjl8JMS0Jkv"
      },
      "source": [
        "### Classify Images Data in Folder with All Models"
      ]
    },
    {
      "cell_type": "code",
      "execution_count": null,
      "metadata": {
        "id": "mbNzIY140Jkw"
      },
      "outputs": [],
      "source": [
        "# Specify path to folder containing images data in data_path variable\n",
        "# data_path = '../path/to/image/data/folder/'\n",
        "# Or test with images in dataset\n",
        "data_path    = dataset_path\n",
        "output_dir     = './output/'\n",
        "json_file_path = './output/input-metadata.json'\n",
        "bins_number    = 10"
      ]
    },
    {
      "cell_type": "code",
      "execution_count": null,
      "metadata": {
        "id": "-hqAeGyW0Jkw"
      },
      "outputs": [],
      "source": [
        "from model_api.model_api import ModelApi\n",
        "# Creating model object\n",
        "model_api = ModelApi()\n",
        "\n",
        "# Get list of model type and tag pair\n",
        "type_tag_pair = model_api.get_type_tag_pair() \n",
        "\n",
        "for model_type, tag in type_tag_pair:\n",
        "        classify_main(\n",
        "                folder_path    = data_path, \n",
        "                output_dir     = output_dir, \n",
        "                json_file_path = json_file_path, \n",
        "                bins_number = bins_number,\n",
        "                model_type = model_type, \n",
        "                tag = tag \n",
        "                )"
      ]
    },
    {
      "cell_type": "markdown",
      "metadata": {
        "id": "iWUepQsbWrT1"
      },
      "source": [
        "### Classification for 'other-validation' Folder (pre-computed CLIP embeddings)"
      ]
    },
    {
      "cell_type": "code",
      "execution_count": null,
      "metadata": {
        "id": "wvcwd-mVQ_A8"
      },
      "outputs": [],
      "source": [
        "# Specify path to dataset folder containing 'other-validation' folder in dataset_path variable\n",
        "dataset_path = 'datasets/testdata'\n",
        "other_validation_path = os.path.join(dataset_path,'other-validation')\n",
        "output_dir     = './output/classification_other_validation'\n",
        "json_file_path =  './output/input-metadata.json'\n",
        "bins_number    = 10\n",
        "# Specify the type of model\n",
        "model_type = 'ovr-logistic-regression'\n",
        "# Specify the tag string\n",
        "tag = 'not-pixel-art'"
      ]
    },
    {
      "cell_type": "code",
      "execution_count": null,
      "metadata": {
        "id": "Hj7cPMRThnLC"
      },
      "outputs": [],
      "source": [
        "classify_main(\n",
        "        folder_path    = other_validation_path, \n",
        "        output_dir     = output_dir, \n",
        "        json_file_path = json_file_path, \n",
        "        bins_number    = bins_number, \n",
        "        model_type = model_type, \n",
        "        tag = tag \n",
        "        )"
      ]
    },
    {
      "cell_type": "markdown",
      "metadata": {
        "id": "bWox85J90Jkx"
      },
      "source": [
        "### Get Score for Images Data in ZIP Archive with Single Model (Tag) and Run Function Based on Score"
      ]
    },
    {
      "cell_type": "code",
      "execution_count": 15,
      "metadata": {
        "id": "QJ1xQ4Bp0Jkx"
      },
      "outputs": [],
      "source": [
        "from classify_helper_functions import zip_gen, get_single_tag_score, get_clip, get_classifier_model\n",
        "\n",
        "# Specify ZIP archive containing images data\n",
        "folder_path    = './datasets/testdata.zip'\n",
        "# Specify the type of model\n",
        "model_type = 'ovr-logistic-regression'\n",
        "# Specify the tag string\n",
        "tag = 'not-pixel-art'\n",
        "# Score threshold to run the function\n",
        "th_score       = 0.2\n"
      ]
    },
    {
      "cell_type": "code",
      "execution_count": 16,
      "metadata": {
        "id": "Mv5Hyrd90Jkx"
      },
      "outputs": [],
      "source": [
        "def any_function_to_run(score):\n",
        "    '''Function to run when certain prob_score is met'''\n",
        "    print ('OK')"
      ]
    },
    {
      "cell_type": "code",
      "execution_count": 17,
      "metadata": {
        "id": "9CZw72-2M63P"
      },
      "outputs": [],
      "source": [
        "# import torch\n",
        "# from PIL import Image\n",
        "\n",
        "# image_file_name = \"/content/kcg-ml/datasets/test-images/example1.jpg\"\n",
        "# img = Image.open(image_file_name)\n",
        "\n",
        "# with torch.no_grad():\n",
        "\n",
        "#   if image_file_name.lower().endswith('.gif'): \n",
        "#     img_obj = convert_gif_to_image(img)  \n",
        "#   else:\n",
        "#     img_obj = img\n",
        "\n",
        "#   image = preprocess(img_obj).unsqueeze(0).to(device)\n",
        "#   model = clip_model.to(device)\n",
        "#   output = model.encode_image(image).cpu().detach().numpy()\n",
        "\n",
        "# print(output)"
      ]
    },
    {
      "cell_type": "code",
      "execution_count": 18,
      "metadata": {
        "colab": {
          "base_uri": "https://localhost:8080/"
        },
        "id": "_xNTE8kJ0Jky",
        "outputId": "f865a11c-d950-4e04-e255-01b86f24313f"
      },
      "outputs": [
        {
          "name": "stdout",
          "output_type": "stream",
          "text": [
            "[INFO] Working on ZIP archive: ./datasets/testdata.zip\n",
            " Processing: testdata/not-pixel-art-real-photo/https___i.pinimg.com_originals_f0_ee_d1_f0eed195037b8fc2135a44ceb5ed2044.jpg\n",
            "[DEBUG] START GETTING IMAGE FEATURES\n",
            "[DEBUG] GOT IMAGE FEATURES\n",
            "[DEBUG] GOT STARTING CLASSIFY_IMAGE_PROB\n",
            "[INFO] Score: 0.9293094667184149\n",
            "OK\n",
            " Processing: testdata/not-pixel-art-real-photo/https___i.pinimg.com_originals_f0_f0_71_f0f071d89545fb378150180d9257f306.jpg\n",
            "[DEBUG] START GETTING IMAGE FEATURES\n",
            "[DEBUG] GOT IMAGE FEATURES\n",
            "[DEBUG] GOT STARTING CLASSIFY_IMAGE_PROB\n",
            "[INFO] Score: 0.9784030294391385\n",
            "OK\n",
            " Processing: testdata/not-pixel-art-real-photo/https___i.pinimg.com_originals_f0_f0_b4_f0f0b4f3f1d172a789589915fc4ad212.jpg\n",
            "[DEBUG] START GETTING IMAGE FEATURES\n",
            "[DEBUG] GOT IMAGE FEATURES\n",
            "[DEBUG] GOT STARTING CLASSIFY_IMAGE_PROB\n",
            "[INFO] Score: 0.9529428368266655\n",
            "OK\n",
            " Processing: testdata/not-pixel-art-real-photo/https___i.pinimg.com_originals_f0_f5_b8_f0f5b8c94169977da31274f36b0aa703.jpg\n",
            "[DEBUG] START GETTING IMAGE FEATURES\n",
            "[DEBUG] GOT IMAGE FEATURES\n",
            "[DEBUG] GOT STARTING CLASSIFY_IMAGE_PROB\n",
            "[INFO] Score: 0.961875330973439\n",
            "OK\n",
            " Processing: testdata/not-pixel-art-real-photo/https___i.pinimg.com_originals_f0_f6_08_f0f608ca8c7e5bcd0b3ffc565442d74f.jpg\n",
            "[DEBUG] START GETTING IMAGE FEATURES\n",
            "[DEBUG] GOT IMAGE FEATURES\n",
            "[DEBUG] GOT STARTING CLASSIFY_IMAGE_PROB\n",
            "[INFO] Score: 0.946174398282569\n",
            "OK\n",
            " Processing: testdata/not-pixel-art-real-photo/https___i.pinimg.com_originals_f0_fc_b5_f0fcb58b15c19afc5fc1f33ff2acda74.jpg\n",
            "[DEBUG] START GETTING IMAGE FEATURES\n",
            "[DEBUG] GOT IMAGE FEATURES\n",
            "[DEBUG] GOT STARTING CLASSIFY_IMAGE_PROB\n",
            "[INFO] Score: 0.9625278565993808\n",
            "OK\n",
            " Processing: testdata/not-pixel-art-real-photo/https___i.pinimg.com_originals_f0_fe_b3_f0feb3bf4202a15d69629e9ddd990809.jpg\n",
            "[DEBUG] START GETTING IMAGE FEATURES\n",
            "[DEBUG] GOT IMAGE FEATURES\n",
            "[DEBUG] GOT STARTING CLASSIFY_IMAGE_PROB\n",
            "[INFO] Score: 0.9806418952920174\n",
            "OK\n",
            " Processing: testdata/not-pixel-art-real-photo/https___i.pinimg.com_originals_f1_00_9d_f1009d0dd411b52e827bbcd0d30080fa.jpg\n",
            "[DEBUG] START GETTING IMAGE FEATURES\n",
            "[DEBUG] GOT IMAGE FEATURES\n",
            "[DEBUG] GOT STARTING CLASSIFY_IMAGE_PROB\n",
            "[INFO] Score: 0.8971015268920216\n",
            "OK\n",
            " Processing: testdata/not-pixel-art/https___i.pinimg.com_originals_f3_bb_e6_f3bbe6fa7aa5b9c925bb36954dc8786c.jpg\n",
            "[DEBUG] START GETTING IMAGE FEATURES\n",
            "[DEBUG] GOT IMAGE FEATURES\n",
            "[DEBUG] GOT STARTING CLASSIFY_IMAGE_PROB\n",
            "[INFO] Score: 0.9931123025369408\n",
            "OK\n",
            " Processing: testdata/not-pixel-art/https___i.pinimg.com_originals_f3_c2_a5_f3c2a5e03978093319ba184fb54e009e.jpg\n",
            "[DEBUG] START GETTING IMAGE FEATURES\n",
            "[DEBUG] GOT IMAGE FEATURES\n",
            "[DEBUG] GOT STARTING CLASSIFY_IMAGE_PROB\n",
            "[INFO] Score: 0.9917041217703508\n",
            "OK\n",
            " Processing: testdata/not-pixel-art/https___i.pinimg.com_originals_f3_c3_c2_f3c3c2c7fb350b03dccc99a66d3a3a86.jpg\n",
            "[DEBUG] START GETTING IMAGE FEATURES\n",
            "[DEBUG] GOT IMAGE FEATURES\n",
            "[DEBUG] GOT STARTING CLASSIFY_IMAGE_PROB\n",
            "[INFO] Score: 0.9866801557481445\n",
            "OK\n",
            " Processing: testdata/not-pixel-art/https___i.pinimg.com_originals_f4_d6_97_f4d697934ac2656bcc9bba971262829c.png\n",
            "[DEBUG] START GETTING IMAGE FEATURES\n",
            "[DEBUG] GOT IMAGE FEATURES\n",
            "[DEBUG] GOT STARTING CLASSIFY_IMAGE_PROB\n",
            "[INFO] Score: 0.9613166535274029\n",
            "OK\n",
            " Processing: testdata/not-pixel-art/https___i.pinimg.com_originals_f6_a3_b8_f6a3b85a6877bd06e0197063a720bcf6.jpg\n",
            "[DEBUG] START GETTING IMAGE FEATURES\n",
            "[DEBUG] GOT IMAGE FEATURES\n",
            "[DEBUG] GOT STARTING CLASSIFY_IMAGE_PROB\n",
            "[INFO] Score: 0.990890861166462\n",
            "OK\n",
            " Processing: testdata/not-pixel-art/https___i.pinimg.com_originals_f6_a4_11_f6a411b2046bad82ca94402131e14e67.png\n",
            "[DEBUG] START GETTING IMAGE FEATURES\n",
            "[DEBUG] GOT IMAGE FEATURES\n",
            "[DEBUG] GOT STARTING CLASSIFY_IMAGE_PROB\n",
            "[INFO] Score: 0.9869377756137182\n",
            "OK\n",
            " Processing: testdata/not-pixel-art/https___i.pinimg.com_originals_f6_a4_db_f6a4db94afa72c01847cb2c8733d2155.jpg\n",
            "[DEBUG] START GETTING IMAGE FEATURES\n",
            "[DEBUG] GOT IMAGE FEATURES\n",
            "[DEBUG] GOT STARTING CLASSIFY_IMAGE_PROB\n",
            "[INFO] Score: 0.9844254324612342\n",
            "OK\n",
            " Processing: testdata/not-pixel-art/https___i.pinimg.com_originals_f6_a4_fb_f6a4fbf097fd103d2f8c923016cf1368.jpg\n",
            "[DEBUG] START GETTING IMAGE FEATURES\n",
            "[DEBUG] GOT IMAGE FEATURES\n",
            "[DEBUG] GOT STARTING CLASSIFY_IMAGE_PROB\n",
            "[INFO] Score: 0.9877174517749567\n",
            "OK\n",
            " Processing: testdata/other-training/https___i.pinimg.com_originals_00_00_57_000057f3850f9771864630687c4bdf26.jpg\n",
            "[DEBUG] START GETTING IMAGE FEATURES\n",
            "[DEBUG] GOT IMAGE FEATURES\n",
            "[DEBUG] GOT STARTING CLASSIFY_IMAGE_PROB\n",
            "[INFO] Score: 0.026110617528385394\n",
            " Processing: testdata/other-training/https___i.pinimg.com_originals_00_00_e7_0000e7f96134fbd9ea78cca6986be247.png\n",
            "[DEBUG] START GETTING IMAGE FEATURES\n",
            "[DEBUG] GOT IMAGE FEATURES\n",
            "[DEBUG] GOT STARTING CLASSIFY_IMAGE_PROB\n",
            "[INFO] Score: 0.0209066339527878\n",
            " Processing: testdata/other-training/https___i.pinimg.com_originals_00_0a_a5_000aa58efa428d0bdf580388a8403a49.png\n",
            "[DEBUG] START GETTING IMAGE FEATURES\n",
            "[DEBUG] GOT IMAGE FEATURES\n",
            "[DEBUG] GOT STARTING CLASSIFY_IMAGE_PROB\n",
            "[INFO] Score: 0.20693462522950712\n",
            "OK\n",
            " Processing: testdata/other-training/https___i.pinimg.com_originals_00_0b_2d_000b2d8351f053664b41ca1024b41b1f.jpg\n",
            "[DEBUG] START GETTING IMAGE FEATURES\n",
            "[DEBUG] GOT IMAGE FEATURES\n",
            "[DEBUG] GOT STARTING CLASSIFY_IMAGE_PROB\n",
            "[INFO] Score: 0.031511150718541825\n",
            " Processing: testdata/other-validation/https___i.pinimg.com_originals_00_78_74_0078749a6a33588ea8995080904d96fc.jpg\n",
            "[DEBUG] START GETTING IMAGE FEATURES\n",
            "[DEBUG] GOT IMAGE FEATURES\n",
            "[DEBUG] GOT STARTING CLASSIFY_IMAGE_PROB\n",
            "[INFO] Score: 0.5913693226766644\n",
            "OK\n",
            " Processing: testdata/other-validation/https___i.pinimg.com_originals_00_79_2c_00792c0d83d415a707bdacee51646d9e.png\n",
            "[DEBUG] START GETTING IMAGE FEATURES\n",
            "[DEBUG] GOT IMAGE FEATURES\n",
            "[DEBUG] GOT STARTING CLASSIFY_IMAGE_PROB\n",
            "[INFO] Score: 0.6800436770517893\n",
            "OK\n",
            " Processing: testdata/other-validation/https___i.pinimg.com_originals_00_79_32_007932f2045adf1d7b785d53021ccd0f.jpg\n",
            "[DEBUG] START GETTING IMAGE FEATURES\n",
            "[DEBUG] GOT IMAGE FEATURES\n",
            "[DEBUG] GOT STARTING CLASSIFY_IMAGE_PROB\n",
            "[INFO] Score: 0.9488908200061071\n",
            "OK\n",
            " Processing: testdata/other-validation/https___i.pinimg.com_originals_00_81_01_0081018e59980d9b1a5cbe03dd9557cf.png\n",
            "[DEBUG] START GETTING IMAGE FEATURES\n",
            "[DEBUG] GOT IMAGE FEATURES\n",
            "[DEBUG] GOT STARTING CLASSIFY_IMAGE_PROB\n",
            "[INFO] Score: 0.3148614205122515\n",
            "OK\n",
            "[INFO] Finished.\n"
          ]
        }
      ],
      "source": [
        "clip_model , preprocess , device = get_clip(clip_model_type= 'ViT-L-14',pretrained= 'openai')\n",
        "model = get_classifier_model(model_type = model_type, tag = tag)\n",
        "\n",
        "# If model not found then return\n",
        "if model != {}:\n",
        "    # Loop through each zip file.\n",
        "    for file in [folder_path]:\n",
        "        # Generating images\n",
        "        for img, img_file_name in zip_gen(file):\n",
        "            # Calculate score\n",
        "            score = get_single_tag_score(img, img_file_name, model, clip_model, preprocess, device)\n",
        "            print (f'[INFO] Score: {score}')\n",
        "            if th_score < score:\n",
        "                any_function_to_run(score)\n",
        "else:\n",
        "    print ('[INFO]: Model not found. No classification performed.')\n",
        "\n",
        "print(\"[INFO] Finished.\")"
      ]
    },
    {
      "cell_type": "markdown",
      "metadata": {
        "id": "th77AB5G0Jky"
      },
      "source": [
        "## ZIP Archive: Reading Image Files, Compute CLIP and Send to Single Classifier (based on Type and Tag)"
      ]
    },
    {
      "cell_type": "markdown",
      "metadata": {
        "id": "vw_JkDVh0Jky"
      },
      "source": [
        "### Import Required Functions"
      ]
    },
    {
      "cell_type": "code",
      "execution_count": null,
      "metadata": {
        "id": "wzrEzc4L0Jky"
      },
      "outputs": [],
      "source": [
        "import sys\n",
        "sys.path.insert(0, './clip_linear_probe_pipeline/classify/')\n",
        "import os\n",
        "import datetime\n",
        "import numpy as np\n",
        "from classify import zip_gen as zip_image_iterator\n",
        "from classify_helper_functions import file_to_hash_zip, load_json, get_clip, get_classifier_model, clip_image_features_zip, classify_image_prob, get_bins_array, find_bin, make_dir"
      ]
    },
    {
      "cell_type": "markdown",
      "metadata": {
        "id": "mVOmjnD00Jkz"
      },
      "source": [
        "### Specify ZIP Archive Location, Model Type and Tag"
      ]
    },
    {
      "cell_type": "code",
      "execution_count": null,
      "metadata": {
        "id": "wkYwd9iA0Jkz"
      },
      "outputs": [],
      "source": [
        "# Specify ZIP archive containing images data\n",
        "zip_file_path = './datasets/testdata.zip'\n",
        "# Specify folder path to write classified images\n",
        "output_dir = './output'\n",
        "# Metadata json file location\n",
        "json_file_path = './output/input-metadata.json'\n",
        "# Specify the type of model\n",
        "model_type = 'ovr-logistic-regression'\n",
        "# Specify the tag string\n",
        "tag = 'not-pixel-art'\n",
        "# Number of classification score (probability) bins\n",
        "n_bins = 10"
      ]
    },
    {
      "cell_type": "markdown",
      "metadata": {
        "id": "MFcdcXS_0Jk0"
      },
      "source": [
        "### Create Classifier and CLIP Model"
      ]
    },
    {
      "cell_type": "code",
      "execution_count": null,
      "metadata": {
        "id": "FXINXVOj0Jk0"
      },
      "outputs": [],
      "source": [
        "# Get classifier model\n",
        "model = get_classifier_model(model_type = model_type, tag = tag)\n",
        "if model != {}:\n",
        "    classifier = model['classifier']\n",
        "    torch_model = 'torch' in model['model_type']\n",
        "    # Get CLIP model, to calculate CLIP embeddings if it's not in .json metadata file.\n",
        "    clip_model , preprocess , device = get_clip(clip_model_type= 'ViT-L-14',pretrained= 'openai')\n",
        "    # Creating bins\n",
        "    bins  = get_bins_array(n_bins)\n",
        "else:\n",
        "    print ('[INFO]: Model not found. Unable to perform classification')"
      ]
    },
    {
      "cell_type": "markdown",
      "metadata": {
        "id": "roUsOKQx0Jk0"
      },
      "source": [
        "### Reading, Compute CLIP and Send to Single Classifier for Each File in ZIP Archive"
      ]
    },
    {
      "cell_type": "code",
      "execution_count": null,
      "metadata": {
        "id": "Gav_P-fk0Jk0"
      },
      "outputs": [],
      "source": [
        "# Loop through each zip file.\n",
        "for file in [zip_file_path]:\n",
        "    # Reading image files from ZIP archive\n",
        "    for img, img_file_name in zip_image_iterator(file):\n",
        "\n",
        "        # Hash\n",
        "        hash_id = file_to_hash_zip(img, img_file_name)\n",
        "\n",
        "        # Load the .json file.\n",
        "        metadata_json_obj = load_json(json_file_path)\n",
        "\n",
        "        # Clip features\n",
        "        try : \n",
        "            # Check whether the hash_id exists in json file.\n",
        "            image_features = np.array(metadata_json_obj[hash_id][\"embeddings_vector\"]).reshape(1,-1) \n",
        "        except:\n",
        "            # hash_id does not exist in json file. Calculate image features.\n",
        "            image_features = clip_image_features_zip(img, img_file_name, clip_model,preprocess,device) \n",
        "\n",
        "        # Calculate probability score\n",
        "        score = classify_image_prob(image_features, classifier, torch_model=torch_model)\n",
        "        print (score)\n",
        "\n",
        "        # Get the bins \n",
        "        tag_bin, _= find_bin(bins , score) # get the bins \n",
        "        print (tag_bin)\n",
        "\n",
        "        # Create folder for writing classified\n",
        "        timestamp = datetime.datetime.now() \n",
        "        output_sub_dir = (f'tagging_output-{timestamp.year}_{timestamp.month}_{timestamp.day}_{timestamp.hour}_{timestamp.minute}_{timestamp.second}')\n",
        "        tag_name_out_folder = make_dir([output_dir, output_sub_dir, f'{model_type}',f'{tag}',tag_bin])\n",
        "    \n",
        "        # Saving the image to file\n",
        "        file_path = os.path.join(tag_name_out_folder, os.path.basename(img_file_name))\n",
        "        img.save(file_path)\n",
        "        print (f'[INFO] File {file_path} saved')\n",
        "\n",
        "print(\"[INFO] Finished.\")"
      ]
    },
    {
      "cell_type": "markdown",
      "metadata": {
        "id": "U9b5wshK0Jk1"
      },
      "source": [
        "# Using Classifier Model API"
      ]
    },
    {
      "cell_type": "markdown",
      "metadata": {
        "id": "pgEUs0UA0Jk1"
      },
      "source": [
        "Model API contains function that accesses existing classifier model pickle files."
      ]
    },
    {
      "cell_type": "markdown",
      "metadata": {
        "id": "NnfLwUzc0Jk1"
      },
      "source": [
        "### Create Classifier Model API Object"
      ]
    },
    {
      "cell_type": "code",
      "execution_count": null,
      "metadata": {
        "id": "b9jugyaG0Jk2"
      },
      "outputs": [],
      "source": [
        "from model_api.model_api import ModelApi\n",
        "\n",
        "# Create model loader object with default model_path='./output/models/'\n",
        "model_api = ModelApi()\n",
        "# Or specify model_path explicitly'\n",
        "# model_api = ModelApi(model_path='./output/models')"
      ]
    },
    {
      "cell_type": "markdown",
      "metadata": {
        "id": "tI2A_-xS0Jk2"
      },
      "source": [
        "### Get List of Model Types"
      ]
    },
    {
      "cell_type": "code",
      "execution_count": null,
      "metadata": {
        "id": "fIPL_fZg0Jk3"
      },
      "outputs": [],
      "source": [
        "model_types = model_api.get_model_types()\n",
        "print (model_types)"
      ]
    },
    {
      "cell_type": "markdown",
      "metadata": {
        "id": "EbNE8MIw0Jk3"
      },
      "source": [
        "### Get List of Tags Based on Model Type"
      ]
    },
    {
      "cell_type": "code",
      "execution_count": null,
      "metadata": {
        "id": "F6nQ0cHe0Jk3"
      },
      "outputs": [],
      "source": [
        "model_type = (model_types[0])\n",
        "tags = model_api.get_tags_by_model_type(model_type)\n",
        "print (tags)"
      ]
    },
    {
      "cell_type": "markdown",
      "metadata": {
        "id": "31PNt0fG0Jk4"
      },
      "source": [
        "### Get List of Type and Tag Pairs from All Models'''"
      ]
    },
    {
      "cell_type": "code",
      "execution_count": null,
      "metadata": {
        "id": "mFZXjwLI0Jk4"
      },
      "outputs": [],
      "source": [
        "type_tag_pair = model_api.get_type_tag_pair()\n",
        "print (type_tag_pair)\n",
        "'''\n",
        "type_tag_pair is a list of tupple with the following structure\n",
        "[(<model_type>,<tag>)]\n",
        "'''"
      ]
    },
    {
      "cell_type": "markdown",
      "metadata": {
        "id": "Ju4dwR_l0Jk5"
      },
      "source": [
        "### Get Model Based On Model Type and Tag"
      ]
    },
    {
      "cell_type": "code",
      "execution_count": null,
      "metadata": {
        "id": "jRyRhUij0Jk5"
      },
      "outputs": [],
      "source": [
        "# Specify model type and tag\n",
        "model_type, tag = type_tag_pair[0]\n",
        "# Get the model dictionary\n",
        "model = model_api.get_model_by_type_tag(model_type, tag)\n",
        "print(model)\n",
        "'''\n",
        "Model is a dictionary with the following structure\n",
        "{'classifier' : <model object>,\n",
        "'model_type' : <model type string>,\n",
        "'train_start_time' : <training start time datetime object>\n",
        "'tag' : <tag string>\n",
        "}\n",
        "'''"
      ]
    },
    {
      "cell_type": "markdown",
      "metadata": {
        "id": "8XThn_550Jk5"
      },
      "source": [
        "### Get Models Dictionary for All Model Pickle Files"
      ]
    },
    {
      "cell_type": "code",
      "execution_count": null,
      "metadata": {
        "id": "QKG30i1A0Jk5"
      },
      "outputs": [],
      "source": [
        "models_dict = model_api.get_models_dict()\n",
        "print(models_dict)\n",
        "'''\n",
        "Example stucture of models_dict\n",
        "{<model_name>: \n",
        "    {'classifier' : <model object>,\n",
        "    'model_type' : <model type string>,\n",
        "    'train_start_time' : <training start time datetime object>\n",
        "    'tag' : <tag string>\n",
        "    }\n",
        "}\n",
        "'''"
      ]
    },
    {
      "cell_type": "markdown",
      "metadata": {
        "id": "Ajaqbx3k0Jk5"
      },
      "source": [
        "# Other Examples"
      ]
    },
    {
      "cell_type": "markdown",
      "metadata": {
        "id": "h7sTl8zg0Jk6"
      },
      "source": [
        "#### Get Files List from Folder or ZIP Archive"
      ]
    },
    {
      "cell_type": "code",
      "execution_count": null,
      "metadata": {
        "id": "xL3rkBDh0Jk6"
      },
      "outputs": [],
      "source": [
        "from zipfile import ZipFile\n",
        "\n",
        "# Specify the path to the images data in the folder_path variable\n",
        "folder_path    = './datasets/testdata.zip'\n",
        "\n",
        "def fetch_file_paths(data_file):\n",
        "    '''Yielding contained file paths in data_file'''\n",
        "\n",
        "    if data_file.endswith('.zip'):\n",
        "\n",
        "        # Selected data_dir is a zip archive\n",
        "        with ZipFile(data_file) as archive:\n",
        "            '''Getting archive details'''\n",
        "            # Listing content\n",
        "            entries = archive.infolist()\n",
        "\n",
        "            for entry in entries:\n",
        "                # Do for every content in the zip file\n",
        "                if not entry.is_dir():\n",
        "                    \n",
        "                    with archive.open(entry) as file:\n",
        "\n",
        "                        if entry.filename.lower().endswith(('.zip')):\n",
        "                            # Another zip file found in the content.\n",
        "                            with ZipFile(file) as sub_archive:\n",
        "                                '''Getting archive details'''\n",
        "                                sub_entries = sub_archive.infolist()\n",
        "                                for sub_entry in sub_entries:\n",
        "                                    with sub_archive.open(sub_entry) as sub_file:\n",
        "                                        img_file_name = f'{data_file}/{sub_entry.filename}'\n",
        "                                        yield (img_file_name)\n",
        "\n",
        "                        else:\n",
        "                            # Should be image file.\n",
        "                            img_file_name = entry.filename\n",
        "                            yield (img_file_name)\n",
        "    else:\n",
        "        # Should be image file\n",
        "        yield data_file\n",
        "\n",
        "def get_file_paths(data_dir):\n",
        "\n",
        "    # Placeholder for file in data_dir\n",
        "    dir_list = []\n",
        "\n",
        "    if not os.path.isfile(data_dir):\n",
        "        # A normal directory\n",
        "        for root, dirs, files in os.walk(data_dir):\n",
        "            for file in files:\n",
        "                dir_list.append(os.path.join(root, file))\n",
        "    else:\n",
        "        # A single file (could be a zip archive or image)\n",
        "        dir_list = [data_dir]\n",
        "\n",
        "    # Placeholder for file_path for files found\n",
        "    file_path_list = []\n",
        "\n",
        "    for file in dir_list:\n",
        "        for file_path in fetch_file_paths(file):\n",
        "            print (f'File: {file_path}')\n",
        "            file_path_list.append(file_path)\n",
        "    \n",
        "    return file_path_list\n",
        "\n",
        "get_file_paths(folder_path)\n"
      ]
    },
    {
      "cell_type": "markdown",
      "metadata": {
        "id": "Glw_uCr_0Jk6"
      },
      "source": [
        "#### Get List of File Hash_ID from Tag Cache Based on List of Models or Specific Model"
      ]
    },
    {
      "cell_type": "code",
      "execution_count": null,
      "metadata": {
        "id": "1heZ4iRk0Jk6"
      },
      "outputs": [],
      "source": [
        "import json\n",
        "from clip_cache.cache_tag import TagCache\n",
        "from model_api.model_api import ModelApi\n",
        "\n",
        "# Specify path to tag cache file\n",
        "tag_cache_path = './output/tag_cache.sqlite'\n",
        "\n",
        "# Output placeholder\n",
        "model_tag_cache_pair = {}\n",
        "\n",
        "try:\n",
        "    # Create tag cache object\n",
        "    tag_cache = TagCache()\n",
        "    # Create model api object\n",
        "    model_api=ModelApi()\n",
        "\n",
        "    # Getting models\n",
        "    models_dict = model_api.get_models_dict()\n",
        "    '''\n",
        "    Example stucture of models_dict\n",
        "    {<model_name>: \n",
        "        {'classifier' : <model object>,\n",
        "        'model_type' : <model type string>,\n",
        "        'train_start_time' : <traing start time datetime object>\n",
        "        'tag' : <tag string>\n",
        "        }\n",
        "    }\n",
        "    '''\n",
        "\n",
        "    # Get tags from models_dict\n",
        "    for model in models_dict:\n",
        "        # Get list of images (hash_IDs) based on each model's tag name\n",
        "        hash_ids = tag_cache.get_hash_by_tag(db_path = tag_cache_path, tag = models_dict[model]['tag'])\n",
        "        # Append list of hash IDs to the result dict\n",
        "        model_tag_cache_pair[model] = hash_ids\n",
        "    \n",
        "    # Output\n",
        "    print(json.dumps(model_tag_cache_pair, indent=2))\n",
        "\n",
        "except Exception as e:\n",
        "    print (f'[ERROR] {e}: Getting data from tag cache failed')"
      ]
    }
  ],
  "metadata": {
    "accelerator": "GPU",
    "colab": {
      "provenance": []
    },
    "gpuClass": "standard",
    "kernelspec": {
      "display_name": "Python 3",
      "language": "python",
      "name": "python3"
    },
    "language_info": {
      "codemirror_mode": {
        "name": "ipython",
        "version": 3
      },
      "file_extension": ".py",
      "mimetype": "text/x-python",
      "name": "python",
      "nbconvert_exporter": "python",
      "pygments_lexer": "ipython3",
      "version": "3.8.2"
    },
    "vscode": {
      "interpreter": {
        "hash": "09abac1a68c7c7b50d1e4cc46000d498ae514331d3ccd4696a2b958a0a447511"
      }
    }
  },
  "nbformat": 4,
  "nbformat_minor": 0
}
