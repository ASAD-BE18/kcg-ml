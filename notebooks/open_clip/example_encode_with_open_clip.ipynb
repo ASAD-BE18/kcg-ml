{
 "cells": [
  {
   "cell_type": "markdown",
   "metadata": {},
   "source": [
    "### Computing Platform Check GPU (CUDA) or CPU"
   ]
  },
  {
   "cell_type": "code",
   "execution_count": null,
   "metadata": {},
   "outputs": [],
   "source": [
    "import torch\n",
    "if torch.cuda.is_available():\n",
    "    device = \"cuda\"\n",
    "else:\n",
    "    print ('[WARNING] CUDA/GPU is not available! Compute-intensive scripts on this notebook will be run on CPU.')\n",
    "    device =  \"cpu\""
   ]
  },
  {
   "cell_type": "markdown",
   "metadata": {},
   "source": [
    "## Check Environment"
   ]
  },
  {
   "cell_type": "code",
   "execution_count": null,
   "metadata": {},
   "outputs": [],
   "source": [
    "import os\n",
    "\n",
    "if 'COLAB_GPU' in os.environ:\n",
    "    print(\"Environment is colab\")\n",
    "elif 'KAGGLE_URL_BASE' in os.environ:\n",
    "    print(\"Environment is kaggle\")\n",
    "else:\n",
    "    print(\"Environment is local\")"
   ]
  },
  {
   "cell_type": "code",
   "execution_count": null,
   "metadata": {
    "colab": {
     "base_uri": "https://localhost:8080/"
    },
    "id": "YB2vPqdPnGd_",
    "outputId": "2a3d858a-8ada-4780-af3d-d779227dd765"
   },
   "outputs": [],
   "source": [
    "#@title Importing open_clip\n",
    "try : \n",
    "  import open_clip\n",
    "except ImportError:\n",
    "  !pip install open_clip_torch\n",
    "  import open_clip"
   ]
  },
  {
   "cell_type": "code",
   "execution_count": null,
   "metadata": {
    "id": "jwmfQXA_oL-D"
   },
   "outputs": [],
   "source": [
    "#@title Other Imports\n",
    "\n",
    "# Handling all importing error \n",
    "try:\n",
    "  import torch\n",
    "except ImportError:\n",
    "  !pip install torch>=1.9.0\n",
    "  import torch\n",
    "\n",
    "try:\n",
    "  import PIL\n",
    "  from PIL import Image\n",
    "except:\n",
    "  !pip install pillow\n",
    "  import PIL\n",
    "  from PIL import Image"
   ]
  },
  {
   "cell_type": "code",
   "execution_count": null,
   "metadata": {
    "colab": {
     "base_uri": "https://localhost:8080/"
    },
    "id": "T6pr5vAaoDtV",
    "outputId": "934f971e-39d3-447a-d232-08100c986848"
   },
   "outputs": [],
   "source": [
    "#@title Available CLIP Models\n",
    "# prints all the avaialble clip models\n",
    "# Choose one of these models :: model name and pretrained \n",
    "open_clip.list_pretrained()"
   ]
  },
  {
   "cell_type": "code",
   "execution_count": null,
   "metadata": {
    "colab": {
     "base_uri": "https://localhost:8080/"
    },
    "id": "yxwH0UuinvDy",
    "outputId": "203330fa-37f8-4f76-ec8a-1d478b6e8bc4"
   },
   "outputs": [],
   "source": [
    "#@title Loading CLIP model\n",
    "model, _, preprocess = open_clip.create_model_and_transforms('ViT-L/14',pretrained='openai')"
   ]
  },
  {
   "cell_type": "code",
   "execution_count": null,
   "metadata": {
    "colab": {
     "base_uri": "https://localhost:8080/"
    },
    "id": "gV0PmJBlo_z5",
    "outputId": "b1a366df-4262-4b81-aeee-84aa10ef73f6"
   },
   "outputs": [],
   "source": [
    "#@title Run Example\n",
    "import pathlib\n",
    "\n",
    "image_path = pathlib.Path.cwd().parent / 'images' / 'download_blue.png'\n",
    "txt_list = [\"pixel art\" , \"photography\"]\n",
    "\n",
    "image = preprocess(Image.open(image_path)).unsqueeze(0)\n",
    "text = open_clip.tokenize(txt_list)\n",
    "\n",
    "with torch.no_grad(), torch.cuda.amp.autocast():\n",
    "    image_features = model.encode_image(image)\n",
    "    text_features = model.encode_text(text)\n",
    "    image_features /= image_features.norm(dim=-1, keepdim=True)\n",
    "    text_features /= text_features.norm(dim=-1, keepdim=True)\n",
    "    # .T for transpose \n",
    "    # @ : for matrix multiplication \n",
    "    # Calculating cosing similarity between text and image features \n",
    "    text_probs = (100.0 * image_features @ text_features.T).softmax(dim=-1)\n",
    "    # Getting the top similar image text feature to the image using .argmax()\n",
    "    # which outputs the index of the maximum value in the text_probs tensor \n",
    "    print(f'Matched Text :: { txt_list[text_probs.argmax()] } ')\n",
    "\n",
    "print(\"Label probs:\", text_probs)  # prints: [[1., 0., 0.]]"
   ]
  }
 ],
 "metadata": {
  "colab": {
   "collapsed_sections": [],
   "provenance": []
  },
  "kernelspec": {
   "display_name": "Python 3",
   "language": "python",
   "name": "python3"
  },
  "language_info": {
   "codemirror_mode": {
    "name": "ipython",
    "version": 3
   },
   "file_extension": ".py",
   "mimetype": "text/x-python",
   "name": "python",
   "nbconvert_exporter": "python",
   "pygments_lexer": "ipython3",
   "version": "3.8.3"
  }
 },
 "nbformat": 4,
 "nbformat_minor": 1
}
