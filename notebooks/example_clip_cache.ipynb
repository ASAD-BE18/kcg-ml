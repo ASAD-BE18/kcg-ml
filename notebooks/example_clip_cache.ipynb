{
  "cells": [
    {
      "cell_type": "markdown",
      "metadata": {
        "id": "QI7DD4Iyv4kB"
      },
      "source": [
        "# Cloning GetHub Repository"
      ]
    },
    {
      "cell_type": "code",
      "execution_count": 1,
      "metadata": {
        "id": "nbOyUtt0vRvZ"
      },
      "outputs": [],
      "source": [
        "%%capture\n",
        "!git clone https://github.com/kk-digital/kcg-ml.git\n",
        "%cd kcg-ml/"
      ]
    },
    {
      "cell_type": "markdown",
      "metadata": {
        "id": "KSEBKqU3wr-X"
      },
      "source": [
        "# File Cache Module Example"
      ]
    },
    {
      "cell_type": "markdown",
      "metadata": {
        "id": "JX3ayf44w7zd"
      },
      "source": [
        "## Creating FileCache Instance and FileCache DB."
      ]
    },
    {
      "cell_type": "code",
      "execution_count": 2,
      "metadata": {
        "colab": {
          "base_uri": "https://localhost:8080/"
        },
        "id": "7wQdxJatwN8d",
        "outputId": "e43b1622-068b-46ff-9b71-69c2e4fcf31a"
      },
      "outputs": [
        {
          "name": "stdout",
          "output_type": "stream",
          "text": [
            "[INFO]: database ./output/file_cache.sqlite created\n"
          ]
        }
      ],
      "source": [
        "from file_cache.file_cache import FileCache\n",
        "\n",
        "# Create file cache object\n",
        "fileCache = FileCache()\n",
        "\n",
        "# Create file cache database. Default to './output/file_cache.sqlite')\n",
        "fileCache.create_file_cache()"
      ]
    },
    {
      "cell_type": "markdown",
      "metadata": {
        "id": "d5ESI6OExBgq"
      },
      "source": [
        "## Adding a Folder to Cache DB"
      ]
    },
    {
      "cell_type": "code",
      "execution_count": 3,
      "metadata": {
        "colab": {
          "base_uri": "https://localhost:8080/"
        },
        "id": "uwBNrp6yw2C3",
        "outputId": "6df57558-e90e-4e85-eb3e-9f84958c9233"
      },
      "outputs": [
        {
          "name": "stdout",
          "output_type": "stream",
          "text": [
            "[INFO] Processing ZIP archive: ./datasets/testdata.zip\n",
            " Fetching: ./datasets/testdata.zip/testdata/not-pixel-art-real-photo/https___i.pinimg.com_originals_f0_ee_d1_f0eed195037b8fc2135a44ceb5ed2044.jpg\n",
            " Fetching: ./datasets/testdata.zip/testdata/not-pixel-art-real-photo/https___i.pinimg.com_originals_f0_f0_71_f0f071d89545fb378150180d9257f306.jpg\n",
            " Fetching: ./datasets/testdata.zip/testdata/not-pixel-art-real-photo/https___i.pinimg.com_originals_f0_f0_b4_f0f0b4f3f1d172a789589915fc4ad212.jpg\n",
            " Fetching: ./datasets/testdata.zip/testdata/not-pixel-art-real-photo/https___i.pinimg.com_originals_f0_f5_b8_f0f5b8c94169977da31274f36b0aa703.jpg\n",
            " Fetching: ./datasets/testdata.zip/testdata/not-pixel-art-real-photo/https___i.pinimg.com_originals_f0_f6_08_f0f608ca8c7e5bcd0b3ffc565442d74f.jpg\n",
            " Fetching: ./datasets/testdata.zip/testdata/not-pixel-art-real-photo/https___i.pinimg.com_originals_f0_fc_b5_f0fcb58b15c19afc5fc1f33ff2acda74.jpg\n",
            " Fetching: ./datasets/testdata.zip/testdata/not-pixel-art-real-photo/https___i.pinimg.com_originals_f0_fe_b3_f0feb3bf4202a15d69629e9ddd990809.jpg\n",
            " Fetching: ./datasets/testdata.zip/testdata/not-pixel-art-real-photo/https___i.pinimg.com_originals_f1_00_9d_f1009d0dd411b52e827bbcd0d30080fa.jpg\n",
            " Fetching: ./datasets/testdata.zip/testdata/not-pixel-art/https___i.pinimg.com_originals_f3_bb_e6_f3bbe6fa7aa5b9c925bb36954dc8786c.jpg\n",
            " Fetching: ./datasets/testdata.zip/testdata/not-pixel-art/https___i.pinimg.com_originals_f3_c2_a5_f3c2a5e03978093319ba184fb54e009e.jpg\n",
            " Fetching: ./datasets/testdata.zip/testdata/not-pixel-art/https___i.pinimg.com_originals_f3_c3_c2_f3c3c2c7fb350b03dccc99a66d3a3a86.jpg\n",
            " Fetching: ./datasets/testdata.zip/testdata/not-pixel-art/https___i.pinimg.com_originals_f4_d6_97_f4d697934ac2656bcc9bba971262829c.png\n",
            " Fetching: ./datasets/testdata.zip/testdata/not-pixel-art/https___i.pinimg.com_originals_f6_a3_b8_f6a3b85a6877bd06e0197063a720bcf6.jpg\n",
            " Fetching: ./datasets/testdata.zip/testdata/not-pixel-art/https___i.pinimg.com_originals_f6_a4_11_f6a411b2046bad82ca94402131e14e67.png\n",
            " Fetching: ./datasets/testdata.zip/testdata/not-pixel-art/https___i.pinimg.com_originals_f6_a4_db_f6a4db94afa72c01847cb2c8733d2155.jpg\n",
            " Fetching: ./datasets/testdata.zip/testdata/not-pixel-art/https___i.pinimg.com_originals_f6_a4_fb_f6a4fbf097fd103d2f8c923016cf1368.jpg\n",
            " Fetching: ./datasets/testdata.zip/testdata/other-training/https___i.pinimg.com_originals_00_00_57_000057f3850f9771864630687c4bdf26.jpg\n",
            " Fetching: ./datasets/testdata.zip/testdata/other-training/https___i.pinimg.com_originals_00_00_e7_0000e7f96134fbd9ea78cca6986be247.png\n",
            " Fetching: ./datasets/testdata.zip/testdata/other-training/https___i.pinimg.com_originals_00_0a_a5_000aa58efa428d0bdf580388a8403a49.png\n",
            " Fetching: ./datasets/testdata.zip/testdata/other-training/https___i.pinimg.com_originals_00_0b_2d_000b2d8351f053664b41ca1024b41b1f.jpg\n",
            " Fetching: ./datasets/testdata.zip/testdata/other-validation/https___i.pinimg.com_originals_00_78_74_0078749a6a33588ea8995080904d96fc.jpg\n",
            " Fetching: ./datasets/testdata.zip/testdata/other-validation/https___i.pinimg.com_originals_00_79_2c_00792c0d83d415a707bdacee51646d9e.png\n",
            " Fetching: ./datasets/testdata.zip/testdata/other-validation/https___i.pinimg.com_originals_00_79_32_007932f2045adf1d7b785d53021ccd0f.jpg\n",
            " Fetching: ./datasets/testdata.zip/testdata/other-validation/https___i.pinimg.com_originals_00_81_01_0081018e59980d9b1a5cbe03dd9557cf.png\n",
            "[INFO]: Folder ./datasets/testdata.zip added to ./output/file_cache.sqlite\n"
          ]
        }
      ],
      "source": [
        "# Adding image files contained in a folder or ZIP archive to file cache database\n",
        "fileCache.add_folder_to_file_cache('./datasets/testdata.zip')"
      ]
    },
    {
      "cell_type": "markdown",
      "metadata": {
        "id": "a5jvBNqrxTlm"
      },
      "source": [
        "## Getting Random Hash from Cache DB"
      ]
    },
    {
      "cell_type": "code",
      "execution_count": 4,
      "metadata": {
        "colab": {
          "base_uri": "https://localhost:8080/"
        },
        "id": "basn6H9bxMhh",
        "outputId": "8c8c3160-eaa5-487f-ea33-67c9a1bac151"
      },
      "outputs": [
        {
          "name": "stdout",
          "output_type": "stream",
          "text": [
            "Hash ID: d08308e5788f548b0173d83f2cdf69b6b9564aed829adfe279dc1496e98f850e0bac6f775a19e8376d87507a398c285708bb77fee6a1b16d053b9bddc2351033\n"
          ]
        }
      ],
      "source": [
        "# Get random file hash_id\n",
        "hash_id = fileCache.get_random_hash('./output/file_cache.sqlite')\n",
        "print(f\"Hash ID: {hash_id}\")"
      ]
    },
    {
      "cell_type": "markdown",
      "metadata": {
        "id": "pIlReAl-xkFf"
      },
      "source": [
        "## Fetch Image File Data from File Cache DB with Specific Hash"
      ]
    },
    {
      "cell_type": "code",
      "execution_count": 5,
      "metadata": {
        "colab": {
          "base_uri": "https://localhost:8080/"
        },
        "id": "xG_8DXp6xYkF",
        "outputId": "c5dda8e8-2aef-4b19-b7f6-ac68084558d2"
      },
      "outputs": [
        {
          "name": "stdout",
          "output_type": "stream",
          "text": [
            "file_name : https___i.pinimg.com_originals_f0_fc_b5_f0fcb58b15c19afc5fc1f33ff2acda74.jpg\n",
            "file_path : ./datasets/testdata.zip/testdata/not-pixel-art-real-photo/https___i.pinimg.com_originals_f0_fc_b5_f0fcb58b15c19afc5fc1f33ff2acda74.jpg\n",
            "hash_id : d08308e5788f548b0173d83f2cdf69b6b9564aed829adfe279dc1496e98f850e0bac6f775a19e8376d87507a398c285708bb77fee6a1b16d053b9bddc2351033\n",
            "file_type : .jpg\n",
            "is_archive : None\n",
            "n_content : None\n",
            "container_archive : ./datasets/testdata.zip\n"
          ]
        }
      ],
      "source": [
        "# Fetch image file data from file cache database with specific hash\n",
        "img_dict = fileCache.get_img_by_hash('./output/file_cache.sqlite', hash_id)\n",
        "# Printing the dictionary.\n",
        "for key in img_dict:\n",
        "  print(f\"{key} : {img_dict[key]}\")"
      ]
    },
    {
      "cell_type": "markdown",
      "metadata": {
        "id": "ouFRkjIVx9-p"
      },
      "source": [
        "## Fetch Random Image File Data from File Cache DB."
      ]
    },
    {
      "cell_type": "code",
      "execution_count": 6,
      "metadata": {
        "colab": {
          "base_uri": "https://localhost:8080/"
        },
        "id": "z5Bt86VNwPzp",
        "outputId": "66f9a172-ea0c-40b4-a3e9-b50a457b9827"
      },
      "outputs": [
        {
          "name": "stdout",
          "output_type": "stream",
          "text": [
            "file_name : https___i.pinimg.com_originals_00_0b_2d_000b2d8351f053664b41ca1024b41b1f.jpg\n",
            "file_path : ./datasets/testdata.zip/testdata/other-training/https___i.pinimg.com_originals_00_0b_2d_000b2d8351f053664b41ca1024b41b1f.jpg\n",
            "hash_id : 3092e6075de0b2b9266021b2ca9dd312d3b1624ef40f377a5989a7757d8a1bdabd82f3101e15237c2dcd46edef5e4fcb06b51c347dbeabaf9acfbff5ddc250cc\n",
            "file_type : .jpg\n",
            "is_archive : None\n",
            "n_content : None\n",
            "container_archive : ./datasets/testdata.zip\n"
          ]
        }
      ],
      "source": [
        "# Fetch random image file data from file cache database.\n",
        "img_dict = fileCache.get_random_image('./output/file_cache.sqlite')\n",
        "# Printing the dictionary.\n",
        "for key in img_dict:\n",
        "  print(f\"{key} : {img_dict[key]}\")"
      ]
    },
    {
      "cell_type": "markdown",
      "metadata": {
        "id": "BwzKwag0yE54"
      },
      "source": [
        "## Clearing All the FileCache DB"
      ]
    },
    {
      "cell_type": "code",
      "execution_count": 7,
      "metadata": {
        "colab": {
          "base_uri": "https://localhost:8080/"
        },
        "id": "JdjUF91LyEiZ",
        "outputId": "238ac7c0-ccd4-4b0a-a695-35b18a6941fe"
      },
      "outputs": [
        {
          "name": "stdout",
          "output_type": "stream",
          "text": [
            "[INFO] Table \"file_cache\" on ./output/file_cache.sqlite database has been cleared.\n"
          ]
        }
      ],
      "source": [
        "# Clear all data from the table in file cache database.\n",
        "fileCache.clear_cache('./output/file_cache.sqlite', delete_cache=False)"
      ]
    },
    {
      "cell_type": "markdown",
      "metadata": {
        "id": "qNIawDlCym9_"
      },
      "source": [
        "# ClipCache Module Example"
      ]
    },
    {
      "cell_type": "markdown",
      "metadata": {
        "id": "XxBpF0o001QH"
      },
      "source": [
        "## Installing open_clip Library"
      ]
    },
    {
      "cell_type": "code",
      "execution_count": 8,
      "metadata": {
        "id": "N7nYw3yK0zQp"
      },
      "outputs": [],
      "source": [
        "%%capture\n",
        "!pip install open_clip_torch"
      ]
    },
    {
      "cell_type": "markdown",
      "metadata": {
        "id": "a18a3JbezgRR"
      },
      "source": [
        "## Initializing ClipCache Instance and Creating CLIP Cache DB"
      ]
    },
    {
      "cell_type": "code",
      "execution_count": 9,
      "metadata": {
        "colab": {
          "base_uri": "https://localhost:8080/"
        },
        "id": "3niuAcmfylrk",
        "outputId": "77f26589-4885-4293-9fb0-de2e7bda3057"
      },
      "outputs": [
        {
          "name": "stdout",
          "output_type": "stream",
          "text": [
            "[INFO]: database ./output/clip_cache.sqlite created\n"
          ]
        }
      ],
      "source": [
        "from clip_cache.cache_clip import ClipCache\n",
        "\n",
        "# Create CLIP cache object\n",
        "clipCache = ClipCache()\n",
        "\n",
        "# Create CLIP cache database. Default to './output/clip_cache.sqlite')\n",
        "clipCache.create_clip_cache()\n"
      ]
    },
    {
      "cell_type": "markdown",
      "metadata": {
        "id": "72nByAiZzhGA"
      },
      "source": [
        "## Adding Image Files Contained In a Folder Or ZIP Archive to CLIP Cache DB"
      ]
    },
    {
      "cell_type": "code",
      "execution_count": 10,
      "metadata": {
        "colab": {
          "base_uri": "https://localhost:8080/"
        },
        "id": "VYk97UXTzhke",
        "outputId": "78d535b0-4b56-4982-ad45-4bdddcc47db8"
      },
      "outputs": [
        {
          "name": "stderr",
          "output_type": "stream",
          "text": [
            "100%|███████████████████████████████████████| 354M/354M [00:03<00:00, 94.9MiB/s]\n"
          ]
        },
        {
          "name": "stdout",
          "output_type": "stream",
          "text": [
            "[INFO] Calculating CLIP vector for ./datasets/testdata.zip...\n",
            "[INFO] Calculating CLIP vector for ./datasets/testdata.zip...\n",
            "[INFO] Calculating CLIP vector for ./datasets/testdata.zip...\n",
            "[INFO] Calculating CLIP vector for ./datasets/testdata.zip...\n",
            "[INFO] Calculating CLIP vector for ./datasets/testdata.zip...\n",
            "[INFO] Calculating CLIP vector for ./datasets/testdata.zip...\n",
            "[INFO] Calculating CLIP vector for ./datasets/testdata.zip...\n",
            "[INFO] Calculating CLIP vector for ./datasets/testdata.zip...\n",
            "[INFO] Calculating CLIP vector for ./datasets/testdata.zip...\n",
            "[INFO] Calculating CLIP vector for ./datasets/testdata.zip...\n",
            "[INFO] Calculating CLIP vector for ./datasets/testdata.zip...\n",
            "[INFO] Calculating CLIP vector for ./datasets/testdata.zip...\n",
            "[INFO] Calculating CLIP vector for ./datasets/testdata.zip...\n",
            "[INFO] Calculating CLIP vector for ./datasets/testdata.zip...\n",
            "[INFO] Calculating CLIP vector for ./datasets/testdata.zip...\n",
            "[INFO] Calculating CLIP vector for ./datasets/testdata.zip...\n",
            "[INFO] Calculating CLIP vector for ./datasets/testdata.zip...\n",
            "[INFO] Calculating CLIP vector for ./datasets/testdata.zip...\n",
            "[INFO] Calculating CLIP vector for ./datasets/testdata.zip...\n",
            "[INFO] Calculating CLIP vector for ./datasets/testdata.zip...\n",
            "[INFO] Calculating CLIP vector for ./datasets/testdata.zip...\n",
            "[INFO] Calculating CLIP vector for ./datasets/testdata.zip...\n",
            "[INFO] Calculating CLIP vector for ./datasets/testdata.zip...\n",
            "[INFO] Calculating CLIP vector for ./datasets/testdata.zip...\n",
            "[INFO]: Folder ./datasets/testdata.zip added to ./output/clip_cache.sqlite\n"
          ]
        }
      ],
      "source": [
        "# Adding image files contained in a folder or ZIP archive to CLIP cache database\n",
        "clipCache.add_folder_to_clip_cache('./datasets/testdata.zip')"
      ]
    },
    {
      "cell_type": "markdown",
      "metadata": {
        "id": "9MD_XVmuzln3"
      },
      "source": [
        "## Get Random File Hash from DB"
      ]
    },
    {
      "cell_type": "code",
      "execution_count": 11,
      "metadata": {
        "colab": {
          "base_uri": "https://localhost:8080/"
        },
        "id": "gl4xB7O-zmLy",
        "outputId": "0f493830-dd7f-4045-eb33-a6a2fcc3e0bd"
      },
      "outputs": [
        {
          "name": "stdout",
          "output_type": "stream",
          "text": [
            "Hash ID: 9b2f1890ea7ec35ec49ab0625b74fa99e86d7185f7776d1683466e8c52123f115add65b5dd7d5d1b48955fa008cf86e3ea6d0756e412e859edb5e3bc2b62d827\n"
          ]
        }
      ],
      "source": [
        "# Get random file hash_id\n",
        "hash_id = clipCache.get_random_hash('./output/clip_cache.sqlite')\n",
        "print(f\"Hash ID: {hash_id}\")"
      ]
    },
    {
      "cell_type": "markdown",
      "metadata": {
        "id": "hMbDSbJRznew"
      },
      "source": [
        "## Get CLIP Vector Data from CLIP Cache DB with Specific Hash "
      ]
    },
    {
      "cell_type": "code",
      "execution_count": 12,
      "metadata": {
        "colab": {
          "base_uri": "https://localhost:8080/"
        },
        "id": "pSFougUxzn4P",
        "outputId": "43bd70cd-5f64-4fb2-e520-3c3d8dea88d2"
      },
      "outputs": [
        {
          "name": "stdout",
          "output_type": "stream",
          "text": [
            "hash_id : 9b2f1890ea7ec35ec49ab0625b74fa99e86d7185f7776d1683466e8c52123f115add65b5dd7d5d1b48955fa008cf86e3ea6d0756e412e859edb5e3bc2b62d827\n",
            "clip_vector : [[ 2.36666113e-01 -1.26065508e-01  2.90830135e-01 -7.51582623e-01\n",
            "   2.49981239e-01 -5.97876132e-01  7.35423490e-02  6.30756855e-01\n",
            "   2.58274585e-01  3.75845611e-01 -4.35824811e-01  2.19376191e-01\n",
            "   4.55207109e-01 -2.48262808e-01  1.66447476e-01  4.23831373e-01\n",
            "  -4.41205129e-02  1.34212971e-01 -3.66661102e-01  1.65257260e-01\n",
            "  -1.49023384e-02  6.32396564e-02  2.92944312e-01  3.53740811e-01\n",
            "  -2.19550803e-02 -4.17181253e-01 -4.02600855e-01  4.62936342e-01\n",
            "  -1.03281327e-01  1.30987957e-01  1.23471923e-01 -2.26849541e-02\n",
            "   2.26294640e-02  3.46390635e-01 -4.18478176e-02 -3.55137318e-01\n",
            "  -4.71387655e-01  1.75701082e-01 -2.18381062e-01 -1.23044705e+00\n",
            "  -2.02351600e-01  2.83436149e-01 -2.35975925e-02 -1.52335996e-02\n",
            "   1.30977049e-01 -3.84485334e-01 -3.65354359e-01 -3.69191855e-01\n",
            "  -8.95074382e-02  9.34458300e-02 -1.61364764e-01  2.21482679e-01\n",
            "   2.37492368e-01 -2.89784431e-01 -2.80518740e-01 -1.64384142e-01\n",
            "   4.31419127e-02 -2.17350483e-01  2.03983471e-01  2.32383803e-01\n",
            "   5.56073010e-01  2.61027217e-01 -8.28156546e-02 -8.36975515e-01\n",
            "   8.11854377e-02  8.19373727e-02 -3.22526991e-01 -3.17271650e-01\n",
            "  -2.06531852e-01 -4.88538705e-02 -2.72808790e-01 -4.27031964e-01\n",
            "  -1.13973171e-01 -2.14117631e-01  4.39363539e-01  1.65226430e-01\n",
            "   1.55392334e-01  1.31684855e-01 -6.94197416e-02 -4.53888744e-01\n",
            "  -5.75829623e-03 -3.39238465e-01 -1.05672017e-01  4.51234192e-01\n",
            "   5.55072203e-02  2.00257465e-01  1.39014095e-01  1.38251334e-01\n",
            "   1.62819162e-01 -1.22917920e-01  4.02340293e-02  2.06786036e-01\n",
            "  -6.95541286e+00  7.11518645e-01 -1.52820289e-01  6.60675690e-02\n",
            "   1.88958928e-01 -3.99675518e-01  2.12585106e-01  3.56670529e-01\n",
            "  -4.28090245e-02  4.60207939e-01  7.76180029e-02  5.31448871e-02\n",
            "  -2.17864871e-01 -1.28238261e-01 -1.70008147e+00 -3.63844149e-02\n",
            "   4.80722576e-01 -5.31743288e-01  2.28520692e-03 -4.01913941e-01\n",
            "   3.99436615e-03 -1.59358874e-01 -1.93375334e-01 -4.78947759e-01\n",
            "   6.15021139e-02 -3.49979877e-01 -9.63757783e-02  3.32086593e-01\n",
            "   2.98641771e-01  9.99300256e-02 -2.30451435e-01  2.96157777e-01\n",
            "  -8.46076086e-02  8.76349136e-02  1.15441211e-01  3.46178502e-01\n",
            "   1.16270408e-01 -5.20058535e-02 -3.68745208e-01  4.00273263e-01\n",
            "   2.59555757e-01  9.23213542e-01  1.48879826e-01  1.05334148e-01\n",
            "   4.20549884e-02 -5.71874857e-01 -7.09330201e-01 -1.61895454e-01\n",
            "   1.12546697e-01  3.07025075e-01 -1.59930170e-01 -2.36907348e-01\n",
            "  -3.14341307e-01 -2.11279511e-01  4.46455479e-01 -1.81345031e-01\n",
            "   3.20619166e-01 -2.25247622e-01 -1.64857432e-01 -1.31264284e-01\n",
            "  -3.81968200e-01 -3.09360683e-01  1.91428885e-01 -4.13778573e-02\n",
            "  -6.54949173e-02 -1.77481696e-02  4.28460538e-01  4.95635122e-02\n",
            "   1.12808712e-01  5.52587807e-02 -4.36438471e-01 -4.27533060e-01\n",
            "   4.98320550e-01  3.89752418e-01  6.57407701e-01 -5.66384755e-02\n",
            "  -4.19083744e-01 -2.06612483e-01  1.89284682e-01 -3.29314768e-01\n",
            "  -4.02595699e-01 -2.49008670e-01  1.61478937e-01 -2.10897073e-01\n",
            "  -5.97839773e-01 -2.18843549e-01 -7.52598271e-02 -4.06052470e-01\n",
            "  -4.26232219e-02  2.90048301e-01  1.09630227e-01  2.14013368e-01\n",
            "  -5.77290915e-02 -3.55911739e-02  3.32863569e-01  5.72806410e-02\n",
            "  -9.75702181e-02  3.14342380e-01  2.61738598e-01 -5.57198338e-02\n",
            "   1.82206035e-01  2.49955103e-01 -3.88080999e-02 -2.78142337e-02\n",
            "  -2.36596704e-01  1.12596601e-01 -6.80080175e-01  3.30968469e-01\n",
            "  -2.52184361e-01  1.59065977e-01  1.60250459e-02 -3.80333424e-01\n",
            "   1.03484958e-01 -3.53615433e-01 -3.80606025e-01  6.26691505e-02\n",
            "  -3.69645953e-01 -4.54998344e-01  1.51693195e-01  6.47005320e-01\n",
            "  -4.09813318e-03 -5.66268526e-02  1.72788396e-01  9.95614082e-02\n",
            "  -8.21203411e-01 -7.33828172e-02 -4.25739735e-01  8.10626373e-02\n",
            "   4.80915874e-01 -5.38277328e-01  3.35912645e-01 -2.35509649e-02\n",
            "   2.08809197e-01  1.65989459e-01  3.19101602e-01  6.71861544e-02\n",
            "  -7.48140737e-02 -2.68690065e-02 -3.22352737e-01  4.16507751e-01\n",
            "  -2.55311966e-01  1.49930045e-01  1.09873161e-01  1.66880876e-01\n",
            "   1.14581712e-01 -4.99101996e-01 -3.57668400e-01  3.63050938e-01\n",
            "  -4.28088635e-01 -2.74771988e-01  3.76728922e-01  1.90848947e-01\n",
            "  -2.74013519e-01 -5.37107047e-03 -2.75180846e-01 -1.15467206e-01\n",
            "   1.66603267e-01 -2.67376214e-01 -1.83898419e-01 -1.07124522e-01\n",
            "  -1.02095284e-01 -4.40727055e-01  6.58227429e-02  1.72898188e-01\n",
            "   1.70880780e-01 -2.43184000e-01 -1.52419889e+00 -1.53799087e-01\n",
            "   3.46492678e-01  1.93909913e-01 -1.97216809e-01 -4.84367102e-01\n",
            "   2.20257372e-01  1.54884189e-01 -1.75728932e-01 -5.47132790e-01\n",
            "  -4.35721844e-01 -2.00163975e-01 -2.20802113e-01  4.48506176e-01\n",
            "   1.49850681e-01 -2.13134974e-01 -3.47691417e-01 -2.36359686e-01\n",
            "   1.00652978e-01  3.60287040e-01 -2.71688849e-01  7.46679232e-02\n",
            "   2.73481011e-01  7.68943056e-02 -5.78564294e-02  1.90401271e-01\n",
            "  -5.36846280e-01  3.88906375e-02  6.50209248e-01  6.47679418e-02\n",
            "   4.98338819e-01  6.06614530e-01 -5.82985878e-02 -2.71675169e-01\n",
            "  -5.64601421e-02 -2.93484539e-01 -5.53383708e-01  3.20099026e-01\n",
            "  -3.87200713e-01 -1.48210198e-01  2.70421475e-01 -1.41152814e-01\n",
            "   1.61794975e-01 -1.95550635e-01 -4.24355194e-02  1.51921391e-01\n",
            "   7.29386732e-02 -5.50966740e-01  3.87792662e-02 -3.34168732e-01\n",
            "  -4.22415942e-01 -2.32488379e-01  1.02716193e-01 -6.88848048e-02\n",
            "   9.21709418e-01 -1.12005271e-01  2.70634796e-02  6.05009615e-01\n",
            "  -6.29238486e-02 -1.94808543e-01  1.60678044e-01 -4.61615592e-01\n",
            "   3.87072593e-01  2.36183214e+00 -5.47939874e-02  4.87698674e-01\n",
            "  -1.83511496e-01 -4.20371383e-01  6.88664094e-02 -1.49582773e-01\n",
            "  -3.29283357e-01  2.35739231e-01 -1.76834315e-01  8.12049985e-01\n",
            "  -8.03573653e-02 -3.00412178e-01  2.44883895e-01 -2.33017057e-02\n",
            "   8.01688582e-02  5.37125804e-02  4.56544310e-01  1.87975749e-01\n",
            "  -3.72534156e-01 -2.50772890e-02  1.27312109e-01  7.72888586e-02\n",
            "   4.23650146e-01  3.35824728e-01  1.98509425e-01 -1.56173527e-01\n",
            "  -3.77568692e-01 -8.89984053e-03  1.08109348e-01 -1.45869464e-01\n",
            "  -5.14526308e-01  1.94289237e-01 -7.13681951e-02  1.23007149e-01\n",
            "   1.03875838e-01  4.16023195e-01 -1.03305608e-01  4.37592305e-02\n",
            "  -2.57968813e-01 -3.19654703e-01  2.13796541e-01 -3.69288862e-01\n",
            "  -7.89982677e-01 -2.93645717e-04  4.18656841e-02  4.03393626e-01\n",
            "   1.98578298e-01  4.14069712e-01  1.18570082e-01  1.20039061e-01\n",
            "   1.72008872e-01  6.30229190e-02  4.47722256e-01 -6.85893953e-01\n",
            "   1.62118062e-01  2.95103937e-01 -5.75318933e-01  6.82786644e-01\n",
            "  -1.59408137e-01 -1.10852234e-01 -4.47311252e-03  2.24679872e-01\n",
            "   3.12689692e-01 -3.17831598e-02  6.29490092e-02 -2.03772500e-01\n",
            "   2.06491575e-01  8.88461545e-02 -4.10062551e-01 -2.56717235e-01\n",
            "   3.30687851e-01 -4.40508693e-01  3.68555635e-01  3.30113471e-01\n",
            "  -1.81270093e-01  7.10764453e-02  1.07893325e-01 -3.04869320e-02\n",
            "   1.54816106e-01 -8.97032246e-02  3.10257226e-01 -1.21228106e-01\n",
            "  -1.97129309e-01 -3.37291598e-01 -4.36461508e-01 -1.92262605e-01\n",
            "   5.28600849e-02 -3.42746139e-01  7.76949167e-01  1.43067017e-01\n",
            "  -1.23958118e-01  1.83233067e-01  1.24840826e-01  4.28529130e-03\n",
            "   1.84135392e-01  2.18334094e-01  2.28791069e-02 -6.19665198e-02\n",
            "  -1.97947994e-01 -4.42983694e-02  4.95581329e-02 -5.27828574e-01\n",
            "   8.12451243e-01  4.81088489e-01  5.05941570e-01 -1.83510318e-01\n",
            "   7.94918656e-01  1.11345917e-01 -2.23636568e-01 -2.13180304e-01\n",
            "  -3.71792912e-02  4.39946592e-01  2.36950770e-01 -5.44736236e-02\n",
            "  -2.46613175e-02 -4.27245706e-01 -3.38047068e-03 -3.88822742e-02\n",
            "   2.72680968e-01  4.05134857e-01 -2.82723278e-01 -1.85847998e-01\n",
            "   2.86042094e-01 -1.30318590e-02  9.87316854e-03 -1.04758866e-01\n",
            "   3.03243428e-01 -2.66403228e-01 -5.58601499e-01 -8.04945379e-02\n",
            "  -1.28729284e-01 -4.19244260e-01  9.93044674e-03 -4.67812777e-01\n",
            "  -2.72239625e-01 -1.25405982e-01  6.18862547e-03 -3.53115171e-01\n",
            "  -7.76797906e-03 -2.11592287e-01  3.85375977e-01  2.10409928e-02\n",
            "   6.39589801e-02 -2.75508076e-01  7.21058428e-01  2.70397782e-01\n",
            "   1.30096063e-01  1.44314691e-01 -9.68348905e-02  2.95289785e-01\n",
            "   2.86257029e-01  2.25045964e-01 -4.95156705e-01  2.55522937e-01\n",
            "   1.04896165e-01  1.58305392e-01 -7.81264752e-02  3.06658417e-01\n",
            "  -1.88092533e-02 -4.83080864e-01 -6.10468127e-02  1.31572336e-01\n",
            "   4.24158305e-01 -1.52066410e-01 -6.61664605e-02 -5.73090196e-01\n",
            "  -6.72034323e-01  2.20410362e-01 -3.97761427e-02 -2.99413294e-01\n",
            "  -3.92965615e-01 -2.31395513e-01  4.09306914e-01  1.73714131e-01\n",
            "  -1.79644134e-02 -1.55430257e-01 -2.83134460e-01 -2.20637485e-01\n",
            "   1.33809492e-01 -1.90736085e-01  4.89309691e-02 -1.59185186e-01\n",
            "   6.86398372e-02  6.47868365e-02  1.27877429e-01 -1.89653859e-01\n",
            "  -9.19799432e-02  1.71461999e-01 -1.06265709e-01 -1.91730246e-01]]\n",
            "model : ViT-B-32:openai\n"
          ]
        }
      ],
      "source": [
        "# Fetch CLIP vector data from CLIP cache database with specific hash\n",
        "clip_dict = clipCache.get_clip_by_hash('./output/clip_cache.sqlite', hash_id)\n",
        "for key in clip_dict:\n",
        "  print(f\"{key} : {clip_dict[key]}\")"
      ]
    },
    {
      "cell_type": "markdown",
      "metadata": {
        "id": "8uhYDitKzpu9"
      },
      "source": [
        "## Get Random CLIP Vector from CLIP Cache DB"
      ]
    },
    {
      "cell_type": "code",
      "execution_count": 13,
      "metadata": {
        "colab": {
          "base_uri": "https://localhost:8080/"
        },
        "id": "ZBP8eTIHzqMF",
        "outputId": "c27484cf-b2be-42e3-fe2e-713cb77ee25d"
      },
      "outputs": [
        {
          "name": "stdout",
          "output_type": "stream",
          "text": [
            "hash_id : cbed440a1d639986a1d52ecca508d8ab8b92c27040463702c07a271195e2adaebf1c9f9a82bfa02e421f10cf6fe9a887207f925d7fc856e7df669e4544dfbf71\n",
            "clip_vector : [[-1.79136395e-01 -1.14715315e-01 -2.01706234e-02  3.21493685e-01\n",
            "   6.05420828e-01 -2.02845633e-01  9.70829129e-02 -1.06028304e-01\n",
            "  -2.14949399e-01  4.25283730e-01 -1.08159624e-01  9.63202957e-03\n",
            "  -2.82802954e-02 -3.81042715e-03  4.94117856e-01  2.84032851e-01\n",
            "   3.59351426e-01  3.86067390e-01 -3.49933386e-01 -1.96620777e-01\n",
            "  -2.39127681e-01  9.07916389e-03 -1.64673869e-02  1.67921603e-01\n",
            "  -3.90282869e-01 -1.35500319e-02 -1.88837424e-01  3.00699115e-01\n",
            "  -4.91323173e-02  3.47665966e-01  4.14400160e-01 -2.36875996e-01\n",
            "   1.54079674e-02  4.32490781e-02  2.81052310e-02  1.71977744e-01\n",
            "  -2.78922647e-01  4.52218294e-01  3.58586669e-01 -1.32136837e-01\n",
            "   7.10119540e-03  2.61320800e-01  1.69510767e-02 -2.19594300e-01\n",
            "   4.98262376e-01 -9.02989805e-01  2.85441190e-01 -6.55185282e-02\n",
            "  -2.55165577e-01  4.89071488e-01 -2.36719057e-01  7.10059851e-02\n",
            "   1.08758077e-01  1.73877165e-01 -8.78477842e-02 -1.39126899e-02\n",
            "   3.01474065e-01  3.42559093e-03  2.53177285e-01  2.98116475e-01\n",
            "   5.04897475e-01 -3.95974010e-01  1.50387600e-01 -1.58540860e-01\n",
            "   4.42414939e-01 -7.77249262e-02  2.59786487e-01 -3.79838586e-01\n",
            "   1.94319069e-01 -5.16541004e-01 -6.71102226e-01 -1.69435278e-01\n",
            "   1.50798023e-01  4.36894819e-02 -4.18379277e-01 -1.34716645e-01\n",
            "  -3.35906029e-01  3.34902495e-01  2.13372055e-02 -2.64441092e-02\n",
            "   1.23559259e-01 -3.64167631e-01  3.06751907e-01 -7.70733878e-02\n",
            "  -1.70713067e-01 -5.77016249e-02 -3.96930367e-01  3.19295883e-01\n",
            "   1.31109393e+00 -1.41729251e-01  3.63836974e-01 -1.09543696e-01\n",
            "  -5.66636801e+00  6.19881392e-01 -5.10785460e-01 -2.83509903e-02\n",
            "   7.88497329e-02 -1.89573228e-01 -3.85817178e-02  1.01817465e+00\n",
            "   1.13521725e-01  5.36194205e-01 -5.94433164e-03  3.62343729e-01\n",
            "  -2.02069819e-01 -3.29686165e-01 -4.57147151e-01  2.22568944e-01\n",
            "   1.22426368e-01 -7.13745415e-01 -3.51362377e-01 -2.90731162e-01\n",
            "   3.31812277e-02 -3.22528005e-01  1.09826617e-01 -4.45794016e-01\n",
            "  -2.09919810e-01 -4.71768141e-01  9.34298262e-02  4.05111343e-01\n",
            "  -2.00513124e-01  2.91648775e-01  1.75218597e-01  3.44816059e-01\n",
            "  -5.42295933e-01 -1.75000086e-01  4.19962168e-01  2.66671062e-01\n",
            "   1.13110721e-01  5.97913675e-02 -1.30692288e-01 -3.28720003e-01\n",
            "   1.63150504e-01  8.35959792e-01 -1.28069550e-01  2.36340463e-02\n",
            "   5.23667455e-01 -3.78090411e-01  2.94696301e-01 -1.80738688e-01\n",
            "  -3.31823289e-01  2.23563507e-01 -2.40044713e-01  1.12050109e-01\n",
            "  -3.10465038e-01  9.88843068e-02  5.49968362e-01 -7.87751824e-02\n",
            "  -3.80748004e-01 -1.71769768e-01 -2.18526289e-01 -3.33550423e-01\n",
            "  -8.30574155e-01 -8.04432780e-02  2.93523464e-02 -1.73440538e-02\n",
            "   2.00751022e-01 -2.54751921e-01  5.21417618e-01  5.34207746e-02\n",
            "  -2.59448260e-01  5.80158412e-01 -1.45864978e-01  5.17109782e-02\n",
            "   3.04282993e-01 -2.46671382e-02  1.09395254e+00 -5.05587757e-02\n",
            "   1.27193570e-01  4.77533817e-01  2.60228157e-01 -2.53512502e-01\n",
            "  -6.63350284e-01 -6.44538701e-02  6.98004710e-03 -4.19111818e-01\n",
            "  -5.20715773e-01  6.06187761e-01 -5.84416278e-03 -2.70717263e-01\n",
            "  -4.20645671e-03 -1.45723239e-01 -4.85834405e-02 -1.10675454e-01\n",
            "  -1.10415034e-01  3.74617845e-01 -2.37543836e-01  3.33478779e-01\n",
            "  -1.51503056e-01 -2.26613492e-01 -1.91069264e-02 -1.05885088e-01\n",
            "   1.98871531e-02  9.89727601e-02 -1.57299563e-01  5.58438420e-01\n",
            "   8.83120950e-03  3.75821471e-01 -8.38462263e-02 -2.24486291e-01\n",
            "   8.81014243e-02  5.37974715e-01  4.54018600e-02 -6.74045458e-02\n",
            "  -9.34075341e-02  3.69261086e-01 -5.96493006e-01  1.91109657e-01\n",
            "   4.35075551e-01 -4.00288314e-01 -9.59966719e-01  6.19082272e-01\n",
            "   4.48967010e-01  2.80729413e-01  2.35070139e-02  2.95860264e-02\n",
            "  -7.74818897e-01  2.26855233e-01  3.53250712e-01  2.88533747e-01\n",
            "   1.59715161e-01 -2.08371997e-01 -1.68580517e-01 -3.55981976e-01\n",
            "  -1.48688331e-01 -2.90365636e-01 -1.83059573e-01 -1.02179706e-01\n",
            "   2.86374371e-02 -2.43194804e-01  1.18345283e-01  2.63119012e-01\n",
            "   1.25066593e-01  1.67199850e-01 -1.02804527e-01  8.40065181e-01\n",
            "  -3.03268284e-01 -1.08389035e-01 -1.46582112e-01 -2.45958269e-01\n",
            "  -2.12850288e-01  1.71853870e-01 -8.80716667e-02 -2.28517160e-01\n",
            "   1.63194612e-01 -2.69325152e-02 -9.04425755e-02 -1.24925166e-01\n",
            "   1.95968226e-01  1.67702943e-01 -2.78070211e-01  9.12539959e-02\n",
            "   3.86093289e-01  1.37776315e-01  1.14839852e-01  2.64747679e-01\n",
            "  -2.58374363e-01 -5.78688681e-01 -2.44457722e+00 -2.64538139e-01\n",
            "  -1.22304134e-01  6.89626932e-01 -3.70498538e-01 -1.44646549e+00\n",
            "   1.72486886e-01  1.35019392e-01 -4.73114491e-01 -9.78591591e-02\n",
            "  -4.18393835e-02  1.79866657e-01  5.83461002e-02  1.18723931e-02\n",
            "   4.40536857e-01 -2.32036829e-01 -2.91996688e-01 -1.46782368e-01\n",
            "   4.03288007e-01  9.49935094e-02  1.32759720e-01 -3.14903527e-01\n",
            "   1.76643077e-02  3.11254442e-01 -3.28703463e-01  2.26808768e-02\n",
            "   2.53548473e-01  4.59649831e-01  5.01457453e-01 -9.10819694e-02\n",
            "   5.65578714e-02  3.24794173e-01  4.79495898e-02 -9.07013044e-02\n",
            "   3.49065930e-01 -5.99594653e-01 -1.18761502e-01  6.55415002e-03\n",
            "  -4.60398674e-01  1.06257416e-01 -2.18555391e-01 -6.79465234e-01\n",
            "   1.56107351e-01 -3.25113028e-01 -5.89311495e-02  1.35316893e-01\n",
            "  -2.32915580e-03 -5.56724250e-01  3.12563069e-02 -1.38542905e-01\n",
            "   5.24769902e-01 -3.38388793e-02 -4.13215339e-01  1.59143612e-01\n",
            "   8.34387362e-01  7.31657073e-02  4.62675124e-01 -3.02030295e-01\n",
            "  -1.96667969e-01  1.80183388e-02  8.37505311e-02 -2.93676853e-01\n",
            "   8.37358773e-01  2.02073431e+00 -1.65679961e-01  3.62916619e-01\n",
            "   9.06768203e-01 -2.13775933e-01  5.10375023e-01 -3.04494619e-01\n",
            "  -2.71556135e-02 -4.06204611e-02  6.09617606e-02 -9.05330642e-04\n",
            "   1.24596454e-01 -2.43199110e-01 -1.49036273e-01 -3.87706935e-01\n",
            "  -6.76102221e-01 -4.59255308e-01 -7.58826509e-02 -1.14784643e-01\n",
            "  -2.40062118e-01 -7.34846666e-02  2.08561316e-01  5.53887188e-02\n",
            "   1.37054011e-01 -2.94885606e-01 -2.21790805e-01  3.36426586e-01\n",
            "  -2.97339529e-01  6.71986520e-01 -2.74014503e-01 -2.14311965e-02\n",
            "   3.51878732e-01  1.40208080e-01 -3.15517306e-01  4.09865707e-01\n",
            "   4.33278054e-01  8.87485862e-01  3.07620198e-01 -2.13921398e-01\n",
            "   4.74922478e-01  8.98744687e-02 -3.35666955e-01 -5.82897514e-02\n",
            "  -5.44322848e-01  5.38761616e-02 -3.88885587e-02  7.71870324e-03\n",
            "  -3.36010635e-01 -4.32683408e-01  1.36960214e-02  2.52117127e-01\n",
            "   1.70091510e-01 -5.73089898e-01 -3.97927640e-03  1.60749301e-01\n",
            "   9.26034033e-01 -1.03884295e-01 -2.97503591e-01  4.50683683e-01\n",
            "   8.47699642e-02 -1.96295455e-01 -2.92789489e-01  2.04395890e-01\n",
            "   1.58107519e-01  2.00024173e-01  1.85628816e-01  2.36644983e-01\n",
            "   3.31421465e-01 -7.78877139e-01  2.38578469e-02 -2.86511749e-01\n",
            "   1.42589316e-01  1.52588010e-01 -4.46300566e-01 -2.50163555e-01\n",
            "  -2.35060975e-01 -1.46686882e-01  3.81215699e-02 -4.45500702e-01\n",
            "  -4.56899107e-01  7.52152741e-01  1.24693930e+00  2.82351106e-01\n",
            "   6.35108328e-04 -6.06519401e-01 -7.12879896e-01 -6.79982483e-01\n",
            "  -1.20997503e-01  2.07031853e-02  5.52044928e-01  1.14721969e-01\n",
            "  -3.26736927e-01 -2.76899129e-01  2.39176169e-01  4.94804680e-01\n",
            "  -1.41229674e-01  8.59539881e-02  3.57221067e-01 -5.75414717e-01\n",
            "  -1.19194828e-01 -1.21192850e-01 -1.17962286e-01 -7.27390274e-02\n",
            "   4.00716126e-01  4.13962603e-01  4.12397951e-01  2.08808914e-01\n",
            "   7.99265683e-01 -4.09027934e-01  4.17594135e-01 -1.58341154e-01\n",
            "   5.25705040e-01 -7.23877875e-03 -6.31725835e-03 -2.00302511e-01\n",
            "   2.04710275e-01 -6.81360662e-01  2.51410324e-02  3.17195840e-02\n",
            "   4.61532205e-01  4.54832837e-02 -3.32487911e-01 -3.58669907e-01\n",
            "   2.00661138e-01 -2.10871711e-01 -1.09426968e-01 -1.12840898e-01\n",
            "   2.18160450e-01 -1.57233387e-01 -1.49377286e-01  3.21019322e-01\n",
            "   3.10887158e-01  9.05117989e-02 -7.58783147e-02  1.98129073e-01\n",
            "   6.18477315e-02 -2.80428439e-01  8.68288651e-02  1.50976866e-01\n",
            "  -9.05717164e-02  1.60961375e-01  6.27307296e-01 -1.60163548e-02\n",
            "  -2.01243669e-01  2.42417961e-01 -4.16171223e-01 -1.85387924e-01\n",
            "  -4.07414675e-01  2.77100623e-01  2.96886981e-01  3.12876463e-01\n",
            "  -1.64197013e-02 -5.17946720e-01  3.05637177e-02 -5.46187282e-01\n",
            "   9.29171499e-03 -3.90341192e-01 -7.23066851e-02  1.56166330e-01\n",
            "   1.49842605e-01 -7.34452978e-02  1.26659051e-01  1.92447864e-02\n",
            "   3.97894800e-01 -3.40551473e-02 -1.04075171e-01 -2.28030860e-01\n",
            "  -3.50872368e-01 -8.23033154e-02 -2.98661232e-01  1.39333894e-02\n",
            "   2.35036954e-01 -4.78700966e-01 -1.11436643e-01  9.46013033e-02\n",
            "  -1.48033082e-01  4.14849110e-02  1.90085411e-01 -4.69691865e-02\n",
            "  -2.19872743e-01  2.44531050e-01  2.19673682e-02 -5.56819364e-02\n",
            "  -2.22648397e-01  7.50923157e-02 -6.00488663e-01 -6.40145600e-01\n",
            "   2.10700512e-01  5.42260647e-01  1.18055128e-01  3.19922179e-01]]\n",
            "model : ViT-B-32:openai\n"
          ]
        }
      ],
      "source": [
        "# Fetch random CLIP vector data from CLIP cache database.\n",
        "clip_dict = clipCache.get_random_clip('./output/clip_cache.sqlite')\n",
        "\n",
        "for key in clip_dict:\n",
        "  print(f\"{key} : {clip_dict[key]}\")"
      ]
    },
    {
      "cell_type": "markdown",
      "metadata": {
        "id": "wsFN-YnNzro7"
      },
      "source": [
        "## Delete Data from the Table in CLIP Cache DB."
      ]
    },
    {
      "cell_type": "code",
      "execution_count": 14,
      "metadata": {
        "colab": {
          "base_uri": "https://localhost:8080/"
        },
        "id": "exeYTtzzzsIC",
        "outputId": "48bb0503-0bcc-4e5f-f7fb-24395d56e175"
      },
      "outputs": [
        {
          "name": "stdout",
          "output_type": "stream",
          "text": [
            "[INFO] Table \"clip_cache\" on ./output/clip_cache.sqlite database has been cleared.\n"
          ]
        }
      ],
      "source": [
        "# Clear all data from the table in CLIP cache database.\n",
        "clipCache.clear_cache('./output/clip_cache.sqlite', delete_cache=False)"
      ]
    },
    {
      "cell_type": "markdown",
      "metadata": {
        "id": "Da7tfuKY1r8y"
      },
      "source": [
        "# TagCache Module Example"
      ]
    },
    {
      "cell_type": "markdown",
      "metadata": {
        "id": "2xO1BOw91x7L"
      },
      "source": [
        "## Initializing TagCache Instance and Creating TagCache DB"
      ]
    },
    {
      "cell_type": "code",
      "execution_count": 15,
      "metadata": {
        "colab": {
          "base_uri": "https://localhost:8080/"
        },
        "id": "qzWmhWkn1kAC",
        "outputId": "7b302860-4eef-46cd-bac5-48378b11bee5"
      },
      "outputs": [
        {
          "name": "stdout",
          "output_type": "stream",
          "text": [
            "[INFO]: database ./output/tag_cache.sqlite created\n"
          ]
        }
      ],
      "source": [
        "from clip_cache.cache_tag import TagCache\n",
        "\n",
        "# Create tag cache object\n",
        "tagCache = TagCache()\n",
        "\n",
        "# Create tag cache database. Default to './output/tag_cache.sqlite')\n",
        "tagCache.create_tag_cache()\n"
      ]
    },
    {
      "cell_type": "markdown",
      "metadata": {
        "id": "Flmg6FPJ2Euu"
      },
      "source": [
        "## Adding Image Files to TagCache DB"
      ]
    },
    {
      "cell_type": "code",
      "execution_count": 16,
      "metadata": {
        "colab": {
          "base_uri": "https://localhost:8080/"
        },
        "id": "afGYO0Rs1_aa",
        "outputId": "4c4ea388-39b6-4999-ae14-32f774884076"
      },
      "outputs": [
        {
          "name": "stdout",
          "output_type": "stream",
          "text": [
            " Processing: ./datasets/testdata.zip/testdata/not-pixel-art-real-photo/https___i.pinimg.com_originals_f0_ee_d1_f0eed195037b8fc2135a44ceb5ed2044.jpg\n",
            " Processing: ./datasets/testdata.zip/testdata/not-pixel-art-real-photo/https___i.pinimg.com_originals_f0_f0_71_f0f071d89545fb378150180d9257f306.jpg\n",
            " Processing: ./datasets/testdata.zip/testdata/not-pixel-art-real-photo/https___i.pinimg.com_originals_f0_f0_b4_f0f0b4f3f1d172a789589915fc4ad212.jpg\n",
            " Processing: ./datasets/testdata.zip/testdata/not-pixel-art-real-photo/https___i.pinimg.com_originals_f0_f5_b8_f0f5b8c94169977da31274f36b0aa703.jpg\n",
            " Processing: ./datasets/testdata.zip/testdata/not-pixel-art-real-photo/https___i.pinimg.com_originals_f0_f6_08_f0f608ca8c7e5bcd0b3ffc565442d74f.jpg\n",
            " Processing: ./datasets/testdata.zip/testdata/not-pixel-art-real-photo/https___i.pinimg.com_originals_f0_fc_b5_f0fcb58b15c19afc5fc1f33ff2acda74.jpg\n",
            " Processing: ./datasets/testdata.zip/testdata/not-pixel-art-real-photo/https___i.pinimg.com_originals_f0_fe_b3_f0feb3bf4202a15d69629e9ddd990809.jpg\n",
            " Processing: ./datasets/testdata.zip/testdata/not-pixel-art-real-photo/https___i.pinimg.com_originals_f1_00_9d_f1009d0dd411b52e827bbcd0d30080fa.jpg\n",
            " Processing: ./datasets/testdata.zip/testdata/not-pixel-art/https___i.pinimg.com_originals_f3_bb_e6_f3bbe6fa7aa5b9c925bb36954dc8786c.jpg\n",
            " Processing: ./datasets/testdata.zip/testdata/not-pixel-art/https___i.pinimg.com_originals_f3_c2_a5_f3c2a5e03978093319ba184fb54e009e.jpg\n",
            " Processing: ./datasets/testdata.zip/testdata/not-pixel-art/https___i.pinimg.com_originals_f3_c3_c2_f3c3c2c7fb350b03dccc99a66d3a3a86.jpg\n",
            " Processing: ./datasets/testdata.zip/testdata/not-pixel-art/https___i.pinimg.com_originals_f4_d6_97_f4d697934ac2656bcc9bba971262829c.png\n",
            " Processing: ./datasets/testdata.zip/testdata/not-pixel-art/https___i.pinimg.com_originals_f6_a3_b8_f6a3b85a6877bd06e0197063a720bcf6.jpg\n",
            " Processing: ./datasets/testdata.zip/testdata/not-pixel-art/https___i.pinimg.com_originals_f6_a4_11_f6a411b2046bad82ca94402131e14e67.png\n",
            " Processing: ./datasets/testdata.zip/testdata/not-pixel-art/https___i.pinimg.com_originals_f6_a4_db_f6a4db94afa72c01847cb2c8733d2155.jpg\n",
            " Processing: ./datasets/testdata.zip/testdata/not-pixel-art/https___i.pinimg.com_originals_f6_a4_fb_f6a4fbf097fd103d2f8c923016cf1368.jpg\n",
            " Processing: ./datasets/testdata.zip/testdata/other-training/https___i.pinimg.com_originals_00_00_57_000057f3850f9771864630687c4bdf26.jpg\n",
            " Processing: ./datasets/testdata.zip/testdata/other-training/https___i.pinimg.com_originals_00_00_e7_0000e7f96134fbd9ea78cca6986be247.png\n",
            " Processing: ./datasets/testdata.zip/testdata/other-training/https___i.pinimg.com_originals_00_0a_a5_000aa58efa428d0bdf580388a8403a49.png\n",
            " Processing: ./datasets/testdata.zip/testdata/other-training/https___i.pinimg.com_originals_00_0b_2d_000b2d8351f053664b41ca1024b41b1f.jpg\n",
            " Processing: ./datasets/testdata.zip/testdata/other-validation/https___i.pinimg.com_originals_00_78_74_0078749a6a33588ea8995080904d96fc.jpg\n",
            " Processing: ./datasets/testdata.zip/testdata/other-validation/https___i.pinimg.com_originals_00_79_2c_00792c0d83d415a707bdacee51646d9e.png\n",
            " Processing: ./datasets/testdata.zip/testdata/other-validation/https___i.pinimg.com_originals_00_79_32_007932f2045adf1d7b785d53021ccd0f.jpg\n",
            " Processing: ./datasets/testdata.zip/testdata/other-validation/https___i.pinimg.com_originals_00_81_01_0081018e59980d9b1a5cbe03dd9557cf.png\n",
            "[INFO]: Folder ./datasets/testdata.zip added to ./output/tag_cache.sqlite\n"
          ]
        }
      ],
      "source": [
        "# Adding image files contained in a folder or ZIP archive to tag cache database\n",
        "tagCache.add_folder_to_tag_cache('./datasets/testdata.zip')"
      ]
    },
    {
      "cell_type": "markdown",
      "metadata": {
        "id": "GDrW6eeZ2N9K"
      },
      "source": [
        "## Getting Random Hash from TagCache DB"
      ]
    },
    {
      "cell_type": "code",
      "execution_count": 17,
      "metadata": {
        "colab": {
          "base_uri": "https://localhost:8080/"
        },
        "id": "U2Qxp_DC2KUQ",
        "outputId": "a5b1b967-4d3c-4f58-ddd9-dd37d96f6b23"
      },
      "outputs": [
        {
          "name": "stdout",
          "output_type": "stream",
          "text": [
            "Hash ID: 7da1dfa9ea839c749bf8a80f0102ca0ef387bac9a5003acfe3280de88b014a286b3b39d189c5e294a7dd7a8c9ab493f921d6f512355b7300725b55b91a67c512\n"
          ]
        }
      ],
      "source": [
        "# Get random file hash_id\n",
        "hash_id = tagCache.get_random_hash('./output/tag_cache.sqlite')\n",
        "print(f\"Hash ID: {hash_id}\")"
      ]
    },
    {
      "cell_type": "markdown",
      "metadata": {
        "id": "HzpkM67p2WdG"
      },
      "source": [
        "## Getting Tag for Specific Hash Id"
      ]
    },
    {
      "cell_type": "code",
      "execution_count": 18,
      "metadata": {
        "colab": {
          "base_uri": "https://localhost:8080/"
        },
        "id": "wgJTVddI2XW5",
        "outputId": "b960530f-fb76-4884-b4af-cd14fe6ae6e4"
      },
      "outputs": [
        {
          "name": "stdout",
          "output_type": "stream",
          "text": [
            "Image hash: 7da1dfa9ea839c749bf8a80f0102ca0ef387bac9a5003acfe3280de88b014a286b3b39d189c5e294a7dd7a8c9ab493f921d6f512355b7300725b55b91a67c512\n",
            "Image tag:  not-pixel-art\n"
          ]
        }
      ],
      "source": [
        "# Fetch tag string from tag cache database with specific hash\n",
        "tag_str = tagCache.get_tag_by_hash('./output/tag_cache.sqlite', hash_id)\n",
        "print(f\"Image hash: {hash_id}\")\n",
        "print(f\"Image tag:  {tag_str}\")"
      ]
    },
    {
      "cell_type": "markdown",
      "metadata": {
        "id": "AcpZXyR33Ef7"
      },
      "source": [
        "## Getting List of Hash Ids for Specific Tag"
      ]
    },
    {
      "cell_type": "code",
      "execution_count": 19,
      "metadata": {
        "colab": {
          "base_uri": "https://localhost:8080/"
        },
        "id": "zLiEWYuo2hjH",
        "outputId": "29df4d87-8da8-4fb5-a320-45910471134d"
      },
      "outputs": [
        {
          "name": "stdout",
          "output_type": "stream",
          "text": [
            "Image 1 with hash : e33238b3d3cbd34caaad0b4c44eb67306c6e780fa2323abc643722cd991e6e75b8627543245116363057d213ea66abf898d7c36beae9e74e97c0f91ed553d8f3\n",
            "Image 2 with hash : 56702d6c6048b8d51147a50137c9cb5956194e5e3dcebb9dd9536897298bc945d49e9a2a2138ecf585bd7f7cc4bbef6cb7c79a2026eea6870365d6d1a78333f1\n",
            "Image 3 with hash : aa3096d9d84187828a45002e478a8b165add4101e946ff5565d13efa6beae9b684b659bdfba37bc056189cb6e0da9c70ef2eb44f4fc1fbec12e58330b891f0e7\n",
            "Image 4 with hash : 51b52816d626a97f5281db03607d40ddc55ef13f69323f3408b89a8b3ebd586d984fe5f65d618e3b8af84600a87da35a338293d302763df7e795bd408e0cf825\n",
            "Image 5 with hash : 09b54922fd5065a9acacfd3c19e7c6bb057f9c2dd55d881fc7a1c5297237495d21e8191d17da2bcabf994ee04454346550b09601c12cee66dee0af8149fd72f2\n",
            "Image 6 with hash : 1e1d28c15c3d54772d464d7df3aed436f281a27e76519336710a4b4e22e544daa9ccdef8c7d791ce5d8b188b2c58d56c71b9ce03f61f9b15a74a7b2bdbc9a9e4\n",
            "Image 7 with hash : 50c55bd1e165532436d7296f5bf367d56459f97b3f7af417e781f729d428234d50a51c8f5da17d2cdb2d88bc33a73bb9a539c45f5b9c79797b44a7339b42369a\n",
            "Image 8 with hash : 7da1dfa9ea839c749bf8a80f0102ca0ef387bac9a5003acfe3280de88b014a286b3b39d189c5e294a7dd7a8c9ab493f921d6f512355b7300725b55b91a67c512\n"
          ]
        }
      ],
      "source": [
        "# Fetch list of hash ids for specific tag string\n",
        "hash_id_list = tagCache.get_hash_by_tag('./output/tag_cache.sqlite', tag_str)\n",
        "for i, hash in enumerate(hash_id_list):\n",
        "  print(f\"Image {i+1} with hash : {hash}\")"
      ]
    },
    {
      "cell_type": "markdown",
      "metadata": {
        "id": "qCUEeFES3DPy"
      },
      "source": [
        "## Getting Random Hash ID, Tag from TagCache DB"
      ]
    },
    {
      "cell_type": "code",
      "execution_count": 20,
      "metadata": {
        "colab": {
          "base_uri": "https://localhost:8080/"
        },
        "id": "w1BQUCob3Dpl",
        "outputId": "138656f1-be27-4334-b0c1-4dbdcf404bfb"
      },
      "outputs": [
        {
          "name": "stdout",
          "output_type": "stream",
          "text": [
            "Image hash: 56702d6c6048b8d51147a50137c9cb5956194e5e3dcebb9dd9536897298bc945d49e9a2a2138ecf585bd7f7cc4bbef6cb7c79a2026eea6870365d6d1a78333f1\n",
            "Image tag: not-pixel-art\n"
          ]
        }
      ],
      "source": [
        "# Fetch random hash_id and tag pair from tag cache database.\n",
        "tag_dict = tagCache.get_random_tag('./output/tag_cache.sqlite')\n",
        "hash_id = tag_dict['hash_id']\n",
        "tag = tag_dict['tag']\n",
        "print(f\"Image hash: {hash_id}\")\n",
        "print(f'Image tag: {tag}')"
      ]
    },
    {
      "cell_type": "markdown",
      "metadata": {
        "id": "2laCY1Wl3zMP"
      },
      "source": [
        "## Clear All Data from TagCache DB"
      ]
    },
    {
      "cell_type": "code",
      "execution_count": 21,
      "metadata": {
        "colab": {
          "base_uri": "https://localhost:8080/"
        },
        "id": "GH-G1y333w7_",
        "outputId": "34159905-22d7-47cd-9700-b1178bb57ea1"
      },
      "outputs": [
        {
          "name": "stdout",
          "output_type": "stream",
          "text": [
            "[INFO] Table \"tag_cache\" on ./output/tag_cache.sqlite database has been cleared.\n"
          ]
        }
      ],
      "source": [
        "# Clear all data from the table in tag cache database.\n",
        "tagCache.clear_cache('./output/tag_cache.sqlite', delete_cache=False)"
      ]
    }
  ],
  "metadata": {
    "colab": {
      "provenance": []
    },
    "kernelspec": {
      "display_name": "Python 3",
      "name": "python3"
    },
    "language_info": {
      "name": "python"
    }
  },
  "nbformat": 4,
  "nbformat_minor": 0
}
