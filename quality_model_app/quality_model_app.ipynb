{
 "cells": [
  {
   "cell_type": "code",
   "execution_count": null,
   "metadata": {},
   "outputs": [],
   "source": [
    "import os\n",
    "import io\n",
    "import random\n",
    "import ipywidgets as widgets\n",
    "from IPython.display import display, clear_output\n",
    "from PIL import Image"
   ]
  },
  {
   "attachments": {},
   "cell_type": "markdown",
   "metadata": {},
   "source": [
    "## Specify Data Source"
   ]
  },
  {
   "cell_type": "code",
   "execution_count": null,
   "metadata": {},
   "outputs": [],
   "source": [
    "# Specify input directory as data source\n",
    "input_dir = './dataset/subset2'\n",
    "# Placeholder for list of image image files\n",
    "img_files = []\n",
    "\n",
    "# Walking thru files\n",
    "for root, _, files in os.walk(input_dir):\n",
    "    for file in files:\n",
    "        img_files.append(f'{root}/{file}')\n",
    "\n",
    "# Number of images\n",
    "n_images = len(img_files)\n",
    "print (f'Number of images: {n_images}')\n",
    "\n",
    "# Number of steps\n",
    "n_steps = 5"
   ]
  },
  {
   "attachments": {},
   "cell_type": "markdown",
   "metadata": {},
   "source": [
    "## Select and Open 2 Random Images"
   ]
  },
  {
   "cell_type": "code",
   "execution_count": null,
   "metadata": {},
   "outputs": [],
   "source": [
    "def get_2_rand_images ():\n",
    "\n",
    "    max_trials = 5\n",
    "\n",
    "    # File 1\n",
    "    i=0 \n",
    "    while i < max_trials:\n",
    "        i += 1\n",
    "        file_1 = random.choice(img_files)\n",
    "        try:\n",
    "            img_1 = Image.open(file_1)\n",
    "            break\n",
    "        except:\n",
    "            # Could not open file. Open another file\n",
    "            continue\n",
    "\n",
    "    # File 2\n",
    "    i=0 \n",
    "    while i < max_trials:\n",
    "        i += 1\n",
    "        file_2 = random.choice(img_files)\n",
    "        try:\n",
    "            img_2 = Image.open(file_2)\n",
    "            break\n",
    "        except:\n",
    "            # Could not open file. Open another file\n",
    "            continue\n",
    "\n",
    "    # Image 1 bytes serialization\n",
    "    img_byte_1 = io.BytesIO()\n",
    "    img_1.save(img_byte_1, format = img_1.format)\n",
    "    img_byte_1.seek(0)\n",
    "    img_data_1 = img_byte_1.read()\n",
    "\n",
    "    # Image 1 bytes serialization\n",
    "    img_byte_2 = io.BytesIO()\n",
    "    img_2.save(img_byte_2, format = img_2.format)\n",
    "    img_byte_2.seek(0)\n",
    "    img_data_2 = img_byte_2.read()\n",
    "\n",
    "    return (file_1, img_data_1), (file_2, img_data_2)"
   ]
  },
  {
   "attachments": {},
   "cell_type": "markdown",
   "metadata": {},
   "source": [
    "## Widgets (Start the App)"
   ]
  },
  {
   "cell_type": "code",
   "execution_count": null,
   "metadata": {},
   "outputs": [],
   "source": [
    "# Current Step\n",
    "n = 1\n",
    "\n",
    "# Initial Images\n",
    "(file_1, img_data_1), (file_2, img_data_2) = get_2_rand_images()\n",
    "img_widget_1 = widgets.Image(value=img_data_1, format='jpg', width=300, height=400)\n",
    "img_widget_2 = widgets.Image(value=img_data_2, format='jpg', width=300, height=400)\n",
    "\n",
    "# Title label\n",
    "lbl_title_value = f'Choose Image {n} of {n_steps} - Choose Best'\n",
    "lbl_title = widgets.HTML(value=f'<p style=\"font-size: 24px ; font-weight: bold ; color:rgb(75,75,75)\">{lbl_title_value}</p>')\n",
    "\n",
    "# Tagging User\n",
    "lbl_user = widgets.HTML(value=f'<p style=\"font-size: 16px ; font-weight: bold ; color:rgb(75,75,75)\">Tagging User</p>')\n",
    "txt_user = widgets.Text(value='', disabled=False)\n",
    "\n",
    "# Selection buttons\n",
    "btn_select_1 = widgets.Button(description = 'SELECT', icon='check', button_style = 'success')\n",
    "btn_select_1.style.button_color = 'rgb(30,144,255)'\n",
    "btn_select_2 = widgets.Button(description = 'SELECT', icon='check', button_style = 'success')\n",
    "btn_select_2.style.button_color = 'rgb(30,144,255)'\n",
    "\n",
    "# Skip button\n",
    "btn_skip = widgets.Button(description = 'SKIP')\n",
    "btn_skip.style.button_color = 'rgb(225,225,225)'\n",
    "\n",
    "# Layout\n",
    "box_layout = widgets.Layout(display='flex',\n",
    "                            flex_flow='row',\n",
    "                            justify_content = 'space-around',\n",
    "                            align_items='center',\n",
    "                            width='100%'\n",
    "                            )\n",
    "\n",
    "def show_widgets(lbl_title, lbl_user, txt_user, img_1, img_2, btn_select_1, btn_select_2, btn_skip, box_layout):\n",
    "    box_title = widgets.Box(children=[lbl_title], layout=widgets.Layout(display='flex', flex_flow='row', justify_content = 'flex-start', align_items='center', width='100%'))\n",
    "    box_user = widgets.Box(children=[lbl_user, txt_user], layout=widgets.Layout(display='flex', flex_flow='row', justify_content = 'flex-start', align_items='center', width='100%'))\n",
    "    box_images = widgets.Box(children=[img_1, img_2], layout=box_layout)\n",
    "    box_select = widgets.Box(children=[btn_select_1, btn_select_2], layout=box_layout)\n",
    "    box_skip = widgets.Box(children=[btn_skip], layout=box_layout)\n",
    "    display(box_title)\n",
    "    display(box_user)\n",
    "    display(box_images)\n",
    "    display(box_select)\n",
    "    display(box_skip)\n",
    "\n",
    "def skip_pressed(button):\n",
    "    # Increment step\n",
    "    global n\n",
    "    n += 1\n",
    "    clear_output()\n",
    "    # Update title label\n",
    "    lbl_title_value = f'Choose Image {n} of {n_steps} - Choose Best'\n",
    "    lbl_title = widgets.HTML(value=f'<p style=\"font-size: 24px ; font-weight: bold ; color:rgb(75,75,75)\">{lbl_title_value}</p>')\n",
    "    # Get new images\n",
    "    (file_1, img_data_1), (file_2, img_data_2) = get_2_rand_images()\n",
    "    img_widget_1 = widgets.Image(value=img_data_1, format='jpg', width=300, height=400)\n",
    "    img_widget_2 = widgets.Image(value=img_data_2, format='jpg', width=300, height=400)\n",
    "    show_widgets(lbl_title, lbl_user, txt_user, img_widget_1, img_widget_2, btn_select_1, btn_select_2, btn_skip, box_layout)\n",
    "\n",
    "def select_pressed(button):\n",
    "    # Increment step\n",
    "    global n\n",
    "    n += 1\n",
    "    clear_output()\n",
    "    # Get new images\n",
    "    (file_1, img_data_1), (file_2, img_data_2) = get_2_rand_images()\n",
    "    img_widget_1 = widgets.Image(value=img_data_1, format='jpg', width=300, height=400)\n",
    "    img_widget_2 = widgets.Image(value=img_data_2, format='jpg', width=300, height=400)\n",
    "    show_widgets(lbl_title, lbl_user, txt_user, img_widget_1, img_widget_2, btn_select_1, btn_select_2, btn_skip, box_layout)\n",
    "\n",
    "# binding to skip function callback\n",
    "btn_skip.on_click(skip_pressed)\n",
    "\n",
    "show_widgets(lbl_title, lbl_user, txt_user, img_widget_1, img_widget_2, btn_select_1, btn_select_2, btn_skip, box_layout)"
   ]
  }
 ],
 "metadata": {
  "kernelspec": {
   "display_name": "env",
   "language": "python",
   "name": "python3"
  },
  "language_info": {
   "codemirror_mode": {
    "name": "ipython",
    "version": 3
   },
   "file_extension": ".py",
   "mimetype": "text/x-python",
   "name": "python",
   "nbconvert_exporter": "python",
   "pygments_lexer": "ipython3",
   "version": "3.9.4"
  },
  "orig_nbformat": 4,
  "vscode": {
   "interpreter": {
    "hash": "c518711542db1b7752d0b1005bb6b1db13084b2ce60111ae8895922158ddc3d4"
   }
  }
 },
 "nbformat": 4,
 "nbformat_minor": 2
}
