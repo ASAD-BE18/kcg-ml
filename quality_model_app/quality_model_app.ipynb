{
 "cells": [
  {
   "attachments": {},
   "cell_type": "markdown",
   "metadata": {},
   "source": [
    "# Quality Model App"
   ]
  },
  {
   "attachments": {},
   "cell_type": "markdown",
   "metadata": {},
   "source": [
    "## Requirements"
   ]
  },
  {
   "cell_type": "code",
   "execution_count": null,
   "metadata": {},
   "outputs": [],
   "source": [
    "%pip install ipywidgets==7.7.3\n",
    "%pip install open-clip-torch"
   ]
  },
  {
   "attachments": {},
   "cell_type": "markdown",
   "metadata": {},
   "source": [
    "### App Modules"
   ]
  },
  {
   "cell_type": "code",
   "execution_count": null,
   "metadata": {},
   "outputs": [],
   "source": [
    "import os\n",
    "import random\n",
    "import hashlib\n",
    "import uuid\n",
    "import json\n",
    "import datetime\n",
    "from tqdm import tqdm\n",
    "from PIL import Image\n",
    "import ipywidgets as widgets\n",
    "from IPython.display import display, clear_output\n"
   ]
  },
  {
   "attachments": {},
   "cell_type": "markdown",
   "metadata": {},
   "source": [
    "## Preparing Data"
   ]
  },
  {
   "attachments": {},
   "cell_type": "markdown",
   "metadata": {},
   "source": [
    "### Specify the Data Location\n",
    "Specify the URL to fetch from Mega"
   ]
  },
  {
   "cell_type": "code",
   "execution_count": null,
   "metadata": {},
   "outputs": [],
   "source": [
    "# Data URL on Mega\n",
    "data_url = 'https://mega.nz/file/sBwG1DqZ#NcN7Q97CJPh5DB-tXGb3a4SV6Bubw9xPFRfqPQ4bmw8'\n",
    "# Destination path for data transfer\n",
    "transfer_to_path = ''"
   ]
  },
  {
   "attachments": {},
   "cell_type": "markdown",
   "metadata": {},
   "source": [
    "### Mega Installation"
   ]
  },
  {
   "cell_type": "code",
   "execution_count": null,
   "metadata": {},
   "outputs": [],
   "source": [
    "import urllib.request\n",
    "\n",
    "HOME = os.path.expanduser(\"~\")\n",
    "if not os.path.exists(f\"{HOME}/.ipython/ocr.py\"):\n",
    "    hCode = \"https://raw.githubusercontent.com/biplobsd/\" \\\n",
    "                \"OneClickRun/master/res/ocr.py\"\n",
    "    urllib.request.urlretrieve(hCode, f\"{HOME}/.ipython/ocr.py\")\n",
    "\n",
    "from ocr import (runSh, loadingAn)\n",
    "\n",
    "if not os.path.exists(\"/usr/bin/mega-cmd\"):\n",
    "    loadingAn()\n",
    "    print(\"Installing MEGA ...\")\n",
    "    runSh('sudo apt-get -y update')\n",
    "    runSh('sudo apt-get -y install libmms0 libc-ares2 libc6 libcrypto++6 libgcc1 libmediainfo0v5 libpcre3 libpcrecpp0v5 libssl1.1 libstdc++6 libzen0v5 zlib1g apt-transport-https')\n",
    "    runSh('sudo curl -sL -o /var/cache/apt/archives/MEGAcmd.deb https://mega.nz/linux/MEGAsync/Debian_9.0/amd64/megacmd-Debian_9.0_amd64.deb', output=True)\n",
    "    runSh('sudo dpkg -i /var/cache/apt/archives/MEGAcmd.deb', output=True)\n",
    "    print(\"MEGA is installed.\")\n",
    "    clear_output()"
   ]
  },
  {
   "attachments": {},
   "cell_type": "markdown",
   "metadata": {},
   "source": [
    "### Transfer Data from Mega to Session Storage"
   ]
  },
  {
   "cell_type": "code",
   "execution_count": null,
   "metadata": {},
   "outputs": [],
   "source": [
    "import os\n",
    "import subprocess\n",
    "import contextlib\n",
    "from functools import wraps\n",
    "import errno\n",
    "import signal\n",
    "import subprocess\n",
    "import glob\n",
    "\n",
    "# Unix, Windows and old Macintosh end-of-line\n",
    "newlines = ['\\n', '\\r\\n', '\\r']\n",
    "\n",
    "def latest_file(folder):\n",
    "  list_of_files = glob.glob(f'{folder}/*') # * means all \n",
    "  latest_file = max(list_of_files, key=os.path.getctime)\n",
    "  return latest_file\n",
    "\n",
    "def unbuffered(proc, stream='stdout'):\n",
    "    stream = getattr(proc, stream)\n",
    "    with contextlib.closing(stream):\n",
    "        while True:\n",
    "            out = []\n",
    "            last = stream.read(1)\n",
    "            # Don't loop forever\n",
    "            if last == '' and proc.poll() is not None:\n",
    "                break\n",
    "            while last not in newlines:\n",
    "                # Don't loop forever\n",
    "                if last == '' and proc.poll() is not None:\n",
    "                    break\n",
    "                out.append(last)\n",
    "                last = stream.read(1)\n",
    "            out = ''.join(out)\n",
    "            yield out\n",
    "\n",
    "\n",
    "def transfer(url):\n",
    "    cmd = [\"mega-get\", url, OUTPUT_PATH]\n",
    "    proc = subprocess.Popen(\n",
    "        cmd,\n",
    "        stdout=subprocess.PIPE,\n",
    "        stderr=subprocess.STDOUT,\n",
    "        # Make all end-of-lines '\\n'\n",
    "        universal_newlines=True,\n",
    "    )\n",
    "    for line in unbuffered(proc):\n",
    "        print(line)\n",
    "        \n",
    "if not transfer_to_path:\n",
    "  os.makedirs(\"downloads\", exist_ok=True)\n",
    "  OUTPUT_PATH = \"downloads\"\n",
    "\n",
    "\n",
    "class TimeoutError(Exception):\n",
    "    pass\n",
    "\n",
    "def timeout(seconds=10, error_message=os.strerror(errno.ETIME)):\n",
    "    def decorator(func):\n",
    "        def _handle_timeout(signum, frame):\n",
    "            raise TimeoutError(error_message)\n",
    "\n",
    "        def wrapper(*args, **kwargs):\n",
    "            signal.signal(signal.SIGALRM, _handle_timeout)\n",
    "            signal.alarm(seconds)\n",
    "            try:\n",
    "                result = func(*args, **kwargs)\n",
    "            finally:\n",
    "                signal.alarm(0)\n",
    "            return result\n",
    "\n",
    "        return wraps(func)(wrapper)\n",
    "\n",
    "    return decorator\n",
    "\n",
    "\n",
    "@timeout(10)\n",
    "def runShT(args):\n",
    "    return runSh(args, output=True)\n",
    "\n",
    "transfer(data_url)\n",
    "tagged_dataset_path = latest_file('./downloads')"
   ]
  },
  {
   "attachments": {},
   "cell_type": "markdown",
   "metadata": {},
   "source": [
    "### Unzip Downloaded Data (if it is a ZIP Archive)"
   ]
  },
  {
   "cell_type": "code",
   "execution_count": null,
   "metadata": {},
   "outputs": [],
   "source": [
    "from zipfile import ZipFile\n",
    "\n",
    "# Specify location of downloaded data (zip file)\n",
    "downloaded_data_zip = './downloads/Tile_Generator_Genetic_Algo_V1_16x16-2023-23-2--16-01-20.zip'\n",
    "# Location to extract the zip file to\n",
    "unzip_target_path = './dataset/'\n",
    "\n",
    "with ZipFile(downloaded_data_zip) as zip_object:\n",
    "    zip_object.extractall(unzip_target_path)"
   ]
  },
  {
   "attachments": {},
   "cell_type": "markdown",
   "metadata": {},
   "source": [
    "## Specify Data Source and Output File for Model App"
   ]
  },
  {
   "cell_type": "code",
   "execution_count": null,
   "metadata": {},
   "outputs": [],
   "source": [
    "# Specify the input data directory for quality model app (unzipped data)\n",
    "input_dir = './dataset/Tile_Generator_Genetic_Algo_V1_16x16-2023-23-2--16-01-20'\n",
    "# Specify path for the output JSON File\n",
    "output_path = 'output.json'"
   ]
  },
  {
   "attachments": {},
   "cell_type": "markdown",
   "metadata": {},
   "source": [
    "## Functions Definition"
   ]
  },
  {
   "attachments": {},
   "cell_type": "markdown",
   "metadata": {},
   "source": [
    "### Create Hash and CLIP Model Object"
   ]
  },
  {
   "cell_type": "code",
   "execution_count": null,
   "metadata": {},
   "outputs": [],
   "source": [
    "import hashlib\n",
    "import torch\n",
    "import open_clip\n",
    "\n",
    "# Hash generator\n",
    "def create_hasher():\n",
    "    return hashlib.sha256()\n",
    "\n",
    "# CLIP model\n",
    "def get_clip(clip_model_type = 'ViT-B-32' , pretrained = 'openai'):\n",
    "    # Get CLIP model\n",
    "    clip_model, _, preprocess = open_clip.create_model_and_transforms(clip_model_type,pretrained=pretrained)\n",
    "    device = \"cuda\" if torch.cuda.is_available() else \"cpu\"\n",
    "    return clip_model , preprocess , device"
   ]
  },
  {
   "attachments": {},
   "cell_type": "markdown",
   "metadata": {},
   "source": [
    "### Compute Hash Function"
   ]
  },
  {
   "cell_type": "code",
   "execution_count": null,
   "metadata": {},
   "outputs": [],
   "source": [
    "def compute_hash(hasher, file_path):\n",
    "    # Compute hash\n",
    "    with open(file_path, 'rb') as img_file:\n",
    "        img_bytes = img_file.read()\n",
    "    hasher.update(img_bytes)\n",
    "    hash_id = hasher.hexdigest()\n",
    "    return hash_id"
   ]
  },
  {
   "attachments": {},
   "cell_type": "markdown",
   "metadata": {},
   "source": [
    "### Compute CLIP Vector Function"
   ]
  },
  {
   "cell_type": "code",
   "execution_count": null,
   "metadata": {},
   "outputs": [],
   "source": [
    "def compute_clip(img, clip_model, preprocess, device):\n",
    "    # Compute the CLIP vector\n",
    "    img = preprocess(img).unsqueeze(0).to(device)\n",
    "    return clip_model.encode_image(img).detach().numpy()"
   ]
  },
  {
   "attachments": {},
   "cell_type": "markdown",
   "metadata": {},
   "source": [
    "## Run on Data Source"
   ]
  },
  {
   "attachments": {},
   "cell_type": "markdown",
   "metadata": {},
   "source": [
    "### Creating Dictionary from Input Data "
   ]
  },
  {
   "cell_type": "code",
   "execution_count": null,
   "metadata": {},
   "outputs": [],
   "source": [
    "def create_input_data_dict(input_dir,\n",
    "                           hasher, \n",
    "                           clip_model={'model':None, 'preprocess':None, 'device':None},\n",
    "                           include_clip:bool = False):\n",
    "\n",
    "    # Placeholder for dict to contain result from running on data source.\n",
    "    data_dict = {}\n",
    "\n",
    "    print ('[INFO] Running on Data Source...')\n",
    "\n",
    "    # Walking thru files\n",
    "    for root, _, files in os.walk(input_dir):\n",
    "        for file in tqdm(files):\n",
    "            # Get file path\n",
    "            file_path = f'{root}/{file}'\n",
    "            # Check if file is png or jpg\n",
    "            if os.path.splitext(file_path)[-1] == '.png' or os.path.splitext(file_path)[-1] == '.jpg':\n",
    "                \n",
    "                try:\n",
    "                    # Compute hash\n",
    "                    hash_id = compute_hash(hasher, file_path)\n",
    "                    # Compute CLIP vector ONLY if get_clip == True\n",
    "                    if include_clip:\n",
    "                        img = Image.open(file_path)\n",
    "                        clip_vector = compute_clip(img, clip_model['model'], clip_model['preprocess'], clip_model['device'])\n",
    "                    else:\n",
    "                        clip_vector = []\n",
    "                    \n",
    "                    data_dict[hash_id]={'file_path':file_path, 'file_name':file, 'clip_vector':clip_vector}\n",
    "\n",
    "                except Exception as e:\n",
    "                    print [f'[WARNING] Error when processing file: {e}']\n",
    "            \n",
    "    # Number of images\n",
    "    n_images = len(data_dict)\n",
    "    print (f'[INFO] Completed. Number of images: {n_images}')\n",
    "\n",
    "    return data_dict\n",
    "\n",
    "# Hasher\n",
    "hasher = create_hasher()\n",
    "\n",
    "# Specify whether CLIP to be computed and included to the dictionary\n",
    "include_clip = False\n",
    "\n",
    "# Create clip_model (if compute_clip==True)\n",
    "if include_clip:\n",
    "    model, preprocess, device = get_clip()\n",
    "    clip_model = {'model':model, 'preprocess':preprocess, 'device':device}\n",
    "else:\n",
    "    clip_model = {'model':None, 'preprocess':None, 'device':None}\n",
    "\n",
    "data_dict = create_input_data_dict(input_dir, hasher, clip_model, include_clip=include_clip)"
   ]
  },
  {
   "attachments": {},
   "cell_type": "markdown",
   "metadata": {},
   "source": [
    "## Widgets Definition"
   ]
  },
  {
   "cell_type": "code",
   "execution_count": null,
   "metadata": {},
   "outputs": [],
   "source": [
    "class QualityModelWidgets(object):\n",
    "\n",
    "    # Current Step\n",
    "    n = 1\n",
    "    # Placeholder for currently displayed images\n",
    "    file_dict_1 = {}\n",
    "    file_dict_2 = {}\n",
    "\n",
    "    def __init__(self, data_dict, output_path = 'output.json') -> None:\n",
    "        self.data_dict = data_dict\n",
    "        self.output_path = output_path\n",
    "\n",
    "    def start(self):\n",
    "\n",
    "        # Initial Images\n",
    "        self.file_dict_1, self.file_dict_2 = self.get_2_rand_images(self.data_dict)\n",
    "        self.img_widget_1 = widgets.Image(value=self.file_dict_1['img_bytes'], format='jpg', width=300, height=400)\n",
    "        self.img_widget_2 = widgets.Image(value=self.file_dict_2['img_bytes'], format='jpg', width=300, height=400)\n",
    "        # Title label\n",
    "        self.lbl_title_value = f'Quality Model App'\n",
    "        self.lbl_title = widgets.HTML(value=f'<p style=\"font-size: 24px ; font-weight: bold ; color:rgb(75,75,75)\">{self.lbl_title_value}</p>')\n",
    "        # Tagging User\n",
    "        self.lbl_user = widgets.HTML(value=f'<p style=\"font-size: 16px ; font-weight: bold ; color:rgb(75,75,75) ; height: 20px\">Tagging User: </p>')\n",
    "        self.txt_user = widgets.Text(value='', disabled=False)\n",
    "        self.txt_user.layout.width = '250px'\n",
    "        # Status label\n",
    "        lbl_status_value = f'Choose Best Image - {self.n}'\n",
    "        self.lbl_status = widgets.HTML(value=f'<p style=\"font-size: 20px ; font-weight: bold ; color:rgb(75,75,75)\">{lbl_status_value}</p>')\n",
    "        # Selection buttons\n",
    "        self.btn_select_1 = widgets.Button(description = 'SELECT', icon='check', button_style = 'success')\n",
    "        self.btn_select_1.style.button_color = 'rgb(30,144,255)'\n",
    "        self.btn_select_2 = widgets.Button(description = 'SELECT', icon='check', button_style = 'success')\n",
    "        self.btn_select_2.style.button_color = 'rgb(30,144,255)'\n",
    "        # Skip button\n",
    "        self.btn_skip = widgets.Button(description = 'SKIP')\n",
    "        self.btn_skip.style.button_color = 'rgb(225,225,225)'\n",
    "        # Layout\n",
    "        self.box_layout = widgets.Layout(display='flex',\n",
    "                                    flex_flow='row',\n",
    "                                    justify_content = 'space-around',\n",
    "                                    align_items='center',\n",
    "                                    width='100%'\n",
    "                                    )\n",
    "        \n",
    "        # binding skip button to skip function callback\n",
    "        self.btn_skip.on_click(self.skip_pressed)\n",
    "        # binding select button 1 and 2 to select function callback\n",
    "        self.btn_select_1.on_click(self.select_pressed)\n",
    "        self.btn_select_2.on_click(self.select_pressed)\n",
    "\n",
    "        # Show widgets\n",
    "        self.show_widgets(\n",
    "                    self.lbl_title,\n",
    "                    self.lbl_status,\n",
    "                    self.lbl_user, \n",
    "                    self.txt_user, \n",
    "                    self.img_widget_1, \n",
    "                    self.img_widget_2, \n",
    "                    self.btn_select_1, \n",
    "                    self.btn_select_2, \n",
    "                    self.btn_skip, \n",
    "                    self.box_layout\n",
    "                    )\n",
    "\n",
    "\n",
    "    def get_2_rand_images (self, data_dict):\n",
    "        \n",
    "        # List of hashes (keys in data_dict)\n",
    "        hash_list = list(data_dict.keys())\n",
    "        # File 1\n",
    "        hash_1 = random.choice(hash_list)\n",
    "        file_path_1 = data_dict[hash_1]['file_path']\n",
    "        file_name_1 = data_dict[hash_1]['file_name']\n",
    "        with open(file_path_1, 'rb') as img_file_1:\n",
    "            img_bytes_1 = img_file_1.read()\n",
    "        # File 2\n",
    "        hash_2 = random.choice(hash_list)\n",
    "        file_path_2 = data_dict[hash_2]['file_path']\n",
    "        file_name_2 = data_dict[hash_2]['file_name']\n",
    "        with open(file_path_2, 'rb') as img_file_2:\n",
    "            img_bytes_2 = img_file_2.read()\n",
    "\n",
    "        file_dict_1 = {'hash': hash_1, 'file_path': file_path_1, 'file_name': file_name_1, 'img_bytes': img_bytes_1}\n",
    "        file_dict_2 = {'hash': hash_2, 'file_path': file_path_2, 'file_name': file_name_2, 'img_bytes': img_bytes_2}\n",
    "\n",
    "        return file_dict_1, file_dict_2\n",
    "\n",
    "\n",
    "    def show_widgets(self, lbl_title, lbl_status, lbl_user, txt_user, img_1, img_2, btn_select_1, btn_select_2, btn_skip, box_layout):\n",
    "        self.box_title = widgets.Box(children=[lbl_title], layout=widgets.Layout(display='flex', flex_flow='row', justify_content = 'flex-start', align_items='center', width='100%'))\n",
    "        self.box_user = widgets.Box(children=[lbl_user, txt_user], layout=widgets.Layout(display='flex', flex_flow='row', justify_content = 'flex-start', align_items='center', width='100%'))\n",
    "        self.box_status = widgets.Box(children=[lbl_status], layout=widgets.Layout(display='flex', flex_flow='row', justify_content = 'flex-start', align_items='center', width='100%'))\n",
    "        self.box_images = widgets.Box(children=[img_1, img_2], layout=box_layout)\n",
    "        self.box_select = widgets.Box(children=[btn_select_1, btn_select_2], layout=box_layout)\n",
    "        self.box_skip = widgets.Box(children=[btn_skip], layout=box_layout)\n",
    "        display(self.box_title)\n",
    "        display(self.box_user)\n",
    "        display(self.box_status)\n",
    "        display(self.box_images)\n",
    "        display(self.box_select)\n",
    "        display(self.box_skip)\n",
    "\n",
    "\n",
    "    def skip_pressed(self, button):\n",
    "        # Currently displayed images\n",
    "        self.file_dict_1\n",
    "        self.file_dict_2\n",
    "        # Increment step\n",
    "        self.n += 1\n",
    "        clear_output()\n",
    "        # Update status label\n",
    "        lbl_status_value = f'Choose Best Image - {self.n}'\n",
    "        self.lbl_status = widgets.HTML(value=f'<p style=\"font-size: 20px ; font-weight: bold ; color:rgb(75,75,75)\">{lbl_status_value}</p>')\n",
    "        # Get new images\n",
    "        self.file_dict_1, self.file_dict_2 = self.get_2_rand_images(self.data_dict)\n",
    "        self.img_widget_1 = widgets.Image(value=self.file_dict_1['img_bytes'], format='jpg', width=300, height=400)\n",
    "        self.img_widget_2 = widgets.Image(value=self.file_dict_2['img_bytes'], format='jpg', width=300, height=400)\n",
    "\n",
    "        self.show_widgets(\n",
    "                    self.lbl_title,\n",
    "                    self.lbl_status,\n",
    "                    self.lbl_user, \n",
    "                    self.txt_user, \n",
    "                    self.img_widget_1, \n",
    "                    self.img_widget_2, \n",
    "                    self.btn_select_1, \n",
    "                    self.btn_select_2, \n",
    "                    self.btn_skip, \n",
    "                    self.box_layout\n",
    "                    )\n",
    "        \n",
    "\n",
    "    def select_pressed(self, button):\n",
    "\n",
    "        # Increment step\n",
    "        self.n += 1\n",
    "\n",
    "        # Time Stamp\n",
    "        timestamp_str = str(datetime.datetime.now())\n",
    "        \n",
    "        '''Which image is selected'''\n",
    "        if button == self.btn_select_1:\n",
    "            # Image 1 is selected\n",
    "            self.save_to_json_file(selected = self.file_dict_1, options = [self.file_dict_1, self.file_dict_2], time_stamp = timestamp_str, output_path = self.output_path)\n",
    "        elif button == self.btn_select_2:\n",
    "            # Image 2 is selected\n",
    "            self.save_to_json_file(selected = self.file_dict_2, options = [self.file_dict_1, self.file_dict_2], time_stamp = timestamp_str, output_path = self.output_path)\n",
    "\n",
    "        # Clearing widgets\n",
    "        clear_output()\n",
    "        # Update status label\n",
    "        lbl_status_value = f'Choose Best Image - {self.n}'\n",
    "        self.lbl_status = widgets.HTML(value=f'<p style=\"font-size: 20px ; font-weight: bold ; color:rgb(75,75,75)\">{lbl_status_value}</p>')\n",
    "        # Get new images\n",
    "        self.file_dict_1, self.file_dict_2 = self.get_2_rand_images(self.data_dict)\n",
    "        self.img_widget_1 = widgets.Image(value=self.file_dict_1['img_bytes'], format='jpg', width=300, height=400)\n",
    "        self.img_widget_2 = widgets.Image(value=self.file_dict_2['img_bytes'], format='jpg', width=300, height=400)\n",
    "        \n",
    "        self.show_widgets(\n",
    "                    self.lbl_title,\n",
    "                    self.lbl_status,\n",
    "                    self.lbl_user, \n",
    "                    self.txt_user, \n",
    "                    self.img_widget_1, \n",
    "                    self.img_widget_2, \n",
    "                    self.btn_select_1, \n",
    "                    self.btn_select_2, \n",
    "                    self.btn_skip, \n",
    "                    self.box_layout\n",
    "                    )\n",
    "\n",
    "\n",
    "    def save_to_json_file(self, selected, options, time_stamp, output_path): \n",
    "        # Task String\n",
    "        TASK_NAME = 'ChooseImage-1of2-ChooseBest'\n",
    "        # JSON\n",
    "        # Unique ID\n",
    "        # uid = str(uuid.uuid4())\n",
    "        # clip_vector = data_dict[selected['hash']]['clip_vector']\n",
    "        # if clip_vector==[]:\n",
    "        #     out_json = {'taskname': self.txt_task.value, 'input_image1': options[0]['hash'], 'input_image2': options[1]['hash'], 'chosen_image':selected['hash'], 'chosen_image_clip_vector':data_dict[selected['hash']]['clip_vector'], 'user':self.txt_user.value, 'timestamp':time_stamp}\n",
    "        # else:\n",
    "        #     out_json = {'taskname': self.txt_task.value, 'input_image1': options[0]['hash'], 'input_image2': options[1]['hash'], 'chosen_image':selected['hash'], 'chosen_image_clip_vector':data_dict[selected['hash']]['clip_vector'].tolist(), 'user':self.txt_user.value, 'timestamp':time_stamp}\n",
    "        out_json = {'taskname': TASK_NAME, 'input_image1': options[0]['hash'], 'input_image2': options[1]['hash'], 'chosen_image':selected['hash'], 'user':self.txt_user.value, 'timestamp':time_stamp}\n",
    "        # Serializing json\n",
    "        json_object = json.dumps(out_json, indent=4)    \n",
    "        # Writing to output folder\n",
    "        with open(output_path, \"a\") as outfile:\n",
    "            outfile.write(json_object)\n",
    "            outfile.write('\\n')"
   ]
  },
  {
   "attachments": {},
   "cell_type": "markdown",
   "metadata": {},
   "source": [
    "## Widgets (Start the App)"
   ]
  },
  {
   "cell_type": "code",
   "execution_count": null,
   "metadata": {},
   "outputs": [],
   "source": [
    "qualityModelWidgets = QualityModelWidgets(data_dict, output_path)\n",
    "qualityModelWidgets.start()"
   ]
  }
 ],
 "metadata": {
  "kernelspec": {
   "display_name": "env",
   "language": "python",
   "name": "python3"
  },
  "language_info": {
   "codemirror_mode": {
    "name": "ipython",
    "version": 3
   },
   "file_extension": ".py",
   "mimetype": "text/x-python",
   "name": "python",
   "nbconvert_exporter": "python",
   "pygments_lexer": "ipython3",
   "version": "3.9.4"
  },
  "orig_nbformat": 4,
  "vscode": {
   "interpreter": {
    "hash": "c518711542db1b7752d0b1005bb6b1db13084b2ce60111ae8895922158ddc3d4"
   }
  }
 },
 "nbformat": 4,
 "nbformat_minor": 2
}
