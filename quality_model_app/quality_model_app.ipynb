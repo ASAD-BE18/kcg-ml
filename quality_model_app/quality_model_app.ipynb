{
 "cells": [
  {
   "attachments": {},
   "cell_type": "markdown",
   "metadata": {},
   "source": [
    "# Quality Model App"
   ]
  },
  {
   "attachments": {},
   "cell_type": "markdown",
   "metadata": {},
   "source": [
    "## Import Requirements"
   ]
  },
  {
   "cell_type": "code",
   "execution_count": null,
   "metadata": {},
   "outputs": [],
   "source": [
    "!pip install ipywidgets=7.7.3"
   ]
  },
  {
   "cell_type": "code",
   "execution_count": 1,
   "metadata": {},
   "outputs": [],
   "source": [
    "import os\n",
    "import io\n",
    "import random\n",
    "import hashlib\n",
    "import time\n",
    "import ipywidgets as widgets\n",
    "from IPython.display import display, clear_output\n",
    "from PIL import Image"
   ]
  },
  {
   "attachments": {},
   "cell_type": "markdown",
   "metadata": {},
   "source": [
    "## Specify Data Source"
   ]
  },
  {
   "cell_type": "code",
   "execution_count": 2,
   "metadata": {},
   "outputs": [],
   "source": [
    "# Specify input directory as data source\n",
    "# input_dir = '../dataset/subset2'\n",
    "input_dir = '../dataset/Tile_Generator_Genetic_Algo_V1_16x16-2023-23-2--16-01-20'"
   ]
  },
  {
   "attachments": {},
   "cell_type": "markdown",
   "metadata": {},
   "source": [
    "## Run on Data Source"
   ]
  },
  {
   "cell_type": "code",
   "execution_count": 3,
   "metadata": {},
   "outputs": [
    {
     "name": "stdout",
     "output_type": "stream",
     "text": [
      "[INFO] Running on Data Source...\n",
      "[INFO] Completed. Number of images: 2172\n"
     ]
    }
   ],
   "source": [
    "def create_input_data_dict(input_dir):\n",
    "\n",
    "    # Placeholder for dict to contain result from running on data source.\n",
    "    data_dict = {}\n",
    "\n",
    "    print ('[INFO] Running on Data Source...')\n",
    "\n",
    "    # Walking thru files\n",
    "    for root, _, files in os.walk(input_dir):\n",
    "        for file in files:\n",
    "            # Get file path\n",
    "            file_path = f'{root}/{file}'\n",
    "            # Check if file is png or jpg\n",
    "            if os.path.splitext(file_path)[-1] == '.png' or os.path.splitext(file_path)[-1] == '.jpg':\n",
    "                try:\n",
    "                    # Get image bytes\n",
    "                    with open(file_path, 'rb') as img_file:\n",
    "                        img_bytes = img_file.read()\n",
    "                    # Compute hash\n",
    "                    hasher = hashlib.sha256()\n",
    "                    hasher.update(img_bytes)\n",
    "                    hash_id = hasher.hexdigest()\n",
    "                    data_dict[hash_id]={'file_path':file_path, 'file_name':file, 'img_bytes':img_bytes}\n",
    "                except Exception as e:\n",
    "                    print [f'[WARNING] Error when processing file: {e}']\n",
    "            \n",
    "    # Number of images\n",
    "    n_images = len(data_dict)\n",
    "    print (f'[INFO] Completed. Number of images: {n_images}')\n",
    "\n",
    "    return data_dict\n",
    "\n",
    "\n",
    "data_dict = create_input_data_dict(input_dir)"
   ]
  },
  {
   "attachments": {},
   "cell_type": "markdown",
   "metadata": {},
   "source": [
    "## Select and Open 2 Random Images"
   ]
  },
  {
   "cell_type": "code",
   "execution_count": 4,
   "metadata": {},
   "outputs": [],
   "source": [
    "def get_2_rand_images (data_dict):\n",
    "    \n",
    "    # List of hashes (keys in data_dict)\n",
    "    hash_list = list(data_dict.keys())\n",
    "    # File 1\n",
    "    hash_1 = random.choice(hash_list)\n",
    "    file_path_1 = data_dict[hash_1]['file_path']\n",
    "    file_name_1 = data_dict[hash_1]['file_name']\n",
    "    img_bytes_1 = data_dict[hash_1]['img_bytes']\n",
    "    # File 2\n",
    "    hash_2 = random.choice(hash_list)\n",
    "    file_path_2 = data_dict[hash_2]['file_path']\n",
    "    file_name_2 = data_dict[hash_2]['file_name']\n",
    "    img_bytes_2 = data_dict[hash_2]['img_bytes']\n",
    "\n",
    "    # # Image 1 bytes serialization\n",
    "    # img_byte_1 = io.BytesIO()\n",
    "    # img_1.save(img_byte_1, format = img_1.format)\n",
    "    # img_byte_1.seek(0)\n",
    "    # img_data_1 = img_byte_1.read()\n",
    "\n",
    "    # # Image 1 bytes serialization\n",
    "    # img_byte_2 = io.BytesIO()\n",
    "    # img_2.save(img_byte_2, format = img_2.format)\n",
    "    # img_byte_2.seek(0)\n",
    "    # img_data_2 = img_byte_2.read()\n",
    "\n",
    "    return (file_path_1, file_name_1, img_bytes_1), (file_path_2, file_name_2, img_bytes_2)"
   ]
  },
  {
   "attachments": {},
   "cell_type": "markdown",
   "metadata": {},
   "source": [
    "## Widgets (Start the App)"
   ]
  },
  {
   "cell_type": "code",
   "execution_count": null,
   "metadata": {},
   "outputs": [
    {
     "data": {
      "application/vnd.jupyter.widget-view+json": {
       "model_id": "ae95cd436a624ca98d0f90bd0a8da8b6",
       "version_major": 2,
       "version_minor": 0
      },
      "text/plain": [
       "Box(children=(HTML(value='<p style=\"font-size: 24px ; font-weight: bold ; color:rgb(75,75,75)\">Quality Model A…"
      ]
     },
     "metadata": {},
     "output_type": "display_data"
    },
    {
     "data": {
      "application/vnd.jupyter.widget-view+json": {
       "model_id": "34bba34259f549d489d253bc2b64db38",
       "version_major": 2,
       "version_minor": 0
      },
      "text/plain": [
       "Box(children=(Box(children=(HTML(value='<p style=\"font-size: 16px ; font-weight: bold ; color:rgb(75,75,75) ; …"
      ]
     },
     "metadata": {},
     "output_type": "display_data"
    },
    {
     "data": {
      "application/vnd.jupyter.widget-view+json": {
       "model_id": "474d456717504a5a83a2a532dba489cb",
       "version_major": 2,
       "version_minor": 0
      },
      "text/plain": [
       "Box(children=(HTML(value='<p style=\"font-size: 20px ; font-weight: bold ; color:rgb(75,75,75)\">Choose Best Ima…"
      ]
     },
     "metadata": {},
     "output_type": "display_data"
    },
    {
     "data": {
      "application/vnd.jupyter.widget-view+json": {
       "model_id": "d5f28941022d480db62e85605ff6c801",
       "version_major": 2,
       "version_minor": 0
      },
      "text/plain": [
       "Box(children=(Image(value=b'\\x89PNG\\r\\n\\x1a\\n\\x00\\x00\\x00\\rIHDR\\x00\\x00 \\x00\\x00\\x00 \\x00\\x08\\x06\\x00\\x00\\x00r…"
      ]
     },
     "metadata": {},
     "output_type": "display_data"
    },
    {
     "data": {
      "application/vnd.jupyter.widget-view+json": {
       "model_id": "b7ddd88a50734791af76d98bd7cdaae0",
       "version_major": 2,
       "version_minor": 0
      },
      "text/plain": [
       "Box(children=(Button(button_style='success', description='SELECT', icon='check', style=ButtonStyle(button_colo…"
      ]
     },
     "metadata": {},
     "output_type": "display_data"
    },
    {
     "data": {
      "application/vnd.jupyter.widget-view+json": {
       "model_id": "72b6145a4486442d9f25535d03d4b7fc",
       "version_major": 2,
       "version_minor": 0
      },
      "text/plain": [
       "Box(children=(Button(description='SKIP', style=ButtonStyle(button_color='rgb(225,225,225)')),), layout=Layout(…"
      ]
     },
     "metadata": {},
     "output_type": "display_data"
    }
   ],
   "source": [
    "# Current Step\n",
    "n = 1\n",
    "\n",
    "# Initial Images\n",
    "(file_path_1, file_name_1, img_bytes_1), (file_path_2, file_name_2, img_bytes_2) = get_2_rand_images(data_dict)\n",
    "img_widget_1 = widgets.Image(value=img_bytes_1, format='jpg', width=300, height=400)\n",
    "img_widget_2 = widgets.Image(value=img_bytes_2, format='jpg', width=300, height=400)\n",
    "\n",
    "# Title label\n",
    "lbl_title_value = f'Quality Model App'\n",
    "lbl_title = widgets.HTML(value=f'<p style=\"font-size: 24px ; font-weight: bold ; color:rgb(75,75,75)\">{lbl_title_value}</p>')\n",
    "\n",
    "# Tagging User\n",
    "lbl_user = widgets.HTML(value=f'<p style=\"font-size: 16px ; font-weight: bold ; color:rgb(75,75,75) ; width: 120px ; height: 20px\">Tagging User</p>')\n",
    "txt_user = widgets.Text(value='', disabled=False)\n",
    "\n",
    "# Task String User\n",
    "lbl_task = widgets.HTML(value=f'<p style=\"font-size: 16px ; font-weight: bold ; color:rgb(75,75,75) ; width: 120px ; height: 20px\">Task String</p>')\n",
    "txt_task = widgets.Text(value='', disabled=False)\n",
    "\n",
    "# Status label\n",
    "lbl_status_value = f'Choose Best Image - {n}'\n",
    "lbl_status = widgets.HTML(value=f'<p style=\"font-size: 20px ; font-weight: bold ; color:rgb(75,75,75)\">{lbl_status_value}</p>')\n",
    "\n",
    "# Selection buttons\n",
    "btn_select_1 = widgets.Button(description = 'SELECT', icon='check', button_style = 'success')\n",
    "btn_select_1.style.button_color = 'rgb(30,144,255)'\n",
    "btn_select_2 = widgets.Button(description = 'SELECT', icon='check', button_style = 'success')\n",
    "btn_select_2.style.button_color = 'rgb(30,144,255)'\n",
    "\n",
    "# Skip button\n",
    "btn_skip = widgets.Button(description = 'SKIP')\n",
    "btn_skip.style.button_color = 'rgb(225,225,225)'\n",
    "\n",
    "# Layout\n",
    "box_layout = widgets.Layout(display='flex',\n",
    "                            flex_flow='row',\n",
    "                            justify_content = 'space-around',\n",
    "                            align_items='center',\n",
    "                            width='100%'\n",
    "                            )\n",
    "\n",
    "def show_widgets(lbl_title, lbl_status, lbl_user, txt_user, lbl_task, txt_task, img_1, img_2, btn_select_1, btn_select_2, btn_skip, box_layout):\n",
    "    box_title = widgets.Box(children=[lbl_title], layout=widgets.Layout(display='flex', flex_flow='row', justify_content = 'flex-start', align_items='center', width='100%'))\n",
    "    box_user = widgets.Box(children=[lbl_user, txt_user], layout=widgets.Layout(display='flex', flex_flow='row', justify_content = 'flex-start', align_items='center', width='100%'))\n",
    "    box_task = widgets.Box(children=[lbl_task, txt_task], layout=widgets.Layout(display='flex', flex_flow='row', justify_content = 'flex-start', align_items='center', width='100%'))\n",
    "    box_user_tax = widgets.Box(children=[box_user, box_task], layout=widgets.Layout(display='flex', flex_flow='row', justify_content = 'flex-start', align_items='center', width='100%'))\n",
    "    box_status = widgets.Box(children=[lbl_status], layout=widgets.Layout(display='flex', flex_flow='row', justify_content = 'flex-start', align_items='center', width='100%'))\n",
    "    box_images = widgets.Box(children=[img_1, img_2], layout=box_layout)\n",
    "    box_select = widgets.Box(children=[btn_select_1, btn_select_2], layout=box_layout)\n",
    "    box_skip = widgets.Box(children=[btn_skip], layout=box_layout)\n",
    "    display(box_title)\n",
    "    display(box_user_tax)\n",
    "    #display(box_task)\n",
    "    display(box_status)\n",
    "    display(box_images)\n",
    "    display(box_select)\n",
    "    display(box_skip)\n",
    "\n",
    "def skip_pressed(button):\n",
    "    # Increment step\n",
    "    global n\n",
    "    n += 1\n",
    "    clear_output()\n",
    "    # Update status label\n",
    "    lbl_status_value = f'Choose Best Image - {n}'\n",
    "    lbl_status = widgets.HTML(value=f'<p style=\"font-size: 20px ; font-weight: bold ; color:rgb(75,75,75)\">{lbl_status_value}</p>')\n",
    "    # Get new images\n",
    "    (file_path_1, file_name_1, img_bytes_1), (file_path_2, file_name_2, img_bytes_2) = get_2_rand_images(data_dict)\n",
    "    img_widget_1 = widgets.Image(value=img_bytes_1, format='jpg', width=300, height=400)\n",
    "    img_widget_2 = widgets.Image(value=img_bytes_2, format='jpg', width=300, height=400)\n",
    "    show_widgets(lbl_title, lbl_status, lbl_user, txt_user, lbl_task, txt_task, img_widget_1, img_widget_2, btn_select_1, btn_select_2, btn_skip, box_layout)\n",
    "\n",
    "def select_pressed(button):\n",
    "    # Increment step\n",
    "    global n\n",
    "    n += 1\n",
    "    clear_output()\n",
    "    # Update title label\n",
    "    lbl_status_value = f'Choose Best Image - {n}'\n",
    "    lbl_status = widgets.HTML(value=f'<p style=\"font-size: 20px ; font-weight: bold ; color:rgb(75,75,75)\">{lbl_status_value}</p>')\n",
    "    # Get new images\n",
    "    (file_path_1, file_name_1, img_bytes_1), (file_path_2, file_name_2, img_bytes_2) = get_2_rand_images(data_dict)\n",
    "    img_widget_1 = widgets.Image(value=img_bytes_1, format='jpg', width=300, height=400)\n",
    "    img_widget_2 = widgets.Image(value=img_bytes_2, format='jpg', width=300, height=400)\n",
    "    show_widgets(lbl_title, lbl_status, lbl_user, txt_user, lbl_task, txt_task, img_widget_1, img_widget_2, btn_select_1, btn_select_2, btn_skip, box_layout)\n",
    "\n",
    "# binding skip button to skip function callback\n",
    "btn_skip.on_click(skip_pressed)\n",
    "\n",
    "# binding select button 1 and 2 to select function callback\n",
    "btn_select_1.on_click(select_pressed)\n",
    "btn_select_2.on_click(select_pressed)\n",
    "\n",
    "show_widgets(lbl_title, lbl_status, lbl_user, txt_user, lbl_task, txt_task, img_widget_1, img_widget_2, btn_select_1, btn_select_2, btn_skip, box_layout)"
   ]
  }
 ],
 "metadata": {
  "kernelspec": {
   "display_name": "env",
   "language": "python",
   "name": "python3"
  },
  "language_info": {
   "codemirror_mode": {
    "name": "ipython",
    "version": 3
   },
   "file_extension": ".py",
   "mimetype": "text/x-python",
   "name": "python",
   "nbconvert_exporter": "python",
   "pygments_lexer": "ipython3",
   "version": "3.9.4"
  },
  "orig_nbformat": 4,
  "vscode": {
   "interpreter": {
    "hash": "c518711542db1b7752d0b1005bb6b1db13084b2ce60111ae8895922158ddc3d4"
   }
  }
 },
 "nbformat": 4,
 "nbformat_minor": 2
}
