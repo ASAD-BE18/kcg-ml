{
 "cells": [
  {
   "attachments": {},
   "cell_type": "markdown",
   "metadata": {},
   "source": [
    "# Quality Model App"
   ]
  },
  {
   "attachments": {},
   "cell_type": "markdown",
   "metadata": {},
   "source": [
    "## Requirements"
   ]
  },
  {
   "cell_type": "code",
   "execution_count": null,
   "metadata": {},
   "outputs": [],
   "source": [
    "%pip install ipywidgets==7.7.3"
   ]
  },
  {
   "attachments": {},
   "cell_type": "markdown",
   "metadata": {},
   "source": [
    "## App module and function"
   ]
  },
  {
   "cell_type": "code",
   "execution_count": null,
   "metadata": {},
   "outputs": [],
   "source": [
    "from quality_model_widgets import QualityModelWidgets, create_input_data_dict"
   ]
  },
  {
   "attachments": {},
   "cell_type": "markdown",
   "metadata": {},
   "source": [
    "## Preparing Data"
   ]
  },
  {
   "attachments": {},
   "cell_type": "markdown",
   "metadata": {},
   "source": [
    "### Google Drive Mounting\n",
    "Mount google drive to be used for storing the data."
   ]
  },
  {
   "cell_type": "code",
   "execution_count": null,
   "metadata": {},
   "outputs": [],
   "source": [
    "from google.colab import drive\n",
    "drive.mount._DEBUG = False\n",
    "drive.mount('/content/drive', force_remount=True)"
   ]
  },
  {
   "attachments": {},
   "cell_type": "markdown",
   "metadata": {},
   "source": [
    "### Specify the Data Location\n",
    "Specify the URL to fetch from Mega"
   ]
  },
  {
   "cell_type": "code",
   "execution_count": null,
   "metadata": {},
   "outputs": [],
   "source": [
    "data_url = https://mega.nz/file/sBwG1DqZ#NcN7Q97CJPh5DB-tXGb3a4SV6Bubw9xPFRfqPQ4bmw8\n",
    "transfer_to_path = ''"
   ]
  },
  {
   "attachments": {},
   "cell_type": "markdown",
   "metadata": {},
   "source": [
    "### Transfer Data from Mega to Google Drive"
   ]
  },
  {
   "cell_type": "code",
   "execution_count": null,
   "metadata": {},
   "outputs": [],
   "source": [
    "import os\n",
    "import subprocess\n",
    "import contextlib\n",
    "from functools import wraps\n",
    "import errno\n",
    "import signal\n",
    "import subprocess\n",
    "import glob\n",
    "\n",
    "# Unix, Windows and old Macintosh end-of-line\n",
    "newlines = ['\\n', '\\r\\n', '\\r']\n",
    "\n",
    "def latest_file(folder):\n",
    "  list_of_files = glob.glob(f'{folder}/*') # * means all \n",
    "  latest_file = max(list_of_files, key=os.path.getctime)\n",
    "  return latest_file\n",
    "\n",
    "def unbuffered(proc, stream='stdout'):\n",
    "    stream = getattr(proc, stream)\n",
    "    with contextlib.closing(stream):\n",
    "        while True:\n",
    "            out = []\n",
    "            last = stream.read(1)\n",
    "            # Don't loop forever\n",
    "            if last == '' and proc.poll() is not None:\n",
    "                break\n",
    "            while last not in newlines:\n",
    "                # Don't loop forever\n",
    "                if last == '' and proc.poll() is not None:\n",
    "                    break\n",
    "                out.append(last)\n",
    "                last = stream.read(1)\n",
    "            out = ''.join(out)\n",
    "            yield out\n",
    "\n",
    "\n",
    "def transfer(url):\n",
    "    import codecs\n",
    "    decoder = codecs.getincrementaldecoder(\"UTF-8\")()\n",
    "    cmd = [\"mega-get\", url, OUTPUT_PATH]\n",
    "    proc = subprocess.Popen(\n",
    "        cmd,\n",
    "        stdout=subprocess.PIPE,\n",
    "        stderr=subprocess.STDOUT,\n",
    "        # Make all end-of-lines '\\n'\n",
    "        universal_newlines=True,\n",
    "    )\n",
    "    for line in unbuffered(proc):\n",
    "        print(line)\n",
    "        \n",
    "if not transfer_to_path:\n",
    "  os.makedirs(\"downloads\", exist_ok=True)\n",
    "  OUTPUT_PATH = \"downloads\"\n",
    "\n",
    "\n",
    "class TimeoutError(Exception):\n",
    "    pass\n",
    "\n",
    "def timeout(seconds=10, error_message=os.strerror(errno.ETIME)):\n",
    "    def decorator(func):\n",
    "        def _handle_timeout(signum, frame):\n",
    "            raise TimeoutError(error_message)\n",
    "\n",
    "        def wrapper(*args, **kwargs):\n",
    "            signal.signal(signal.SIGALRM, _handle_timeout)\n",
    "            signal.alarm(seconds)\n",
    "            try:\n",
    "                result = func(*args, **kwargs)\n",
    "            finally:\n",
    "                signal.alarm(0)\n",
    "            return result\n",
    "\n",
    "        return wraps(func)(wrapper)\n",
    "\n",
    "    return decorator\n",
    "\n",
    "\n",
    "@timeout(10)\n",
    "def runShT(args):\n",
    "    return runSh(args, output=True)\n",
    "\n",
    "# def login(): \n",
    "#     runShT(f\"mega-login {MEGA_USERNAME} {MEGA_PASSWORD}\")\n",
    "\n",
    "# #if the username and password provided then login to MEGA. \n",
    "# if MEGA_USERNAME != \"\" and MEGA_PASSWORD != \"\":\n",
    "#     try:\n",
    "#         login()\n",
    "#     except TimeoutError:\n",
    "#         runSh('mega-whoami', output=True)\n",
    "# else:\n",
    "#     print(\"Please Input your Mega IDs.\")\n",
    "\n",
    "transfer(data_url)\n",
    "tagged_dataset_path = latest_file('./downloads')"
   ]
  },
  {
   "attachments": {},
   "cell_type": "markdown",
   "metadata": {},
   "source": [
    "## Specify Data Source and Output File"
   ]
  },
  {
   "cell_type": "code",
   "execution_count": null,
   "metadata": {},
   "outputs": [],
   "source": [
    "input_dir = '../dataset/Tile_Generator_Genetic_Algo_V1_16x16-2023-23-2--16-01-20'\n",
    "output_path = 'output.json'"
   ]
  },
  {
   "attachments": {},
   "cell_type": "markdown",
   "metadata": {},
   "source": [
    "## Run on Data Source"
   ]
  },
  {
   "cell_type": "code",
   "execution_count": null,
   "metadata": {},
   "outputs": [],
   "source": [
    "data_dict = create_input_data_dict(input_dir)"
   ]
  },
  {
   "attachments": {},
   "cell_type": "markdown",
   "metadata": {},
   "source": [
    "## Widgets (Start the App)"
   ]
  },
  {
   "cell_type": "code",
   "execution_count": null,
   "metadata": {},
   "outputs": [],
   "source": [
    "qualityModelWidgets = QualityModelWidgets(data_dict, output_path)\n",
    "qualityModelWidgets.start()"
   ]
  }
 ],
 "metadata": {
  "kernelspec": {
   "display_name": "env",
   "language": "python",
   "name": "python3"
  },
  "language_info": {
   "codemirror_mode": {
    "name": "ipython",
    "version": 3
   },
   "file_extension": ".py",
   "mimetype": "text/x-python",
   "name": "python",
   "nbconvert_exporter": "python",
   "pygments_lexer": "ipython3",
   "version": "3.9.4"
  },
  "orig_nbformat": 4,
  "vscode": {
   "interpreter": {
    "hash": "c518711542db1b7752d0b1005bb6b1db13084b2ce60111ae8895922158ddc3d4"
   }
  }
 },
 "nbformat": 4,
 "nbformat_minor": 2
}
