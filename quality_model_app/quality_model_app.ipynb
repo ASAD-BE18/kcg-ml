{
 "cells": [
  {
   "attachments": {},
   "cell_type": "markdown",
   "metadata": {},
   "source": [
    "# Quality Model App"
   ]
  },
  {
   "attachments": {},
   "cell_type": "markdown",
   "metadata": {},
   "source": [
    "## Requirements"
   ]
  },
  {
   "attachments": {},
   "cell_type": "markdown",
   "metadata": {},
   "source": [
    "### Widget Library"
   ]
  },
  {
   "cell_type": "code",
   "execution_count": null,
   "metadata": {},
   "outputs": [],
   "source": [
    "%pip install ipywidgets==7.7.3"
   ]
  },
  {
   "attachments": {},
   "cell_type": "markdown",
   "metadata": {},
   "source": [
    "### App Modules"
   ]
  },
  {
   "cell_type": "code",
   "execution_count": null,
   "metadata": {},
   "outputs": [],
   "source": [
    "import os\n",
    "import random\n",
    "import hashlib\n",
    "import uuid\n",
    "import json\n",
    "import datetime\n",
    "from tqdm import tqdm\n",
    "import ipywidgets as widgets\n",
    "from IPython.display import display, clear_output\n"
   ]
  },
  {
   "attachments": {},
   "cell_type": "markdown",
   "metadata": {},
   "source": [
    "## Preparing Data"
   ]
  },
  {
   "attachments": {},
   "cell_type": "markdown",
   "metadata": {},
   "source": [
    "### Google Drive Mounting\n",
    "Mount google drive to be used for storing the data."
   ]
  },
  {
   "cell_type": "code",
   "execution_count": null,
   "metadata": {},
   "outputs": [],
   "source": [
    "from google.colab import drive\n",
    "drive.mount._DEBUG = False\n",
    "drive.mount('/content/drive', force_remount=True)"
   ]
  },
  {
   "attachments": {},
   "cell_type": "markdown",
   "metadata": {},
   "source": [
    "### Specify the Data Location\n",
    "Specify the URL to fetch from Mega"
   ]
  },
  {
   "cell_type": "code",
   "execution_count": null,
   "metadata": {},
   "outputs": [],
   "source": [
    "# Data URL on Mega\n",
    "data_url = 'https://mega.nz/file/sBwG1DqZ#NcN7Q97CJPh5DB-tXGb3a4SV6Bubw9xPFRfqPQ4bmw8'\n",
    "# Destination path for data transfer\n",
    "transfer_to_path = ''"
   ]
  },
  {
   "attachments": {},
   "cell_type": "markdown",
   "metadata": {},
   "source": [
    "### Mega Installation"
   ]
  },
  {
   "cell_type": "code",
   "execution_count": null,
   "metadata": {},
   "outputs": [],
   "source": [
    "import urllib.request\n",
    "\n",
    "HOME = os.path.expanduser(\"~\")\n",
    "if not os.path.exists(f\"{HOME}/.ipython/ocr.py\"):\n",
    "    hCode = \"https://raw.githubusercontent.com/biplobsd/\" \\\n",
    "                \"OneClickRun/master/res/ocr.py\"\n",
    "    urllib.request.urlretrieve(hCode, f\"{HOME}/.ipython/ocr.py\")\n",
    "\n",
    "from ocr import (runSh, loadingAn)\n",
    "\n",
    "if not os.path.exists(\"/usr/bin/mega-cmd\"):\n",
    "    loadingAn()\n",
    "    print(\"Installing MEGA ...\")\n",
    "    runSh('sudo apt-get -y update')\n",
    "    runSh('sudo apt-get -y install libmms0 libc-ares2 libc6 libcrypto++6 libgcc1 libmediainfo0v5 libpcre3 libpcrecpp0v5 libssl1.1 libstdc++6 libzen0v5 zlib1g apt-transport-https')\n",
    "    runSh('sudo curl -sL -o /var/cache/apt/archives/MEGAcmd.deb https://mega.nz/linux/MEGAsync/Debian_9.0/amd64/megacmd-Debian_9.0_amd64.deb', output=True)\n",
    "    runSh('sudo dpkg -i /var/cache/apt/archives/MEGAcmd.deb', output=True)\n",
    "    print(\"MEGA is installed.\")\n",
    "    clear_output()"
   ]
  },
  {
   "attachments": {},
   "cell_type": "markdown",
   "metadata": {},
   "source": [
    "### Transfer Data from Mega to Google Drive"
   ]
  },
  {
   "cell_type": "code",
   "execution_count": null,
   "metadata": {},
   "outputs": [],
   "source": [
    "import os\n",
    "import subprocess\n",
    "import contextlib\n",
    "from functools import wraps\n",
    "import errno\n",
    "import signal\n",
    "import subprocess\n",
    "import glob\n",
    "\n",
    "# Unix, Windows and old Macintosh end-of-line\n",
    "newlines = ['\\n', '\\r\\n', '\\r']\n",
    "\n",
    "def latest_file(folder):\n",
    "  list_of_files = glob.glob(f'{folder}/*') # * means all \n",
    "  latest_file = max(list_of_files, key=os.path.getctime)\n",
    "  return latest_file\n",
    "\n",
    "def unbuffered(proc, stream='stdout'):\n",
    "    stream = getattr(proc, stream)\n",
    "    with contextlib.closing(stream):\n",
    "        while True:\n",
    "            out = []\n",
    "            last = stream.read(1)\n",
    "            # Don't loop forever\n",
    "            if last == '' and proc.poll() is not None:\n",
    "                break\n",
    "            while last not in newlines:\n",
    "                # Don't loop forever\n",
    "                if last == '' and proc.poll() is not None:\n",
    "                    break\n",
    "                out.append(last)\n",
    "                last = stream.read(1)\n",
    "            out = ''.join(out)\n",
    "            yield out\n",
    "\n",
    "\n",
    "def transfer(url):\n",
    "    cmd = [\"mega-get\", url, OUTPUT_PATH]\n",
    "    proc = subprocess.Popen(\n",
    "        cmd,\n",
    "        stdout=subprocess.PIPE,\n",
    "        stderr=subprocess.STDOUT,\n",
    "        # Make all end-of-lines '\\n'\n",
    "        universal_newlines=True,\n",
    "    )\n",
    "    for line in unbuffered(proc):\n",
    "        print(line)\n",
    "        \n",
    "if not transfer_to_path:\n",
    "  os.makedirs(\"downloads\", exist_ok=True)\n",
    "  OUTPUT_PATH = \"downloads\"\n",
    "\n",
    "\n",
    "class TimeoutError(Exception):\n",
    "    pass\n",
    "\n",
    "def timeout(seconds=10, error_message=os.strerror(errno.ETIME)):\n",
    "    def decorator(func):\n",
    "        def _handle_timeout(signum, frame):\n",
    "            raise TimeoutError(error_message)\n",
    "\n",
    "        def wrapper(*args, **kwargs):\n",
    "            signal.signal(signal.SIGALRM, _handle_timeout)\n",
    "            signal.alarm(seconds)\n",
    "            try:\n",
    "                result = func(*args, **kwargs)\n",
    "            finally:\n",
    "                signal.alarm(0)\n",
    "            return result\n",
    "\n",
    "        return wraps(func)(wrapper)\n",
    "\n",
    "    return decorator\n",
    "\n",
    "\n",
    "@timeout(10)\n",
    "def runShT(args):\n",
    "    return runSh(args, output=True)\n",
    "\n",
    "transfer(data_url)\n",
    "tagged_dataset_path = latest_file('./downloads')"
   ]
  },
  {
   "attachments": {},
   "cell_type": "markdown",
   "metadata": {},
   "source": [
    "## Specify Data Source and Output File"
   ]
  },
  {
   "cell_type": "code",
   "execution_count": null,
   "metadata": {},
   "outputs": [],
   "source": [
    "input_dir = './downloads/Tile_Generator_Genetic_Algo_V1_16x16-2023-23-2--16-01-20'\n",
    "output_path = 'output.json'"
   ]
  },
  {
   "attachments": {},
   "cell_type": "markdown",
   "metadata": {},
   "source": [
    "## Functions Definition"
   ]
  },
  {
   "attachments": {},
   "cell_type": "markdown",
   "metadata": {},
   "source": [
    "### Compute Hash"
   ]
  },
  {
   "cell_type": "code",
   "execution_count": null,
   "metadata": {},
   "outputs": [],
   "source": [
    "import hashlib\n",
    "\n",
    "def compute_hash(file_path):\n",
    "    with open(file_path, 'rb') as img_file:\n",
    "        img_bytes = img_file.read()\n",
    "    # Compute hash\n",
    "    hasher = hashlib.sha256()\n",
    "    hasher.update(img_bytes)\n",
    "    hash_id = hasher.hexdigest()\n",
    "    hasher = hashlib.sha256()\n",
    "    # hasher.update(img.tobytes())\n",
    "    # hash_id = hasher.hexdigest()\n",
    "    return hash_id\n"
   ]
  },
  {
   "attachments": {},
   "cell_type": "markdown",
   "metadata": {},
   "source": [
    "## Run on Data Source"
   ]
  },
  {
   "attachments": {},
   "cell_type": "markdown",
   "metadata": {},
   "source": [
    "### Creating Dictionary from Input Data "
   ]
  },
  {
   "cell_type": "code",
   "execution_count": null,
   "metadata": {},
   "outputs": [],
   "source": [
    "''' Data dictionay creator function'''\n",
    "def create_input_data_dict(input_dir):\n",
    "\n",
    "    # Placeholder for dict to contain result from running on data source.\n",
    "    data_dict = {}\n",
    "\n",
    "    print ('[INFO] Running on Data Source...')\n",
    "\n",
    "    # Walking thru files\n",
    "    for root, _, files in os.walk(input_dir):\n",
    "        for file in tqdm(files):\n",
    "            # Get file path\n",
    "            file_path = f'{root}/{file}'\n",
    "            # Check if file is png or jpg\n",
    "            if os.path.splitext(file_path)[-1] == '.png' or os.path.splitext(file_path)[-1] == '.jpg':\n",
    "                try:\n",
    "                    # Compute hash\n",
    "                    hash_id = compute_hash(file_path)\n",
    "                    data_dict[hash_id]={'file_path':file_path, 'file_name':file}\n",
    "                except Exception as e:\n",
    "                    print [f'[WARNING] Error when processing file: {e}']\n",
    "            \n",
    "    # Number of images\n",
    "    n_images = len(data_dict)\n",
    "    print (f'[INFO] Completed. Number of images: {n_images}')\n",
    "\n",
    "    return data_dict\n",
    "\n",
    "data_dict = create_input_data_dict(input_dir)"
   ]
  },
  {
   "attachments": {},
   "cell_type": "markdown",
   "metadata": {},
   "source": [
    "## Widgets (Start the App)"
   ]
  },
  {
   "cell_type": "code",
   "execution_count": null,
   "metadata": {},
   "outputs": [],
   "source": [
    "qualityModelWidgets = QualityModelWidgets(data_dict, output_path)\n",
    "qualityModelWidgets.start()"
   ]
  }
 ],
 "metadata": {
  "kernelspec": {
   "display_name": "env",
   "language": "python",
   "name": "python3"
  },
  "language_info": {
   "codemirror_mode": {
    "name": "ipython",
    "version": 3
   },
   "file_extension": ".py",
   "mimetype": "text/x-python",
   "name": "python",
   "nbconvert_exporter": "python",
   "pygments_lexer": "ipython3",
   "version": "3.9.4"
  },
  "orig_nbformat": 4,
  "vscode": {
   "interpreter": {
    "hash": "c518711542db1b7752d0b1005bb6b1db13084b2ce60111ae8895922158ddc3d4"
   }
  }
 },
 "nbformat": 4,
 "nbformat_minor": 2
}
